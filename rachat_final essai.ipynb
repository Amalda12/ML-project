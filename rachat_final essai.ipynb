{
 "cells": [
  {
   "cell_type": "code",
   "execution_count": 88,
   "id": "eddfd06a",
   "metadata": {},
   "outputs": [],
   "source": [
    "import numpy as np\n",
    "import pandas as pd\n",
    "import matplotlib.pyplot as plt\n",
    "import seaborn as sns"
   ]
  },
  {
   "cell_type": "code",
   "execution_count": 89,
   "id": "fcb8ed64",
   "metadata": {},
   "outputs": [
    {
     "name": "stdout",
     "output_type": "stream",
     "text": [
      "No Warning Shown\n"
     ]
    }
   ],
   "source": [
    "import warnings\n",
    "warnings.filterwarnings('ignore')\n",
    "warnings.warn('DelftStack')\n",
    "warnings.warn('Do not show this message')\n",
    "print(\"No Warning Shown\")"
   ]
  },
  {
   "cell_type": "code",
   "execution_count": 90,
   "id": "97bf0348",
   "metadata": {},
   "outputs": [],
   "source": [
    "pd.set_option('display.max_row', 1000) #affichier 100 lignes \n",
    "pd.set_option('display.max_column', 16) #affichier 15 colonnes "
   ]
  },
  {
   "cell_type": "code",
   "execution_count": 91,
   "id": "8ad1d9d3",
   "metadata": {},
   "outputs": [],
   "source": [
    "data = pd.read_excel(r\"C:\\Users\\amald\\OneDrive\\Documents\\MEMOIRE_IFID\\DataFinale.xlsx\") #importer dataset"
   ]
  },
  {
   "cell_type": "code",
   "execution_count": 92,
   "id": "c7a27b5e",
   "metadata": {},
   "outputs": [
    {
     "data": {
      "text/html": [
       "<div>\n",
       "<style scoped>\n",
       "    .dataframe tbody tr th:only-of-type {\n",
       "        vertical-align: middle;\n",
       "    }\n",
       "\n",
       "    .dataframe tbody tr th {\n",
       "        vertical-align: top;\n",
       "    }\n",
       "\n",
       "    .dataframe thead th {\n",
       "        text-align: right;\n",
       "    }\n",
       "</style>\n",
       "<table border=\"1\" class=\"dataframe\">\n",
       "  <thead>\n",
       "    <tr style=\"text-align: right;\">\n",
       "      <th></th>\n",
       "      <th>Rachat</th>\n",
       "      <th>Prime</th>\n",
       "      <th>Fréquence</th>\n",
       "      <th>Réseau_Distribution</th>\n",
       "      <th>Age_Souscription</th>\n",
       "      <th>Age_Survenance</th>\n",
       "      <th>Sexe</th>\n",
       "      <th>Ancienneté_Contrat</th>\n",
       "    </tr>\n",
       "  </thead>\n",
       "  <tbody>\n",
       "    <tr>\n",
       "      <th>0</th>\n",
       "      <td>1</td>\n",
       "      <td>&lt;1000</td>\n",
       "      <td>T</td>\n",
       "      <td>Producteur</td>\n",
       "      <td>18-40</td>\n",
       "      <td>50-60</td>\n",
       "      <td>F</td>\n",
       "      <td>15-20</td>\n",
       "    </tr>\n",
       "    <tr>\n",
       "      <th>1</th>\n",
       "      <td>1</td>\n",
       "      <td>&lt;1000</td>\n",
       "      <td>NaN</td>\n",
       "      <td>Producteur</td>\n",
       "      <td>40-50</td>\n",
       "      <td>&gt;60</td>\n",
       "      <td>F</td>\n",
       "      <td>&gt;=20</td>\n",
       "    </tr>\n",
       "    <tr>\n",
       "      <th>2</th>\n",
       "      <td>1</td>\n",
       "      <td>&lt;1000</td>\n",
       "      <td>A</td>\n",
       "      <td>Producteur</td>\n",
       "      <td>18-40</td>\n",
       "      <td>50-60</td>\n",
       "      <td>F</td>\n",
       "      <td>&gt;=20</td>\n",
       "    </tr>\n",
       "    <tr>\n",
       "      <th>3</th>\n",
       "      <td>1</td>\n",
       "      <td>&lt;1000</td>\n",
       "      <td>NaN</td>\n",
       "      <td>Producteur</td>\n",
       "      <td>18-40</td>\n",
       "      <td>50-60</td>\n",
       "      <td>M</td>\n",
       "      <td>15-20</td>\n",
       "    </tr>\n",
       "    <tr>\n",
       "      <th>4</th>\n",
       "      <td>1</td>\n",
       "      <td>&lt;1000</td>\n",
       "      <td>T</td>\n",
       "      <td>Producteur</td>\n",
       "      <td>40-50</td>\n",
       "      <td>&gt;60</td>\n",
       "      <td>M</td>\n",
       "      <td>15-20</td>\n",
       "    </tr>\n",
       "  </tbody>\n",
       "</table>\n",
       "</div>"
      ],
      "text/plain": [
       "   Rachat  Prime Fréquence Réseau_Distribution Age_Souscription  \\\n",
       "0       1  <1000         T          Producteur            18-40   \n",
       "1       1  <1000       NaN          Producteur            40-50   \n",
       "2       1  <1000         A          Producteur            18-40   \n",
       "3       1  <1000       NaN          Producteur            18-40   \n",
       "4       1  <1000         T          Producteur            40-50   \n",
       "\n",
       "  Age_Survenance Sexe Ancienneté_Contrat  \n",
       "0          50-60    F              15-20  \n",
       "1            >60    F               >=20  \n",
       "2          50-60    F               >=20  \n",
       "3          50-60    M              15-20  \n",
       "4            >60    M              15-20  "
      ]
     },
     "execution_count": 92,
     "metadata": {},
     "output_type": "execute_result"
    }
   ],
   "source": [
    "data.head()"
   ]
  },
  {
   "cell_type": "markdown",
   "id": "ce92ffaf",
   "metadata": {},
   "source": [
    "# Analyse de la forme des données"
   ]
  },
  {
   "cell_type": "code",
   "execution_count": 93,
   "id": "e7a5da73",
   "metadata": {},
   "outputs": [],
   "source": [
    "df = data.copy()"
   ]
  },
  {
   "cell_type": "code",
   "execution_count": 94,
   "id": "f1ee637d",
   "metadata": {},
   "outputs": [
    {
     "data": {
      "text/plain": [
       "(18901, 8)"
      ]
     },
     "execution_count": 94,
     "metadata": {},
     "output_type": "execute_result"
    }
   ],
   "source": [
    "df.shape #nombres de colonnes et lignes "
   ]
  },
  {
   "cell_type": "code",
   "execution_count": 95,
   "id": "3618c905",
   "metadata": {},
   "outputs": [
    {
     "data": {
      "text/plain": [
       "Rachat                  int64\n",
       "Prime                  object\n",
       "Fréquence              object\n",
       "Réseau_Distribution    object\n",
       "Age_Souscription       object\n",
       "Age_Survenance         object\n",
       "Sexe                   object\n",
       "Ancienneté_Contrat     object\n",
       "dtype: object"
      ]
     },
     "execution_count": 95,
     "metadata": {},
     "output_type": "execute_result"
    }
   ],
   "source": [
    "df.dtypes #types de variables "
   ]
  },
  {
   "cell_type": "code",
   "execution_count": 96,
   "id": "7ced6dcd",
   "metadata": {},
   "outputs": [
    {
     "data": {
      "text/plain": [
       "object    7\n",
       "int64     1\n",
       "dtype: int64"
      ]
     },
     "execution_count": 96,
     "metadata": {},
     "output_type": "execute_result"
    }
   ],
   "source": [
    "df.dtypes.value_counts() #compter le nombre de types de variables "
   ]
  },
  {
   "cell_type": "code",
   "execution_count": 97,
   "id": "5868fd84",
   "metadata": {},
   "outputs": [
    {
     "data": {
      "text/html": [
       "<div>\n",
       "<style scoped>\n",
       "    .dataframe tbody tr th:only-of-type {\n",
       "        vertical-align: middle;\n",
       "    }\n",
       "\n",
       "    .dataframe tbody tr th {\n",
       "        vertical-align: top;\n",
       "    }\n",
       "\n",
       "    .dataframe thead th {\n",
       "        text-align: right;\n",
       "    }\n",
       "</style>\n",
       "<table border=\"1\" class=\"dataframe\">\n",
       "  <thead>\n",
       "    <tr style=\"text-align: right;\">\n",
       "      <th></th>\n",
       "      <th>Rachat</th>\n",
       "      <th>Prime</th>\n",
       "      <th>Fréquence</th>\n",
       "      <th>Réseau_Distribution</th>\n",
       "      <th>Age_Souscription</th>\n",
       "      <th>Age_Survenance</th>\n",
       "      <th>Sexe</th>\n",
       "      <th>Ancienneté_Contrat</th>\n",
       "    </tr>\n",
       "  </thead>\n",
       "  <tbody>\n",
       "    <tr>\n",
       "      <th>0</th>\n",
       "      <td>False</td>\n",
       "      <td>False</td>\n",
       "      <td>False</td>\n",
       "      <td>False</td>\n",
       "      <td>False</td>\n",
       "      <td>False</td>\n",
       "      <td>False</td>\n",
       "      <td>False</td>\n",
       "    </tr>\n",
       "    <tr>\n",
       "      <th>1</th>\n",
       "      <td>False</td>\n",
       "      <td>False</td>\n",
       "      <td>True</td>\n",
       "      <td>False</td>\n",
       "      <td>False</td>\n",
       "      <td>False</td>\n",
       "      <td>False</td>\n",
       "      <td>False</td>\n",
       "    </tr>\n",
       "    <tr>\n",
       "      <th>2</th>\n",
       "      <td>False</td>\n",
       "      <td>False</td>\n",
       "      <td>False</td>\n",
       "      <td>False</td>\n",
       "      <td>False</td>\n",
       "      <td>False</td>\n",
       "      <td>False</td>\n",
       "      <td>False</td>\n",
       "    </tr>\n",
       "    <tr>\n",
       "      <th>3</th>\n",
       "      <td>False</td>\n",
       "      <td>False</td>\n",
       "      <td>True</td>\n",
       "      <td>False</td>\n",
       "      <td>False</td>\n",
       "      <td>False</td>\n",
       "      <td>False</td>\n",
       "      <td>False</td>\n",
       "    </tr>\n",
       "    <tr>\n",
       "      <th>4</th>\n",
       "      <td>False</td>\n",
       "      <td>False</td>\n",
       "      <td>False</td>\n",
       "      <td>False</td>\n",
       "      <td>False</td>\n",
       "      <td>False</td>\n",
       "      <td>False</td>\n",
       "      <td>False</td>\n",
       "    </tr>\n",
       "    <tr>\n",
       "      <th>...</th>\n",
       "      <td>...</td>\n",
       "      <td>...</td>\n",
       "      <td>...</td>\n",
       "      <td>...</td>\n",
       "      <td>...</td>\n",
       "      <td>...</td>\n",
       "      <td>...</td>\n",
       "      <td>...</td>\n",
       "    </tr>\n",
       "    <tr>\n",
       "      <th>18896</th>\n",
       "      <td>False</td>\n",
       "      <td>False</td>\n",
       "      <td>False</td>\n",
       "      <td>False</td>\n",
       "      <td>False</td>\n",
       "      <td>False</td>\n",
       "      <td>False</td>\n",
       "      <td>False</td>\n",
       "    </tr>\n",
       "    <tr>\n",
       "      <th>18897</th>\n",
       "      <td>False</td>\n",
       "      <td>False</td>\n",
       "      <td>False</td>\n",
       "      <td>False</td>\n",
       "      <td>False</td>\n",
       "      <td>False</td>\n",
       "      <td>False</td>\n",
       "      <td>False</td>\n",
       "    </tr>\n",
       "    <tr>\n",
       "      <th>18898</th>\n",
       "      <td>False</td>\n",
       "      <td>False</td>\n",
       "      <td>False</td>\n",
       "      <td>False</td>\n",
       "      <td>False</td>\n",
       "      <td>False</td>\n",
       "      <td>False</td>\n",
       "      <td>False</td>\n",
       "    </tr>\n",
       "    <tr>\n",
       "      <th>18899</th>\n",
       "      <td>False</td>\n",
       "      <td>False</td>\n",
       "      <td>False</td>\n",
       "      <td>False</td>\n",
       "      <td>False</td>\n",
       "      <td>False</td>\n",
       "      <td>False</td>\n",
       "      <td>False</td>\n",
       "    </tr>\n",
       "    <tr>\n",
       "      <th>18900</th>\n",
       "      <td>False</td>\n",
       "      <td>False</td>\n",
       "      <td>False</td>\n",
       "      <td>False</td>\n",
       "      <td>False</td>\n",
       "      <td>False</td>\n",
       "      <td>False</td>\n",
       "      <td>False</td>\n",
       "    </tr>\n",
       "  </tbody>\n",
       "</table>\n",
       "<p>18901 rows × 8 columns</p>\n",
       "</div>"
      ],
      "text/plain": [
       "       Rachat  Prime  Fréquence  Réseau_Distribution  Age_Souscription  \\\n",
       "0       False  False      False                False             False   \n",
       "1       False  False       True                False             False   \n",
       "2       False  False      False                False             False   \n",
       "3       False  False       True                False             False   \n",
       "4       False  False      False                False             False   \n",
       "...       ...    ...        ...                  ...               ...   \n",
       "18896   False  False      False                False             False   \n",
       "18897   False  False      False                False             False   \n",
       "18898   False  False      False                False             False   \n",
       "18899   False  False      False                False             False   \n",
       "18900   False  False      False                False             False   \n",
       "\n",
       "       Age_Survenance   Sexe  Ancienneté_Contrat  \n",
       "0               False  False               False  \n",
       "1               False  False               False  \n",
       "2               False  False               False  \n",
       "3               False  False               False  \n",
       "4               False  False               False  \n",
       "...               ...    ...                 ...  \n",
       "18896           False  False               False  \n",
       "18897           False  False               False  \n",
       "18898           False  False               False  \n",
       "18899           False  False               False  \n",
       "18900           False  False               False  \n",
       "\n",
       "[18901 rows x 8 columns]"
      ]
     },
     "execution_count": 97,
     "metadata": {},
     "output_type": "execute_result"
    }
   ],
   "source": [
    "df.isna()"
   ]
  },
  {
   "cell_type": "code",
   "execution_count": 98,
   "id": "7f8a1957",
   "metadata": {},
   "outputs": [
    {
     "data": {
      "text/plain": [
       "<AxesSubplot:>"
      ]
     },
     "execution_count": 98,
     "metadata": {},
     "output_type": "execute_result"
    },
    {
     "data": {
      "image/png": "[encoded data removed]",
      "text/plain": [
       "<Figure size 1440x720 with 1 Axes>"
      ]
     },
     "metadata": {
      "needs_background": "light"
     },
     "output_type": "display_data"
    }
   ],
   "source": [
    "plt.figure(figsize=(20,10))\n",
    "sns.heatmap(df.isna(), cbar=False)"
   ]
  },
  {
   "cell_type": "code",
   "execution_count": 99,
   "id": "70ac3c1e",
   "metadata": {},
   "outputs": [
    {
     "data": {
      "text/plain": [
       "Rachat                 0.000000\n",
       "Prime                  0.000000\n",
       "Réseau_Distribution    0.000000\n",
       "Sexe                   0.000000\n",
       "Ancienneté_Contrat     0.000000\n",
       "Age_Survenance         0.000106\n",
       "Age_Souscription       0.000635\n",
       "Fréquence              0.054706\n",
       "dtype: float64"
      ]
     },
     "execution_count": 99,
     "metadata": {},
     "output_type": "execute_result"
    }
   ],
   "source": [
    "(df.isna().sum()/df.shape[0]).sort_values(ascending=True) #pourcentages de valeurs manquantes par variable par ordre ascendent"
   ]
  },
  {
   "cell_type": "code",
   "execution_count": 100,
   "id": "43832cd6",
   "metadata": {},
   "outputs": [
    {
     "data": {
      "text/html": [
       "<div>\n",
       "<style scoped>\n",
       "    .dataframe tbody tr th:only-of-type {\n",
       "        vertical-align: middle;\n",
       "    }\n",
       "\n",
       "    .dataframe tbody tr th {\n",
       "        vertical-align: top;\n",
       "    }\n",
       "\n",
       "    .dataframe thead th {\n",
       "        text-align: right;\n",
       "    }\n",
       "</style>\n",
       "<table border=\"1\" class=\"dataframe\">\n",
       "  <thead>\n",
       "    <tr style=\"text-align: right;\">\n",
       "      <th></th>\n",
       "      <th>Rachat</th>\n",
       "      <th>Prime</th>\n",
       "      <th>Fréquence</th>\n",
       "      <th>Réseau_Distribution</th>\n",
       "      <th>Age_Souscription</th>\n",
       "      <th>Age_Survenance</th>\n",
       "      <th>Sexe</th>\n",
       "      <th>Ancienneté_Contrat</th>\n",
       "    </tr>\n",
       "  </thead>\n",
       "  <tbody>\n",
       "    <tr>\n",
       "      <th>0</th>\n",
       "      <td>1</td>\n",
       "      <td>&lt;1000</td>\n",
       "      <td>T</td>\n",
       "      <td>Producteur</td>\n",
       "      <td>18-40</td>\n",
       "      <td>50-60</td>\n",
       "      <td>F</td>\n",
       "      <td>15-20</td>\n",
       "    </tr>\n",
       "    <tr>\n",
       "      <th>1</th>\n",
       "      <td>1</td>\n",
       "      <td>&lt;1000</td>\n",
       "      <td>NaN</td>\n",
       "      <td>Producteur</td>\n",
       "      <td>40-50</td>\n",
       "      <td>&gt;60</td>\n",
       "      <td>F</td>\n",
       "      <td>&gt;=20</td>\n",
       "    </tr>\n",
       "    <tr>\n",
       "      <th>2</th>\n",
       "      <td>1</td>\n",
       "      <td>&lt;1000</td>\n",
       "      <td>A</td>\n",
       "      <td>Producteur</td>\n",
       "      <td>18-40</td>\n",
       "      <td>50-60</td>\n",
       "      <td>F</td>\n",
       "      <td>&gt;=20</td>\n",
       "    </tr>\n",
       "    <tr>\n",
       "      <th>3</th>\n",
       "      <td>1</td>\n",
       "      <td>&lt;1000</td>\n",
       "      <td>NaN</td>\n",
       "      <td>Producteur</td>\n",
       "      <td>18-40</td>\n",
       "      <td>50-60</td>\n",
       "      <td>M</td>\n",
       "      <td>15-20</td>\n",
       "    </tr>\n",
       "    <tr>\n",
       "      <th>4</th>\n",
       "      <td>1</td>\n",
       "      <td>&lt;1000</td>\n",
       "      <td>T</td>\n",
       "      <td>Producteur</td>\n",
       "      <td>40-50</td>\n",
       "      <td>&gt;60</td>\n",
       "      <td>M</td>\n",
       "      <td>15-20</td>\n",
       "    </tr>\n",
       "    <tr>\n",
       "      <th>...</th>\n",
       "      <td>...</td>\n",
       "      <td>...</td>\n",
       "      <td>...</td>\n",
       "      <td>...</td>\n",
       "      <td>...</td>\n",
       "      <td>...</td>\n",
       "      <td>...</td>\n",
       "      <td>...</td>\n",
       "    </tr>\n",
       "    <tr>\n",
       "      <th>18896</th>\n",
       "      <td>1</td>\n",
       "      <td>5000-10000</td>\n",
       "      <td>T</td>\n",
       "      <td>Producteur</td>\n",
       "      <td>40-50</td>\n",
       "      <td>40-50</td>\n",
       "      <td>F</td>\n",
       "      <td>&lt;10</td>\n",
       "    </tr>\n",
       "    <tr>\n",
       "      <th>18897</th>\n",
       "      <td>1</td>\n",
       "      <td>5000-10000</td>\n",
       "      <td>T</td>\n",
       "      <td>Producteur</td>\n",
       "      <td>50-60</td>\n",
       "      <td>50-60</td>\n",
       "      <td>M</td>\n",
       "      <td>&lt;10</td>\n",
       "    </tr>\n",
       "    <tr>\n",
       "      <th>18898</th>\n",
       "      <td>0</td>\n",
       "      <td>5000-10000</td>\n",
       "      <td>A</td>\n",
       "      <td>Producteur</td>\n",
       "      <td>&gt;60</td>\n",
       "      <td>&gt;60</td>\n",
       "      <td>F</td>\n",
       "      <td>&lt;10</td>\n",
       "    </tr>\n",
       "    <tr>\n",
       "      <th>18899</th>\n",
       "      <td>1</td>\n",
       "      <td>5000-10000</td>\n",
       "      <td>S</td>\n",
       "      <td>Producteur</td>\n",
       "      <td>50-60</td>\n",
       "      <td>50-60</td>\n",
       "      <td>M</td>\n",
       "      <td>&lt;10</td>\n",
       "    </tr>\n",
       "    <tr>\n",
       "      <th>18900</th>\n",
       "      <td>1</td>\n",
       "      <td>5000-10000</td>\n",
       "      <td>A</td>\n",
       "      <td>Producteur</td>\n",
       "      <td>40-50</td>\n",
       "      <td>40-50</td>\n",
       "      <td>M</td>\n",
       "      <td>&lt;10</td>\n",
       "    </tr>\n",
       "  </tbody>\n",
       "</table>\n",
       "<p>18901 rows × 8 columns</p>\n",
       "</div>"
      ],
      "text/plain": [
       "       Rachat       Prime Fréquence Réseau_Distribution Age_Souscription  \\\n",
       "0           1       <1000         T          Producteur            18-40   \n",
       "1           1       <1000       NaN          Producteur            40-50   \n",
       "2           1       <1000         A          Producteur            18-40   \n",
       "3           1       <1000       NaN          Producteur            18-40   \n",
       "4           1       <1000         T          Producteur            40-50   \n",
       "...       ...         ...       ...                 ...              ...   \n",
       "18896       1  5000-10000         T          Producteur            40-50   \n",
       "18897       1  5000-10000         T          Producteur            50-60   \n",
       "18898       0  5000-10000         A          Producteur              >60   \n",
       "18899       1  5000-10000         S          Producteur            50-60   \n",
       "18900       1  5000-10000         A          Producteur            40-50   \n",
       "\n",
       "      Age_Survenance Sexe Ancienneté_Contrat  \n",
       "0              50-60    F              15-20  \n",
       "1                >60    F               >=20  \n",
       "2              50-60    F               >=20  \n",
       "3              50-60    M              15-20  \n",
       "4                >60    M              15-20  \n",
       "...              ...  ...                ...  \n",
       "18896          40-50    F                <10  \n",
       "18897          50-60    M                <10  \n",
       "18898            >60    F                <10  \n",
       "18899          50-60    M                <10  \n",
       "18900          40-50    M                <10  \n",
       "\n",
       "[18901 rows x 8 columns]"
      ]
     },
     "execution_count": 100,
     "metadata": {},
     "output_type": "execute_result"
    }
   ],
   "source": [
    "df"
   ]
  },
  {
   "cell_type": "code",
   "execution_count": 101,
   "id": "a0bd9148",
   "metadata": {},
   "outputs": [
    {
     "data": {
      "text/plain": [
       "0    0.953389\n",
       "1    0.046611\n",
       "Name: Rachat, dtype: float64"
      ]
     },
     "execution_count": 101,
     "metadata": {},
     "output_type": "execute_result"
    }
   ],
   "source": [
    "df['Rachat'].value_counts(normalize=True)"
   ]
  },
  {
   "cell_type": "markdown",
   "id": "35850152",
   "metadata": {},
   "source": [
    "### variables qualitatives "
   ]
  },
  {
   "cell_type": "code",
   "execution_count": 102,
   "id": "53338f29",
   "metadata": {},
   "outputs": [
    {
     "name": "stdout",
     "output_type": "stream",
     "text": [
      "Prime ['<1000' '>10000' '1000-2000' '2000-5000' '5000-10000']\n",
      "Fréquence ['T' nan 'A' 'S' 'M']\n",
      "Réseau_Distribution ['Producteur' 'Agent']\n",
      "Age_Souscription ['18-40' '40-50' '<18' '50-60' '>60' nan]\n",
      "Age_Survenance ['50-60' '>60' '40-50' '18-40' nan '<18']\n",
      "Sexe ['F' 'M']\n",
      "Ancienneté_Contrat ['15-20' '>=20' '10-15' '0-10' '<10']\n"
     ]
    }
   ],
   "source": [
    "for col in df.select_dtypes('object'):\n",
    "    print(col,df[col].unique() )"
   ]
  },
  {
   "cell_type": "code",
   "execution_count": 103,
   "id": "366c4afe",
   "metadata": {},
   "outputs": [
    {
     "name": "stdout",
     "output_type": "stream",
     "text": [
      "Prime--------------------------------------------- ['<1000' '>10000' '1000-2000' '2000-5000' '5000-10000']\n",
      "Fréquence----------------------------------------- ['T' nan 'A' 'S' 'M']\n",
      "Réseau_Distribution------------------------------- ['Producteur' 'Agent']\n",
      "Age_Souscription---------------------------------- ['18-40' '40-50' '<18' '50-60' '>60' nan]\n",
      "Age_Survenance------------------------------------ ['50-60' '>60' '40-50' '18-40' nan '<18']\n",
      "Sexe---------------------------------------------- ['F' 'M']\n",
      "Ancienneté_Contrat-------------------------------- ['15-20' '>=20' '10-15' '0-10' '<10']\n"
     ]
    }
   ],
   "source": [
    "for col in df.select_dtypes('object'):\n",
    "    print(f'{col :-<50} {df[col].unique()}') #on change la forme d'affichage"
   ]
  },
  {
   "cell_type": "markdown",
   "id": "f9d5ea8b",
   "metadata": {},
   "source": [
    "# Pré-traitement de données "
   ]
  },
  {
   "cell_type": "code",
   "execution_count": 104,
   "id": "4bdc2b1b",
   "metadata": {},
   "outputs": [
    {
     "data": {
      "text/html": [
       "<div>\n",
       "<style scoped>\n",
       "    .dataframe tbody tr th:only-of-type {\n",
       "        vertical-align: middle;\n",
       "    }\n",
       "\n",
       "    .dataframe tbody tr th {\n",
       "        vertical-align: top;\n",
       "    }\n",
       "\n",
       "    .dataframe thead th {\n",
       "        text-align: right;\n",
       "    }\n",
       "</style>\n",
       "<table border=\"1\" class=\"dataframe\">\n",
       "  <thead>\n",
       "    <tr style=\"text-align: right;\">\n",
       "      <th></th>\n",
       "      <th>Rachat</th>\n",
       "      <th>Prime</th>\n",
       "      <th>Fréquence</th>\n",
       "      <th>Réseau_Distribution</th>\n",
       "      <th>Age_Souscription</th>\n",
       "      <th>Age_Survenance</th>\n",
       "      <th>Sexe</th>\n",
       "      <th>Ancienneté_Contrat</th>\n",
       "    </tr>\n",
       "  </thead>\n",
       "  <tbody>\n",
       "    <tr>\n",
       "      <th>0</th>\n",
       "      <td>1</td>\n",
       "      <td>&lt;1000</td>\n",
       "      <td>T</td>\n",
       "      <td>Producteur</td>\n",
       "      <td>18-40</td>\n",
       "      <td>50-60</td>\n",
       "      <td>F</td>\n",
       "      <td>15-20</td>\n",
       "    </tr>\n",
       "    <tr>\n",
       "      <th>1</th>\n",
       "      <td>1</td>\n",
       "      <td>&lt;1000</td>\n",
       "      <td>NaN</td>\n",
       "      <td>Producteur</td>\n",
       "      <td>40-50</td>\n",
       "      <td>&gt;60</td>\n",
       "      <td>F</td>\n",
       "      <td>&gt;=20</td>\n",
       "    </tr>\n",
       "    <tr>\n",
       "      <th>2</th>\n",
       "      <td>1</td>\n",
       "      <td>&lt;1000</td>\n",
       "      <td>A</td>\n",
       "      <td>Producteur</td>\n",
       "      <td>18-40</td>\n",
       "      <td>50-60</td>\n",
       "      <td>F</td>\n",
       "      <td>&gt;=20</td>\n",
       "    </tr>\n",
       "    <tr>\n",
       "      <th>3</th>\n",
       "      <td>1</td>\n",
       "      <td>&lt;1000</td>\n",
       "      <td>NaN</td>\n",
       "      <td>Producteur</td>\n",
       "      <td>18-40</td>\n",
       "      <td>50-60</td>\n",
       "      <td>M</td>\n",
       "      <td>15-20</td>\n",
       "    </tr>\n",
       "    <tr>\n",
       "      <th>4</th>\n",
       "      <td>1</td>\n",
       "      <td>&lt;1000</td>\n",
       "      <td>T</td>\n",
       "      <td>Producteur</td>\n",
       "      <td>40-50</td>\n",
       "      <td>&gt;60</td>\n",
       "      <td>M</td>\n",
       "      <td>15-20</td>\n",
       "    </tr>\n",
       "  </tbody>\n",
       "</table>\n",
       "</div>"
      ],
      "text/plain": [
       "   Rachat  Prime Fréquence Réseau_Distribution Age_Souscription  \\\n",
       "0       1  <1000         T          Producteur            18-40   \n",
       "1       1  <1000       NaN          Producteur            40-50   \n",
       "2       1  <1000         A          Producteur            18-40   \n",
       "3       1  <1000       NaN          Producteur            18-40   \n",
       "4       1  <1000         T          Producteur            40-50   \n",
       "\n",
       "  Age_Survenance Sexe Ancienneté_Contrat  \n",
       "0          50-60    F              15-20  \n",
       "1            >60    F               >=20  \n",
       "2          50-60    F               >=20  \n",
       "3          50-60    M              15-20  \n",
       "4            >60    M              15-20  "
      ]
     },
     "execution_count": 104,
     "metadata": {},
     "output_type": "execute_result"
    }
   ],
   "source": [
    "df = data.copy()\n",
    "df.head()"
   ]
  },
  {
   "cell_type": "code",
   "execution_count": 105,
   "id": "4d65f5fb",
   "metadata": {},
   "outputs": [],
   "source": [
    "df.dropna(axis=0, inplace = True)"
   ]
  },
  {
   "cell_type": "code",
   "execution_count": 106,
   "id": "2af12a0a",
   "metadata": {},
   "outputs": [
    {
     "data": {
      "text/plain": [
       "(17859, 8)"
      ]
     },
     "execution_count": 106,
     "metadata": {},
     "output_type": "execute_result"
    }
   ],
   "source": [
    "df.shape"
   ]
  },
  {
   "cell_type": "code",
   "execution_count": 107,
   "id": "71541db6",
   "metadata": {},
   "outputs": [
    {
     "data": {
      "text/plain": [
       "Index(['Rachat', 'Prime', 'Fréquence', 'Réseau_Distribution',\n",
       "       'Age_Souscription', 'Age_Survenance', 'Sexe', 'Ancienneté_Contrat'],\n",
       "      dtype='object')"
      ]
     },
     "execution_count": 107,
     "metadata": {},
     "output_type": "execute_result"
    }
   ],
   "source": [
    "df.columns\n"
   ]
  },
  {
   "cell_type": "code",
   "execution_count": 108,
   "id": "bbb03bcb",
   "metadata": {},
   "outputs": [
    {
     "name": "stdout",
     "output_type": "stream",
     "text": [
      "Prime--------------------------------------------- ['<1000' '>10000' '1000-2000' '2000-5000' '5000-10000']\n",
      "Fréquence----------------------------------------- ['T' 'A' 'S' 'M']\n",
      "Réseau_Distribution------------------------------- ['Producteur' 'Agent']\n",
      "Age_Souscription---------------------------------- ['18-40' '40-50' '<18' '50-60' '>60']\n",
      "Age_Survenance------------------------------------ ['50-60' '>60' '40-50' '18-40']\n",
      "Sexe---------------------------------------------- ['F' 'M']\n",
      "Ancienneté_Contrat-------------------------------- ['15-20' '>=20' '10-15' '0-10' '<10']\n"
     ]
    }
   ],
   "source": [
    "for col in df.select_dtypes('object'):\n",
    "    print(f'{col :-<50} {df[col].unique()}') "
   ]
  },
  {
   "cell_type": "code",
   "execution_count": 109,
   "id": "1cf66104",
   "metadata": {},
   "outputs": [
    {
     "data": {
      "text/plain": [
       "(17859, 8)"
      ]
     },
     "execution_count": 109,
     "metadata": {},
     "output_type": "execute_result"
    }
   ],
   "source": [
    "df.shape\n"
   ]
  },
  {
   "cell_type": "markdown",
   "id": "ab9a61c8",
   "metadata": {},
   "source": [
    "## Encodage Selection des variables"
   ]
  },
  {
   "cell_type": "code",
   "execution_count": 110,
   "id": "025496e7",
   "metadata": {},
   "outputs": [
    {
     "data": {
      "text/html": [
       "<div>\n",
       "<style scoped>\n",
       "    .dataframe tbody tr th:only-of-type {\n",
       "        vertical-align: middle;\n",
       "    }\n",
       "\n",
       "    .dataframe tbody tr th {\n",
       "        vertical-align: top;\n",
       "    }\n",
       "\n",
       "    .dataframe thead th {\n",
       "        text-align: right;\n",
       "    }\n",
       "</style>\n",
       "<table border=\"1\" class=\"dataframe\">\n",
       "  <thead>\n",
       "    <tr style=\"text-align: right;\">\n",
       "      <th></th>\n",
       "      <th>Rachat</th>\n",
       "      <th>Prime_1000-2000</th>\n",
       "      <th>Prime_2000-5000</th>\n",
       "      <th>Prime_5000-10000</th>\n",
       "      <th>Prime_&lt;1000</th>\n",
       "      <th>Prime_&gt;10000</th>\n",
       "      <th>Fréquence_A</th>\n",
       "      <th>Fréquence_M</th>\n",
       "      <th>...</th>\n",
       "      <th>Age_Survenance_&gt;60</th>\n",
       "      <th>Sexe_F</th>\n",
       "      <th>Sexe_M</th>\n",
       "      <th>Ancienneté_Contrat_0-10</th>\n",
       "      <th>Ancienneté_Contrat_10-15</th>\n",
       "      <th>Ancienneté_Contrat_15-20</th>\n",
       "      <th>Ancienneté_Contrat_&lt;10</th>\n",
       "      <th>Ancienneté_Contrat_&gt;=20</th>\n",
       "    </tr>\n",
       "  </thead>\n",
       "  <tbody>\n",
       "    <tr>\n",
       "      <th>0</th>\n",
       "      <td>1</td>\n",
       "      <td>0</td>\n",
       "      <td>0</td>\n",
       "      <td>0</td>\n",
       "      <td>1</td>\n",
       "      <td>0</td>\n",
       "      <td>0</td>\n",
       "      <td>0</td>\n",
       "      <td>...</td>\n",
       "      <td>0</td>\n",
       "      <td>1</td>\n",
       "      <td>0</td>\n",
       "      <td>0</td>\n",
       "      <td>0</td>\n",
       "      <td>1</td>\n",
       "      <td>0</td>\n",
       "      <td>0</td>\n",
       "    </tr>\n",
       "    <tr>\n",
       "      <th>2</th>\n",
       "      <td>1</td>\n",
       "      <td>0</td>\n",
       "      <td>0</td>\n",
       "      <td>0</td>\n",
       "      <td>1</td>\n",
       "      <td>0</td>\n",
       "      <td>1</td>\n",
       "      <td>0</td>\n",
       "      <td>...</td>\n",
       "      <td>0</td>\n",
       "      <td>1</td>\n",
       "      <td>0</td>\n",
       "      <td>0</td>\n",
       "      <td>0</td>\n",
       "      <td>0</td>\n",
       "      <td>0</td>\n",
       "      <td>1</td>\n",
       "    </tr>\n",
       "    <tr>\n",
       "      <th>4</th>\n",
       "      <td>1</td>\n",
       "      <td>0</td>\n",
       "      <td>0</td>\n",
       "      <td>0</td>\n",
       "      <td>1</td>\n",
       "      <td>0</td>\n",
       "      <td>0</td>\n",
       "      <td>0</td>\n",
       "      <td>...</td>\n",
       "      <td>1</td>\n",
       "      <td>0</td>\n",
       "      <td>1</td>\n",
       "      <td>0</td>\n",
       "      <td>0</td>\n",
       "      <td>1</td>\n",
       "      <td>0</td>\n",
       "      <td>0</td>\n",
       "    </tr>\n",
       "    <tr>\n",
       "      <th>5</th>\n",
       "      <td>0</td>\n",
       "      <td>0</td>\n",
       "      <td>0</td>\n",
       "      <td>0</td>\n",
       "      <td>1</td>\n",
       "      <td>0</td>\n",
       "      <td>1</td>\n",
       "      <td>0</td>\n",
       "      <td>...</td>\n",
       "      <td>0</td>\n",
       "      <td>0</td>\n",
       "      <td>1</td>\n",
       "      <td>0</td>\n",
       "      <td>0</td>\n",
       "      <td>0</td>\n",
       "      <td>0</td>\n",
       "      <td>1</td>\n",
       "    </tr>\n",
       "    <tr>\n",
       "      <th>7</th>\n",
       "      <td>1</td>\n",
       "      <td>0</td>\n",
       "      <td>0</td>\n",
       "      <td>0</td>\n",
       "      <td>1</td>\n",
       "      <td>0</td>\n",
       "      <td>1</td>\n",
       "      <td>0</td>\n",
       "      <td>...</td>\n",
       "      <td>1</td>\n",
       "      <td>0</td>\n",
       "      <td>1</td>\n",
       "      <td>0</td>\n",
       "      <td>0</td>\n",
       "      <td>0</td>\n",
       "      <td>0</td>\n",
       "      <td>1</td>\n",
       "    </tr>\n",
       "  </tbody>\n",
       "</table>\n",
       "<p>5 rows × 28 columns</p>\n",
       "</div>"
      ],
      "text/plain": [
       "   Rachat  Prime_1000-2000  Prime_2000-5000  Prime_5000-10000  Prime_<1000  \\\n",
       "0       1                0                0                 0            1   \n",
       "2       1                0                0                 0            1   \n",
       "4       1                0                0                 0            1   \n",
       "5       0                0                0                 0            1   \n",
       "7       1                0                0                 0            1   \n",
       "\n",
       "   Prime_>10000  Fréquence_A  Fréquence_M  ...  Age_Survenance_>60  Sexe_F  \\\n",
       "0             0            0            0  ...                   0       1   \n",
       "2             0            1            0  ...                   0       1   \n",
       "4             0            0            0  ...                   1       0   \n",
       "5             0            1            0  ...                   0       0   \n",
       "7             0            1            0  ...                   1       0   \n",
       "\n",
       "   Sexe_M  Ancienneté_Contrat_0-10  Ancienneté_Contrat_10-15  \\\n",
       "0       0                        0                         0   \n",
       "2       0                        0                         0   \n",
       "4       1                        0                         0   \n",
       "5       1                        0                         0   \n",
       "7       1                        0                         0   \n",
       "\n",
       "   Ancienneté_Contrat_15-20  Ancienneté_Contrat_<10  Ancienneté_Contrat_>=20  \n",
       "0                         1                       0                        0  \n",
       "2                         0                       0                        1  \n",
       "4                         1                       0                        0  \n",
       "5                         0                       0                        1  \n",
       "7                         0                       0                        1  \n",
       "\n",
       "[5 rows x 28 columns]"
      ]
     },
     "execution_count": 110,
     "metadata": {},
     "output_type": "execute_result"
    }
   ],
   "source": [
    "# Making dummy variables of two columns:\n",
    "df_dummies = pd.get_dummies(df, \n",
    "                            columns=['Prime', 'Fréquence', 'Réseau_Distribution',\n",
    "       'Age_Souscription', 'Age_Survenance', 'Sexe', 'Ancienneté_Contrat'])\n",
    "df_dummies.head()"
   ]
  },
  {
   "cell_type": "code",
   "execution_count": 111,
   "id": "4411c96d",
   "metadata": {},
   "outputs": [],
   "source": [
    "data = df_dummies.copy()"
   ]
  },
  {
   "cell_type": "code",
   "execution_count": 112,
   "id": "ff4cada0",
   "metadata": {},
   "outputs": [
    {
     "data": {
      "text/plain": [
       "Index(['Rachat', 'Prime_1000-2000', 'Prime_2000-5000', 'Prime_5000-10000',\n",
       "       'Prime_<1000', 'Prime_>10000', 'Fréquence_A', 'Fréquence_M',\n",
       "       'Fréquence_S', 'Fréquence_T', 'Réseau_Distribution_Agent',\n",
       "       'Réseau_Distribution_Producteur', 'Age_Souscription_18-40',\n",
       "       'Age_Souscription_40-50', 'Age_Souscription_50-60',\n",
       "       'Age_Souscription_<18', 'Age_Souscription_>60', 'Age_Survenance_18-40',\n",
       "       'Age_Survenance_40-50', 'Age_Survenance_50-60', 'Age_Survenance_>60',\n",
       "       'Sexe_F', 'Sexe_M', 'Ancienneté_Contrat_0-10',\n",
       "       'Ancienneté_Contrat_10-15', 'Ancienneté_Contrat_15-20',\n",
       "       'Ancienneté_Contrat_<10', 'Ancienneté_Contrat_>=20'],\n",
       "      dtype='object')"
      ]
     },
     "execution_count": 112,
     "metadata": {},
     "output_type": "execute_result"
    }
   ],
   "source": [
    "data.columns"
   ]
  },
  {
   "cell_type": "code",
   "execution_count": 113,
   "id": "f2d54617",
   "metadata": {},
   "outputs": [],
   "source": [
    "y=data['Rachat']\n",
    "X=data.drop('Rachat',axis=1)"
   ]
  },
  {
   "cell_type": "code",
   "execution_count": 114,
   "id": "6ed486e0",
   "metadata": {},
   "outputs": [
    {
     "data": {
      "text/html": [
       "<div>\n",
       "<style scoped>\n",
       "    .dataframe tbody tr th:only-of-type {\n",
       "        vertical-align: middle;\n",
       "    }\n",
       "\n",
       "    .dataframe tbody tr th {\n",
       "        vertical-align: top;\n",
       "    }\n",
       "\n",
       "    .dataframe thead th {\n",
       "        text-align: right;\n",
       "    }\n",
       "</style>\n",
       "<table border=\"1\" class=\"dataframe\">\n",
       "  <thead>\n",
       "    <tr style=\"text-align: right;\">\n",
       "      <th></th>\n",
       "      <th>Prime_1000-2000</th>\n",
       "      <th>Prime_2000-5000</th>\n",
       "      <th>Prime_5000-10000</th>\n",
       "      <th>Prime_&lt;1000</th>\n",
       "      <th>Prime_&gt;10000</th>\n",
       "      <th>Fréquence_A</th>\n",
       "      <th>Fréquence_M</th>\n",
       "      <th>Fréquence_S</th>\n",
       "      <th>...</th>\n",
       "      <th>Age_Survenance_&gt;60</th>\n",
       "      <th>Sexe_F</th>\n",
       "      <th>Sexe_M</th>\n",
       "      <th>Ancienneté_Contrat_0-10</th>\n",
       "      <th>Ancienneté_Contrat_10-15</th>\n",
       "      <th>Ancienneté_Contrat_15-20</th>\n",
       "      <th>Ancienneté_Contrat_&lt;10</th>\n",
       "      <th>Ancienneté_Contrat_&gt;=20</th>\n",
       "    </tr>\n",
       "  </thead>\n",
       "  <tbody>\n",
       "    <tr>\n",
       "      <th>0</th>\n",
       "      <td>0</td>\n",
       "      <td>0</td>\n",
       "      <td>0</td>\n",
       "      <td>1</td>\n",
       "      <td>0</td>\n",
       "      <td>0</td>\n",
       "      <td>0</td>\n",
       "      <td>0</td>\n",
       "      <td>...</td>\n",
       "      <td>0</td>\n",
       "      <td>1</td>\n",
       "      <td>0</td>\n",
       "      <td>0</td>\n",
       "      <td>0</td>\n",
       "      <td>1</td>\n",
       "      <td>0</td>\n",
       "      <td>0</td>\n",
       "    </tr>\n",
       "    <tr>\n",
       "      <th>2</th>\n",
       "      <td>0</td>\n",
       "      <td>0</td>\n",
       "      <td>0</td>\n",
       "      <td>1</td>\n",
       "      <td>0</td>\n",
       "      <td>1</td>\n",
       "      <td>0</td>\n",
       "      <td>0</td>\n",
       "      <td>...</td>\n",
       "      <td>0</td>\n",
       "      <td>1</td>\n",
       "      <td>0</td>\n",
       "      <td>0</td>\n",
       "      <td>0</td>\n",
       "      <td>0</td>\n",
       "      <td>0</td>\n",
       "      <td>1</td>\n",
       "    </tr>\n",
       "    <tr>\n",
       "      <th>4</th>\n",
       "      <td>0</td>\n",
       "      <td>0</td>\n",
       "      <td>0</td>\n",
       "      <td>1</td>\n",
       "      <td>0</td>\n",
       "      <td>0</td>\n",
       "      <td>0</td>\n",
       "      <td>0</td>\n",
       "      <td>...</td>\n",
       "      <td>1</td>\n",
       "      <td>0</td>\n",
       "      <td>1</td>\n",
       "      <td>0</td>\n",
       "      <td>0</td>\n",
       "      <td>1</td>\n",
       "      <td>0</td>\n",
       "      <td>0</td>\n",
       "    </tr>\n",
       "    <tr>\n",
       "      <th>5</th>\n",
       "      <td>0</td>\n",
       "      <td>0</td>\n",
       "      <td>0</td>\n",
       "      <td>1</td>\n",
       "      <td>0</td>\n",
       "      <td>1</td>\n",
       "      <td>0</td>\n",
       "      <td>0</td>\n",
       "      <td>...</td>\n",
       "      <td>0</td>\n",
       "      <td>0</td>\n",
       "      <td>1</td>\n",
       "      <td>0</td>\n",
       "      <td>0</td>\n",
       "      <td>0</td>\n",
       "      <td>0</td>\n",
       "      <td>1</td>\n",
       "    </tr>\n",
       "    <tr>\n",
       "      <th>7</th>\n",
       "      <td>0</td>\n",
       "      <td>0</td>\n",
       "      <td>0</td>\n",
       "      <td>1</td>\n",
       "      <td>0</td>\n",
       "      <td>1</td>\n",
       "      <td>0</td>\n",
       "      <td>0</td>\n",
       "      <td>...</td>\n",
       "      <td>1</td>\n",
       "      <td>0</td>\n",
       "      <td>1</td>\n",
       "      <td>0</td>\n",
       "      <td>0</td>\n",
       "      <td>0</td>\n",
       "      <td>0</td>\n",
       "      <td>1</td>\n",
       "    </tr>\n",
       "    <tr>\n",
       "      <th>...</th>\n",
       "      <td>...</td>\n",
       "      <td>...</td>\n",
       "      <td>...</td>\n",
       "      <td>...</td>\n",
       "      <td>...</td>\n",
       "      <td>...</td>\n",
       "      <td>...</td>\n",
       "      <td>...</td>\n",
       "      <td>...</td>\n",
       "      <td>...</td>\n",
       "      <td>...</td>\n",
       "      <td>...</td>\n",
       "      <td>...</td>\n",
       "      <td>...</td>\n",
       "      <td>...</td>\n",
       "      <td>...</td>\n",
       "      <td>...</td>\n",
       "    </tr>\n",
       "    <tr>\n",
       "      <th>18896</th>\n",
       "      <td>0</td>\n",
       "      <td>0</td>\n",
       "      <td>1</td>\n",
       "      <td>0</td>\n",
       "      <td>0</td>\n",
       "      <td>0</td>\n",
       "      <td>0</td>\n",
       "      <td>0</td>\n",
       "      <td>...</td>\n",
       "      <td>0</td>\n",
       "      <td>1</td>\n",
       "      <td>0</td>\n",
       "      <td>0</td>\n",
       "      <td>0</td>\n",
       "      <td>0</td>\n",
       "      <td>1</td>\n",
       "      <td>0</td>\n",
       "    </tr>\n",
       "    <tr>\n",
       "      <th>18897</th>\n",
       "      <td>0</td>\n",
       "      <td>0</td>\n",
       "      <td>1</td>\n",
       "      <td>0</td>\n",
       "      <td>0</td>\n",
       "      <td>0</td>\n",
       "      <td>0</td>\n",
       "      <td>0</td>\n",
       "      <td>...</td>\n",
       "      <td>0</td>\n",
       "      <td>0</td>\n",
       "      <td>1</td>\n",
       "      <td>0</td>\n",
       "      <td>0</td>\n",
       "      <td>0</td>\n",
       "      <td>1</td>\n",
       "      <td>0</td>\n",
       "    </tr>\n",
       "    <tr>\n",
       "      <th>18898</th>\n",
       "      <td>0</td>\n",
       "      <td>0</td>\n",
       "      <td>1</td>\n",
       "      <td>0</td>\n",
       "      <td>0</td>\n",
       "      <td>1</td>\n",
       "      <td>0</td>\n",
       "      <td>0</td>\n",
       "      <td>...</td>\n",
       "      <td>1</td>\n",
       "      <td>1</td>\n",
       "      <td>0</td>\n",
       "      <td>0</td>\n",
       "      <td>0</td>\n",
       "      <td>0</td>\n",
       "      <td>1</td>\n",
       "      <td>0</td>\n",
       "    </tr>\n",
       "    <tr>\n",
       "      <th>18899</th>\n",
       "      <td>0</td>\n",
       "      <td>0</td>\n",
       "      <td>1</td>\n",
       "      <td>0</td>\n",
       "      <td>0</td>\n",
       "      <td>0</td>\n",
       "      <td>0</td>\n",
       "      <td>1</td>\n",
       "      <td>...</td>\n",
       "      <td>0</td>\n",
       "      <td>0</td>\n",
       "      <td>1</td>\n",
       "      <td>0</td>\n",
       "      <td>0</td>\n",
       "      <td>0</td>\n",
       "      <td>1</td>\n",
       "      <td>0</td>\n",
       "    </tr>\n",
       "    <tr>\n",
       "      <th>18900</th>\n",
       "      <td>0</td>\n",
       "      <td>0</td>\n",
       "      <td>1</td>\n",
       "      <td>0</td>\n",
       "      <td>0</td>\n",
       "      <td>1</td>\n",
       "      <td>0</td>\n",
       "      <td>0</td>\n",
       "      <td>...</td>\n",
       "      <td>0</td>\n",
       "      <td>0</td>\n",
       "      <td>1</td>\n",
       "      <td>0</td>\n",
       "      <td>0</td>\n",
       "      <td>0</td>\n",
       "      <td>1</td>\n",
       "      <td>0</td>\n",
       "    </tr>\n",
       "  </tbody>\n",
       "</table>\n",
       "<p>17859 rows × 27 columns</p>\n",
       "</div>"
      ],
      "text/plain": [
       "       Prime_1000-2000  Prime_2000-5000  Prime_5000-10000  Prime_<1000  \\\n",
       "0                    0                0                 0            1   \n",
       "2                    0                0                 0            1   \n",
       "4                    0                0                 0            1   \n",
       "5                    0                0                 0            1   \n",
       "7                    0                0                 0            1   \n",
       "...                ...              ...               ...          ...   \n",
       "18896                0                0                 1            0   \n",
       "18897                0                0                 1            0   \n",
       "18898                0                0                 1            0   \n",
       "18899                0                0                 1            0   \n",
       "18900                0                0                 1            0   \n",
       "\n",
       "       Prime_>10000  Fréquence_A  Fréquence_M  Fréquence_S  ...  \\\n",
       "0                 0            0            0            0  ...   \n",
       "2                 0            1            0            0  ...   \n",
       "4                 0            0            0            0  ...   \n",
       "5                 0            1            0            0  ...   \n",
       "7                 0            1            0            0  ...   \n",
       "...             ...          ...          ...          ...  ...   \n",
       "18896             0            0            0            0  ...   \n",
       "18897             0            0            0            0  ...   \n",
       "18898             0            1            0            0  ...   \n",
       "18899             0            0            0            1  ...   \n",
       "18900             0            1            0            0  ...   \n",
       "\n",
       "       Age_Survenance_>60  Sexe_F  Sexe_M  Ancienneté_Contrat_0-10  \\\n",
       "0                       0       1       0                        0   \n",
       "2                       0       1       0                        0   \n",
       "4                       1       0       1                        0   \n",
       "5                       0       0       1                        0   \n",
       "7                       1       0       1                        0   \n",
       "...                   ...     ...     ...                      ...   \n",
       "18896                   0       1       0                        0   \n",
       "18897                   0       0       1                        0   \n",
       "18898                   1       1       0                        0   \n",
       "18899                   0       0       1                        0   \n",
       "18900                   0       0       1                        0   \n",
       "\n",
       "       Ancienneté_Contrat_10-15  Ancienneté_Contrat_15-20  \\\n",
       "0                             0                         1   \n",
       "2                             0                         0   \n",
       "4                             0                         1   \n",
       "5                             0                         0   \n",
       "7                             0                         0   \n",
       "...                         ...                       ...   \n",
       "18896                         0                         0   \n",
       "18897                         0                         0   \n",
       "18898                         0                         0   \n",
       "18899                         0                         0   \n",
       "18900                         0                         0   \n",
       "\n",
       "       Ancienneté_Contrat_<10  Ancienneté_Contrat_>=20  \n",
       "0                           0                        0  \n",
       "2                           0                        1  \n",
       "4                           0                        0  \n",
       "5                           0                        1  \n",
       "7                           0                        1  \n",
       "...                       ...                      ...  \n",
       "18896                       1                        0  \n",
       "18897                       1                        0  \n",
       "18898                       1                        0  \n",
       "18899                       1                        0  \n",
       "18900                       1                        0  \n",
       "\n",
       "[17859 rows x 27 columns]"
      ]
     },
     "execution_count": 114,
     "metadata": {},
     "output_type": "execute_result"
    }
   ],
   "source": [
    "X"
   ]
  },
  {
   "cell_type": "markdown",
   "id": "c907c98f",
   "metadata": {},
   "source": [
    "# Modélisation"
   ]
  },
  {
   "cell_type": "code",
   "execution_count": 115,
   "id": "df0d2992",
   "metadata": {},
   "outputs": [],
   "source": [
    "import sklearn\n",
    "from sklearn import tree\n",
    "from sklearn.metrics import roc_curve\n",
    "from sklearn.metrics import classification_report\n",
    "from sklearn.linear_model import LogisticRegression\n",
    "from sklearn.model_selection import KFold, cross_validate\n",
    "from sklearn.metrics import recall_score, f1_score, roc_auc_score\n",
    "from sklearn.metrics import confusion_matrix, accuracy_score, precision_score\n",
    "from sklearn.model_selection import train_test_split\n",
    "from sklearn.tree import DecisionTreeClassifier\n",
    "from sklearn.metrics import f1_score, confusion_matrix, classification_report\n",
    "from sklearn.model_selection import learning_curve"
   ]
  },
  {
   "cell_type": "code",
   "execution_count": 116,
   "id": "428bc1e6",
   "metadata": {},
   "outputs": [
    {
     "name": "stdout",
     "output_type": "stream",
     "text": [
      "[22 17 21  9 10 16  7 24 14 12 18  5 20 13 19  6  1  1  3  2 11 15  4 23\n",
      "  8  1  1]\n",
      "[[0.98796193 0.98348264 0.98012318 0.98040314 0.97535704]\n",
      " [0.98796193 0.98544233 0.98012318 0.98180291 0.97647718]\n",
      " [0.98796193 0.98516237 0.9518477  0.98292273 0.97423691]\n",
      " [0.98796193 0.98516237 0.9756439  0.98292273 0.92439093]\n",
      " [0.98796193 0.98460246 0.9756439  0.981243   0.92439093]\n",
      " [0.98796193 0.98460246 0.97648376 0.981243   0.94231308]\n",
      " [0.98796193 0.98460246 0.97676372 0.98152296 0.93811257]\n",
      " [0.98796193 0.98460246 0.97732363 0.98152296 0.96275553]\n",
      " [0.98796193 0.98460246 0.97704367 0.98152296 0.94595351]\n",
      " [0.98796193 0.98460246 0.97200448 0.98152296 0.94679362]\n",
      " [0.98796193 0.98460246 0.97200448 0.98152296 0.94679362]\n",
      " [0.98796193 0.98404255 0.97172452 0.98152296 0.94651358]\n",
      " [0.98796193 0.98404255 0.97340426 0.98152296 0.94651358]\n",
      " [0.98796193 0.9837626  0.97340426 0.98152296 0.94651358]\n",
      " [0.98796193 0.98404255 0.97340426 0.98152296 0.94735368]\n",
      " [0.98796193 0.9837626  0.97340426 0.98152296 0.95435452]\n",
      " [0.98796193 0.9837626  0.97340426 0.981243   0.95183422]\n",
      " [0.98796193 0.98320269 0.97340426 0.981243   0.95183422]\n",
      " [0.98796193 0.98320269 0.97340426 0.981243   0.95127415]\n",
      " [0.98796193 0.98320269 0.97340426 0.98096305 0.95127415]\n",
      " [0.98796193 0.98320269 0.97340426 0.98096305 0.95127415]\n",
      " [0.98796193 0.98320269 0.97340426 0.98096305 0.95127415]\n",
      " [0.98796193 0.98320269 0.97340426 0.98096305 0.95127415]\n",
      " [0.98796193 0.98320269 0.97340426 0.98096305 0.95155419]\n",
      " [0.98796193 0.98320269 0.97340426 0.98096305 0.95155419]]\n"
     ]
    }
   ],
   "source": [
    "from sklearn.feature_selection import RFECV\n",
    "selector = RFECV(LogisticRegression(random_state=0), step=1, min_features_to_select=3, cv=5)\n",
    "selector.fit(X, y)\n",
    "print(selector.ranking_)\n",
    "print(selector.grid_scores_)"
   ]
  },
  {
   "cell_type": "code",
   "execution_count": 117,
   "id": "db4653fc",
   "metadata": {},
   "outputs": [
    {
     "name": "stdout",
     "output_type": "stream",
     "text": [
      "All features:  27\n",
      "Index(['Prime_1000-2000', 'Prime_2000-5000', 'Prime_5000-10000', 'Prime_<1000',\n",
      "       'Prime_>10000', 'Fréquence_A', 'Fréquence_M', 'Fréquence_S',\n",
      "       'Fréquence_T', 'Réseau_Distribution_Agent',\n",
      "       'Réseau_Distribution_Producteur', 'Age_Souscription_18-40',\n",
      "       'Age_Souscription_40-50', 'Age_Souscription_50-60',\n",
      "       'Age_Souscription_<18', 'Age_Souscription_>60', 'Age_Survenance_18-40',\n",
      "       'Age_Survenance_40-50', 'Age_Survenance_50-60', 'Age_Survenance_>60',\n",
      "       'Sexe_F', 'Sexe_M', 'Ancienneté_Contrat_0-10',\n",
      "       'Ancienneté_Contrat_10-15', 'Ancienneté_Contrat_15-20',\n",
      "       'Ancienneté_Contrat_<10', 'Ancienneté_Contrat_>=20'],\n",
      "      dtype='object')\n",
      "Selected best:  4\n",
      "Index(['Age_Survenance_18-40', 'Age_Survenance_40-50',\n",
      "       'Ancienneté_Contrat_<10', 'Ancienneté_Contrat_>=20'],\n",
      "      dtype='object')\n"
     ]
    }
   ],
   "source": [
    "mask = selector.get_support()\n",
    "features = (X.columns) \n",
    "best_features = features[mask]\n",
    " \n",
    "print(\"All features: \", X.shape[1])\n",
    "print(features)\n",
    "print(\"Selected best: \", best_features.shape[0])\n",
    "print(features[mask]) "
   ]
  },
  {
   "cell_type": "code",
   "execution_count": 118,
   "id": "70f31b65",
   "metadata": {},
   "outputs": [],
   "source": [
    "var_select=['Age_Survenance_18-40', 'Age_Survenance_40-50',\n",
    "       'Ancienneté_Contrat_<10', 'Ancienneté_Contrat_>=20']\n",
    "X_lr=X[var_select]"
   ]
  },
  {
   "cell_type": "code",
   "execution_count": 119,
   "id": "4fc5bae0",
   "metadata": {},
   "outputs": [],
   "source": [
    "# Splitting Train and Test Data\n",
    "X_train_lr,X_test_lr,y_train_lr,y_test_lr  = train_test_split(X_lr,\n",
    "                                              y,\n",
    "                                              test_size=0.3,\n",
    "                                              random_state = 30)"
   ]
  },
  {
   "cell_type": "markdown",
   "id": "b33cb87b",
   "metadata": {},
   "source": [
    "## REGRESSION LOGISTIQUE"
   ]
  },
  {
   "cell_type": "code",
   "execution_count": 120,
   "id": "0c892038",
   "metadata": {},
   "outputs": [],
   "source": [
    "model_lr=LogisticRegression()\n",
    "model_lr.fit(X_train_lr, y_train_lr)\n",
    "pred_lr= model_lr.predict(X_test_lr)"
   ]
  },
  {
   "cell_type": "code",
   "execution_count": 121,
   "id": "d40fb003",
   "metadata": {},
   "outputs": [
    {
     "name": "stdout",
     "output_type": "stream",
     "text": [
      "[[5118   13]\n",
      " [  71  156]]\n",
      "              precision    recall  f1-score   support\n",
      "\n",
      "           0       0.99      1.00      0.99      5131\n",
      "           1       0.92      0.69      0.79       227\n",
      "\n",
      "    accuracy                           0.98      5358\n",
      "   macro avg       0.95      0.84      0.89      5358\n",
      "weighted avg       0.98      0.98      0.98      5358\n",
      "\n"
     ]
    }
   ],
   "source": [
    "# Evaluate\n",
    "print(confusion_matrix(y_test_lr, pred_lr))\n",
    "print(classification_report(y_test_lr, pred_lr))\n"
   ]
  },
  {
   "cell_type": "code",
   "execution_count": 122,
   "id": "a721a559",
   "metadata": {},
   "outputs": [
    {
     "name": "stdout",
     "output_type": "stream",
     "text": [
      "Best Score: 0.7698716549797435\n",
      "Best Hyperparameters: {'C': 0.001, 'fit_intercept': False, 'penalty': 'none', 'solver': 'newton-cg'}\n"
     ]
    }
   ],
   "source": [
    "# Define feature selection method\n",
    "from sklearn.model_selection import GridSearchCV\n",
    "from sklearn.model_selection import RepeatedStratifiedKFold\n",
    "\n",
    "model1 = LogisticRegression()\n",
    "\n",
    "params = {\n",
    "    'penalty'      : ['none', 'l1', 'l2', 'elasticnet'],\n",
    "    'C'            : [0.001, 0.005, 0.01, 0.25, 0.5, 0.75, 0.9, 1, 1.01, 1.05, 1.1, 1.15, 1.2],\n",
    "    'solver'       : ['newton-cg', 'lbfgs', 'liblinear'],\n",
    "    'fit_intercept': [True, False]\n",
    "}\n",
    "search = GridSearchCV(model1, params, scoring='f1', n_jobs=-1, cv=3)\n",
    "result = search.fit(X_train_lr, y_train_lr)\n",
    "\n",
    "# summarize result\n",
    "print('Best Score: %s' % result.best_score_)\n",
    "print('Best Hyperparameters: %s' % result.best_params_)"
   ]
  },
  {
   "cell_type": "code",
   "execution_count": 123,
   "id": "a6b511b2",
   "metadata": {},
   "outputs": [
    {
     "name": "stdout",
     "output_type": "stream",
     "text": [
      "[[5118   13]\n",
      " [  71  156]]\n",
      "              precision    recall  f1-score   support\n",
      "\n",
      "           0       0.99      1.00      0.99      5131\n",
      "           1       0.92      0.69      0.79       227\n",
      "\n",
      "    accuracy                           0.98      5358\n",
      "   macro avg       0.95      0.84      0.89      5358\n",
      "weighted avg       0.98      0.98      0.98      5358\n",
      "\n"
     ]
    }
   ],
   "source": [
    "model_lr_cv=LogisticRegression(C= 0.001, fit_intercept=False, penalty='none', solver='newton-cg')\n",
    "model_lr_cv.fit(X_train_lr, y_train_lr)\n",
    "pred_lr_cv= model_lr_cv.predict(X_test_lr)\n",
    "\n",
    "# Evaluate\n",
    "print(confusion_matrix(y_test_lr, pred_lr_cv))\n",
    "print(classification_report(y_test_lr, pred_lr_cv))"
   ]
  },
  {
   "cell_type": "code",
   "execution_count": 124,
   "id": "685c8f7f",
   "metadata": {},
   "outputs": [
    {
     "name": "stdout",
     "output_type": "stream",
     "text": [
      "0.842345525212988\n"
     ]
    }
   ],
   "source": [
    "from sklearn import metrics\n",
    "from sklearn.metrics import roc_auc_score\n",
    "auc_lr = metrics.roc_auc_score(y_test_lr,pred_lr_cv)\n",
    "print(auc_lr)"
   ]
  },
  {
   "cell_type": "code",
   "execution_count": 125,
   "id": "e464facb",
   "metadata": {},
   "outputs": [
    {
     "data": {
      "image/png": "[encoded data removed]",
      "text/plain": [
       "<Figure size 432x288 with 1 Axes>"
      ]
     },
     "metadata": {
      "needs_background": "light"
     },
     "output_type": "display_data"
    }
   ],
   "source": [
    "from sklearn import metrics\n",
    "\n",
    "def plot_roc_curve(fper, tper):\n",
    "    plt.plot(fper, tper, color='blue', label=\"ROC curve (area = %0.2f)\" % auc_lr)\n",
    "    plt.plot([0, 1], [0, 1], color='black', linestyle='--')\n",
    "    plt.xlabel('False Positive Rate')\n",
    "    plt.ylabel('True Positive Rate')\n",
    "    plt.title('Receiver Operating Characteristic Curve')\n",
    "    plt.legend()\n",
    "    plt.show()  \n",
    "fper, tper, thresholds = roc_curve(y_test_lr, pred_lr_cv)\n",
    "plot_roc_curve(fper, tper)"
   ]
  },
  {
   "cell_type": "markdown",
   "id": "7cf17204",
   "metadata": {},
   "source": [
    "## ARBRE DE DECISION"
   ]
  },
  {
   "cell_type": "code",
   "execution_count": 129,
   "id": "b1504474",
   "metadata": {},
   "outputs": [],
   "source": [
    "data = df_dummies.copy()"
   ]
  },
  {
   "cell_type": "code",
   "execution_count": 130,
   "id": "dafaa2f8",
   "metadata": {},
   "outputs": [],
   "source": [
    "y=data['Rachat']\n",
    "X=data.drop('Rachat',axis=1)"
   ]
  },
  {
   "cell_type": "code",
   "execution_count": 131,
   "id": "c3bbdc75",
   "metadata": {},
   "outputs": [
    {
     "name": "stdout",
     "output_type": "stream",
     "text": [
      "[14  9 11  6 18  8  4 19 16 10 17  2 12 22 23 24  1  1  3 21 13  7 20 15\n",
      "  5  1  1]\n",
      "[[0.98796193 0.98348264 0.98012318 0.98040314 0.97535704]\n",
      " [0.98796193 0.98544233 0.98012318 0.98180291 0.97647718]\n",
      " [0.98796193 0.98544233 0.97984323 0.98180291 0.97647718]\n",
      " [0.98796193 0.98516237 0.97984323 0.98180291 0.88994679]\n",
      " [0.98796193 0.98516237 0.95212766 0.98012318 0.88490619]\n",
      " [0.98740202 0.98404255 0.95212766 0.97956327 0.88406609]\n",
      " [0.98740202 0.98404255 0.95212766 0.97900336 0.88490619]\n",
      " [0.98740202 0.98432251 0.95296753 0.97956327 0.88602632]\n",
      " [0.98684211 0.98320269 0.95240761 0.98040314 0.88602632]\n",
      " [0.98796193 0.98236282 0.95240761 0.98040314 0.88630636]\n",
      " [0.98684211 0.98152296 0.95296753 0.97284434 0.90898908]\n",
      " [0.98600224 0.97844345 0.95352744 0.97088466 0.91010921]\n",
      " [0.98740202 0.97816349 0.95380739 0.97116461 0.91010921]\n",
      " [0.98712206 0.97928331 0.95324748 0.97032475 0.91542985]\n",
      " [0.98712206 0.97956327 0.95324748 0.97004479 0.91767012]\n",
      " [0.98740202 0.9787234  0.95324748 0.97088466 0.91626995]\n",
      " [0.98628219 0.97844345 0.95100784 0.97088466 0.91767012]\n",
      " [0.98628219 0.97956327 0.95128779 0.97116461 0.91823019]\n",
      " [0.98600224 0.97928331 0.95128779 0.97200448 0.91767012]\n",
      " [0.98628219 0.97984323 0.95128779 0.97284434 0.91767012]\n",
      " [0.98488242 0.97816349 0.95100784 0.97284434 0.91795015]\n",
      " [0.98488242 0.97788354 0.95044793 0.9731243  0.91430972]\n",
      " [0.98488242 0.9787234  0.95016797 0.97256439 0.91570989]\n",
      " [0.98488242 0.97788354 0.95016797 0.97256439 0.91514982]\n",
      " [0.98488242 0.97816349 0.95044793 0.97256439 0.91346962]]\n"
     ]
    }
   ],
   "source": [
    "from sklearn.feature_selection import RFECV\n",
    "selector = RFECV( DecisionTreeClassifier(random_state=0), step=1, min_features_to_select=3, cv=5)\n",
    "selector.fit(X, y)\n",
    "print(selector.ranking_)\n",
    "print(selector.grid_scores_)"
   ]
  },
  {
   "cell_type": "code",
   "execution_count": 132,
   "id": "66bca880",
   "metadata": {},
   "outputs": [
    {
     "name": "stdout",
     "output_type": "stream",
     "text": [
      "Selected best:  4\n",
      "Index(['Age_Survenance_18-40', 'Age_Survenance_40-50',\n",
      "       'Ancienneté_Contrat_<10', 'Ancienneté_Contrat_>=20'],\n",
      "      dtype='object')\n"
     ]
    }
   ],
   "source": [
    "mask = selector.get_support()\n",
    "features = (X.columns) \n",
    "best_features = features[mask]\n",
    "print(\"Selected best: \", best_features.shape[0])\n",
    "print(features[mask]) "
   ]
  },
  {
   "cell_type": "code",
   "execution_count": 134,
   "id": "594dfafe",
   "metadata": {},
   "outputs": [],
   "source": [
    "var_select=['Age_Survenance_18-40', 'Age_Survenance_40-50',\n",
    "       'Ancienneté_Contrat_<10', 'Ancienneté_Contrat_>=20']\n",
    "X_ad=X[var_select]"
   ]
  },
  {
   "cell_type": "code",
   "execution_count": 136,
   "id": "88c6585b",
   "metadata": {},
   "outputs": [],
   "source": [
    "# Splitting Train and Test Data\n",
    "X_train_ad,X_test_ad,y_train_ad,y_test_ad  = train_test_split(X_ad,\n",
    "                                              y,\n",
    "                                              test_size=0.3,\n",
    "                                              random_state = 42)\n"
   ]
  },
  {
   "cell_type": "code",
   "execution_count": 137,
   "id": "3e4daa37",
   "metadata": {},
   "outputs": [
    {
     "name": "stdout",
     "output_type": "stream",
     "text": [
      "[[5102   17]\n",
      " [  80  159]]\n",
      "              precision    recall  f1-score   support\n",
      "\n",
      "           0       0.98      1.00      0.99      5119\n",
      "           1       0.90      0.67      0.77       239\n",
      "\n",
      "    accuracy                           0.98      5358\n",
      "   macro avg       0.94      0.83      0.88      5358\n",
      "weighted avg       0.98      0.98      0.98      5358\n",
      "\n"
     ]
    }
   ],
   "source": [
    "model2 = DecisionTreeClassifier()\n",
    "model2.fit(X_train_ad, y_train_ad)\n",
    "pred2 = model2.predict(X_test_ad)\n",
    "\n",
    "# Evaluate\n",
    "print(confusion_matrix(y_test_ad, pred2))\n",
    "print(classification_report(y_test_ad, pred2))"
   ]
  },
  {
   "cell_type": "code",
   "execution_count": 138,
   "id": "fb7c4f0d",
   "metadata": {},
   "outputs": [
    {
     "name": "stdout",
     "output_type": "stream",
     "text": [
      "Best Score: 0.9814414846812255\n",
      "Best Hyperparameters: {'max_depth': 5, 'min_samples_leaf': 30, 'min_samples_split': 20}\n"
     ]
    }
   ],
   "source": [
    "# Define feature selection method\n",
    "from sklearn.model_selection import GridSearchCV\n",
    "from sklearn.model_selection import RepeatedStratifiedKFold\n",
    "model2 = DecisionTreeClassifier()\n",
    "\n",
    "params = {\n",
    "    'min_samples_split'      : [20,30,40,50,60,70,80,90,100,],\n",
    "    'max_depth'            : [5,6,7,8],\n",
    "    'min_samples_leaf'       : [30,50,75,100],\n",
    "}\n",
    "search = GridSearchCV(model2, params, scoring='accuracy', n_jobs=-1, cv=3)\n",
    "CV_model2 = search.fit(X_train_ad, y_train_ad)\n",
    "\n",
    "# summarize result\n",
    "print('Best Score: %s' % CV_model2.best_score_)\n",
    "print('Best Hyperparameters: %s' % CV_model2.best_params_)"
   ]
  },
  {
   "cell_type": "code",
   "execution_count": 139,
   "id": "8a7b0807",
   "metadata": {},
   "outputs": [
    {
     "name": "stdout",
     "output_type": "stream",
     "text": [
      "[[5102   17]\n",
      " [  80  159]]\n",
      "              precision    recall  f1-score   support\n",
      "\n",
      "           0       0.98      1.00      0.99      5119\n",
      "           1       0.90      0.67      0.77       239\n",
      "\n",
      "    accuracy                           0.98      5358\n",
      "   macro avg       0.94      0.83      0.88      5358\n",
      "weighted avg       0.98      0.98      0.98      5358\n",
      "\n"
     ]
    }
   ],
   "source": [
    "model2_cv = DecisionTreeClassifier(max_depth= 5,min_samples_leaf= 30, min_samples_split= 20)\n",
    "model2_cv.fit(X_train_ad, y_train_ad)\n",
    "pred2_cv = model2_cv.predict(X_test_ad)\n",
    "# Evaluate\n",
    "print(confusion_matrix(y_test_ad, pred2_cv))\n",
    "print(classification_report(y_test_ad, pred2_cv))"
   ]
  },
  {
   "cell_type": "code",
   "execution_count": 54,
   "id": "67310ee6",
   "metadata": {},
   "outputs": [
    {
     "data": {
      "image/png": "[encoded data removed]",
      "text/plain": [
       "<Figure size 3600x3600 with 1 Axes>"
      ]
     },
     "metadata": {
      "needs_background": "light"
     },
     "output_type": "display_data"
    }
   ],
   "source": [
    "from sklearn.tree import plot_tree\n",
    "plt.figure(figsize=(50,50))\n",
    "a = plot_tree(model2_cv, \n",
    "              feature_names=X_ad.columns,    \n",
    "              class_names=y.unique().astype(str), \n",
    "              filled=True, \n",
    "              rounded=True, \n",
    "              fontsize=14)\n",
    "plt.savefig('arbre.png', transparent=True,\n",
    "bbox_inches='tight',dpi=100)\n",
    "plt.show()"
   ]
  },
  {
   "cell_type": "code",
   "execution_count": 140,
   "id": "327a9df1",
   "metadata": {},
   "outputs": [
    {
     "data": {
      "image/png": "[encoded data removed]",
      "text/plain": [
       "<Figure size 360x360 with 1 Axes>"
      ]
     },
     "metadata": {
      "needs_background": "light"
     },
     "output_type": "display_data"
    }
   ],
   "source": [
    "feat_importances = pd.DataFrame(model2_cv.feature_importances_, index=X_ad.columns, columns=[\"Feature Importance\"])\n",
    "feat_importances.sort_values(by='Feature Importance', ascending=False, inplace=True)\n",
    "feat_importances.plot(kind='bar', figsize=(5,5), fontsize=10)\n",
    "plt.title(\"Feature Importance (Arbre de décision)\")\n",
    "plt.savefig('Featureinpo_arbre.png', transparent=True,\n",
    "bbox_inches='tight',dpi=100)\n",
    "plt.show()"
   ]
  },
  {
   "cell_type": "code",
   "execution_count": 141,
   "id": "784cb606",
   "metadata": {},
   "outputs": [
    {
     "data": {
      "text/html": [
       "<div>\n",
       "<style scoped>\n",
       "    .dataframe tbody tr th:only-of-type {\n",
       "        vertical-align: middle;\n",
       "    }\n",
       "\n",
       "    .dataframe tbody tr th {\n",
       "        vertical-align: top;\n",
       "    }\n",
       "\n",
       "    .dataframe thead th {\n",
       "        text-align: right;\n",
       "    }\n",
       "</style>\n",
       "<table border=\"1\" class=\"dataframe\">\n",
       "  <thead>\n",
       "    <tr style=\"text-align: right;\">\n",
       "      <th></th>\n",
       "      <th>Feature Importance</th>\n",
       "    </tr>\n",
       "  </thead>\n",
       "  <tbody>\n",
       "    <tr>\n",
       "      <th>Age_Survenance_40-50</th>\n",
       "      <td>0.635297</td>\n",
       "    </tr>\n",
       "    <tr>\n",
       "      <th>Age_Survenance_18-40</th>\n",
       "      <td>0.253947</td>\n",
       "    </tr>\n",
       "    <tr>\n",
       "      <th>Ancienneté_Contrat_&gt;=20</th>\n",
       "      <td>0.070265</td>\n",
       "    </tr>\n",
       "    <tr>\n",
       "      <th>Ancienneté_Contrat_&lt;10</th>\n",
       "      <td>0.040490</td>\n",
       "    </tr>\n",
       "  </tbody>\n",
       "</table>\n",
       "</div>"
      ],
      "text/plain": [
       "                         Feature Importance\n",
       "Age_Survenance_40-50               0.635297\n",
       "Age_Survenance_18-40               0.253947\n",
       "Ancienneté_Contrat_>=20            0.070265\n",
       "Ancienneté_Contrat_<10             0.040490"
      ]
     },
     "execution_count": 141,
     "metadata": {},
     "output_type": "execute_result"
    }
   ],
   "source": [
    "feat_importances"
   ]
  },
  {
   "cell_type": "code",
   "execution_count": 142,
   "id": "f4f3ff69",
   "metadata": {},
   "outputs": [
    {
     "name": "stdout",
     "output_type": "stream",
     "text": [
      "0.8309755027009885\n"
     ]
    }
   ],
   "source": [
    "auc_ad = metrics.roc_auc_score(y_test_ad,pred2_cv)\n",
    "print(auc_ad)"
   ]
  },
  {
   "cell_type": "markdown",
   "id": "3d2ea2e6",
   "metadata": {},
   "source": [
    "## RONDOM FOREST"
   ]
  },
  {
   "cell_type": "code",
   "execution_count": 143,
   "id": "4809e35c",
   "metadata": {},
   "outputs": [],
   "source": [
    "from sklearn.ensemble import RandomForestClassifier"
   ]
  },
  {
   "cell_type": "code",
   "execution_count": 144,
   "id": "eea4df90",
   "metadata": {},
   "outputs": [],
   "source": [
    "data1 = df_dummies.copy()"
   ]
  },
  {
   "cell_type": "code",
   "execution_count": 145,
   "id": "c049f787",
   "metadata": {},
   "outputs": [],
   "source": [
    "y=data1['Rachat']\n",
    "X=data1.drop('Rachat',axis=1)"
   ]
  },
  {
   "cell_type": "code",
   "execution_count": 146,
   "id": "4ffc7bc1",
   "metadata": {},
   "outputs": [
    {
     "name": "stdout",
     "output_type": "stream",
     "text": [
      "[ 9  6 15 11 18  5 10 17 13 16  8  1  3 12 19 20  1  1  1  1  7 14  1  2\n",
      "  4  1  1]\n"
     ]
    }
   ],
   "source": [
    "from sklearn.feature_selection import RFECV\n",
    "selector = RFECV(RandomForestClassifier(), step=1, min_features_to_select=1, cv=5)\n",
    "selector.fit(X, y)\n",
    "print(selector.ranking_)\n"
   ]
  },
  {
   "cell_type": "code",
   "execution_count": 147,
   "id": "cf417e1b",
   "metadata": {},
   "outputs": [
    {
     "name": "stdout",
     "output_type": "stream",
     "text": [
      "Selected best:  8\n",
      "Index(['Age_Souscription_18-40', 'Age_Survenance_18-40',\n",
      "       'Age_Survenance_40-50', 'Age_Survenance_50-60', 'Age_Survenance_>60',\n",
      "       'Ancienneté_Contrat_0-10', 'Ancienneté_Contrat_<10',\n",
      "       'Ancienneté_Contrat_>=20'],\n",
      "      dtype='object')\n"
     ]
    }
   ],
   "source": [
    "mask = selector.get_support()\n",
    "features = (X.columns) \n",
    "best_features = features[mask]\n",
    " \n",
    "\n",
    "print(\"Selected best: \", best_features.shape[0])\n",
    "print(features[mask]) "
   ]
  },
  {
   "cell_type": "code",
   "execution_count": 149,
   "id": "3d1dced7",
   "metadata": {},
   "outputs": [],
   "source": [
    "var_select=['Age_Souscription_18-40', 'Age_Survenance_18-40',\n",
    "       'Age_Survenance_40-50', 'Age_Survenance_50-60', 'Age_Survenance_>60',\n",
    "       'Ancienneté_Contrat_0-10', 'Ancienneté_Contrat_<10',\n",
    "       'Ancienneté_Contrat_>=20']\n",
    "X_fa=X[var_select]"
   ]
  },
  {
   "cell_type": "code",
   "execution_count": 150,
   "id": "aea27c1d",
   "metadata": {},
   "outputs": [],
   "source": [
    "# Splitting Train and Test Data\n",
    "X_train_fa,X_test_fa,y_train_fa,y_test_fa  = train_test_split(X_fa,\n",
    "                                              y,\n",
    "                                              test_size=0.3,\n",
    "                                              random_state = 42)"
   ]
  },
  {
   "cell_type": "code",
   "execution_count": 151,
   "id": "6f6b5a33",
   "metadata": {},
   "outputs": [],
   "source": [
    "from sklearn.ensemble import RandomForestClassifier\n",
    "from sklearn.metrics import accuracy_score, recall_score, confusion_matrix\n",
    "\n",
    "rfc1=RandomForestClassifier()\n",
    "rfc1.fit(X_train_fa, y_train_fa)\n",
    "pred_rfc1= rfc1.predict(X_test_fa)\n"
   ]
  },
  {
   "cell_type": "code",
   "execution_count": 152,
   "id": "67da7dad",
   "metadata": {},
   "outputs": [
    {
     "name": "stdout",
     "output_type": "stream",
     "text": [
      "[[5105   14]\n",
      " [  81  158]]\n",
      "              precision    recall  f1-score   support\n",
      "\n",
      "           0       0.98      1.00      0.99      5119\n",
      "           1       0.92      0.66      0.77       239\n",
      "\n",
      "    accuracy                           0.98      5358\n",
      "   macro avg       0.95      0.83      0.88      5358\n",
      "weighted avg       0.98      0.98      0.98      5358\n",
      "\n"
     ]
    }
   ],
   "source": [
    "# Evaluate\n",
    "print(confusion_matrix(y_test_fa, pred_rfc1))\n",
    "print(classification_report(y_test_ad, pred_rfc1))"
   ]
  },
  {
   "cell_type": "code",
   "execution_count": 153,
   "id": "03c48346",
   "metadata": {},
   "outputs": [
    {
     "name": "stdout",
     "output_type": "stream",
     "text": [
      "Best Score: 0.7822132950529663\n",
      "Best Hyperparameters: {'max_depth': 4, 'max_features': 2, 'n_estimators': 100}\n"
     ]
    }
   ],
   "source": [
    "from sklearn.ensemble import RandomForestClassifier\n",
    "from sklearn.metrics import accuracy_score, recall_score, confusion_matrix\n",
    "\n",
    "rfc=RandomForestClassifier(random_state=30)\n",
    "param_grid = { \n",
    "    'n_estimators': [100,200,300,400,500],\n",
    "    'max_features': [2,3,4,5],\n",
    "    'max_depth' : [4,5,6,7,8],\n",
    "   \n",
    "}\n",
    "CV_rfc = GridSearchCV(estimator=rfc, param_grid=param_grid,scoring =\"f1\", cv= 5)\n",
    "CV_rfc.fit(X_train_fa, y_train_fa)\n",
    "CV_rfc.best_params_\n",
    "CV_rfc.best_estimator_\n",
    "# summarize result\n",
    "print('Best Score: %s' % CV_rfc.best_score_)\n",
    "print('Best Hyperparameters: %s' % CV_rfc.best_params_)"
   ]
  },
  {
   "cell_type": "code",
   "execution_count": 154,
   "id": "308ff848",
   "metadata": {},
   "outputs": [
    {
     "name": "stdout",
     "output_type": "stream",
     "text": [
      "[[5105   14]\n",
      " [  82  157]]\n",
      "              precision    recall  f1-score   support\n",
      "\n",
      "           0       0.98      1.00      0.99      5119\n",
      "           1       0.92      0.66      0.77       239\n",
      "\n",
      "    accuracy                           0.98      5358\n",
      "   macro avg       0.95      0.83      0.88      5358\n",
      "weighted avg       0.98      0.98      0.98      5358\n",
      "\n"
     ]
    }
   ],
   "source": [
    "model3_cv = RandomForestClassifier( max_depth=4, max_features=2,\n",
    "                       n_estimators=100, random_state=30)\n",
    "model3_cv.fit(X_train_fa, y_train_fa)\n",
    "pred3_cv= model3_cv.predict(X_test_fa)\n",
    "\n",
    "# Evaluate\n",
    "print(confusion_matrix(y_test_fa, pred3_cv))\n",
    "print(classification_report(y_test_fa, pred3_cv))"
   ]
  },
  {
   "cell_type": "code",
   "execution_count": 155,
   "id": "3ab1adb1",
   "metadata": {},
   "outputs": [
    {
     "data": {
      "image/png": "[encoded data removed]",
      "text/plain": [
       "<Figure size 360x360 with 1 Axes>"
      ]
     },
     "metadata": {
      "needs_background": "light"
     },
     "output_type": "display_data"
    }
   ],
   "source": [
    "feat_importances = pd.DataFrame(model3_cv.feature_importances_, index=X_fa.columns, columns=[\"Feature Importance\"])\n",
    "feat_importances.sort_values(by='Feature Importance', ascending=False, inplace=True)\n",
    "feat_importances.plot(kind='bar', figsize=(5,5), fontsize=10)\n",
    "plt.title(\"Feature Importance (forêt aléatoire)\")\n",
    "plt.savefig('FI_RF.png', transparent=True,\n",
    "bbox_inches='tight',dpi=100)\n",
    "plt.show()\n"
   ]
  },
  {
   "cell_type": "code",
   "execution_count": 156,
   "id": "68dda9e8",
   "metadata": {},
   "outputs": [
    {
     "name": "stdout",
     "output_type": "stream",
     "text": [
      "0.8309755027009885\n"
     ]
    }
   ],
   "source": [
    "auc_fa = metrics.roc_auc_score(y_test_fa,pred2_cv)\n",
    "print(auc_ad)"
   ]
  },
  {
   "cell_type": "markdown",
   "id": "5d1056bc",
   "metadata": {},
   "source": [
    "# XGBOOST"
   ]
  },
  {
   "cell_type": "code",
   "execution_count": 157,
   "id": "144fd96b",
   "metadata": {},
   "outputs": [],
   "source": [
    "data2 = df_dummies.copy()\n"
   ]
  },
  {
   "cell_type": "code",
   "execution_count": 158,
   "id": "ba57505b",
   "metadata": {},
   "outputs": [],
   "source": [
    "y=data2['Rachat']\n",
    "X=data2.drop('Rachat',axis=1)"
   ]
  },
  {
   "cell_type": "code",
   "execution_count": 159,
   "id": "7136b539",
   "metadata": {},
   "outputs": [
    {
     "name": "stdout",
     "output_type": "stream",
     "text": [
      "[17 14 15  8 18 10  4 19 11  9 22  1  3  5 20 16  1  1  1  2 12 21  7 13\n",
      "  6  1  1]\n",
      "[[0.95464726 0.95464726 0.95464726 0.95492721 0.95491459]\n",
      " [0.97452408 0.97424412 0.97228443 0.97536394 0.97255671]\n",
      " [0.98796193 0.98348264 0.98012318 0.98040314 0.97535704]\n",
      " [0.98796193 0.98544233 0.9518477  0.98180291 0.97647718]\n",
      " [0.98796193 0.98544233 0.9518477  0.98180291 0.97647718]\n",
      " [0.98796193 0.98460246 0.9756439  0.98292273 0.97815738]\n",
      " [0.98796193 0.98432251 0.9756439  0.98292273 0.97815738]\n",
      " [0.98796193 0.98432251 0.9756439  0.98208287 0.97591711]\n",
      " [0.98796193 0.98432251 0.9756439  0.98180291 0.88434612]\n",
      " [0.98768197 0.98432251 0.9756439  0.98264278 0.88434612]\n",
      " [0.98768197 0.98432251 0.97648376 0.98264278 0.91122935]\n",
      " [0.98712206 0.98544233 0.97704367 0.97928331 0.90730888]\n",
      " [0.98712206 0.98544233 0.97732363 0.97956327 0.90730888]\n",
      " [0.98656215 0.98460246 0.97704367 0.97452408 0.90534864]\n",
      " [0.98628219 0.98404255 0.97592385 0.97340426 0.91514982]\n",
      " [0.98684211 0.98264278 0.97368421 0.97676372 0.91066928]\n",
      " [0.98712206 0.98152296 0.97452408 0.97676372 0.90982918]\n",
      " [0.98740202 0.98208287 0.97284434 0.97648376 0.91402968]\n",
      " [0.98796193 0.98320269 0.97004479 0.97648376 0.91318958]\n",
      " [0.98712206 0.98348264 0.97424412 0.97648376 0.91795015]\n",
      " [0.98768197 0.98264278 0.97340426 0.97704367 0.91374965]\n",
      " [0.98796193 0.98348264 0.97340426 0.97648376 0.91178941]\n",
      " [0.98768197 0.98320269 0.9756439  0.97676372 0.91598992]\n",
      " [0.98740202 0.98348264 0.9731243  0.97620381 0.91654999]\n",
      " [0.98740202 0.98320269 0.97228443 0.97648376 0.91654999]\n",
      " [0.98740202 0.98320269 0.97228443 0.97648376 0.91654999]\n",
      " [0.98740202 0.98320269 0.97228443 0.97648376 0.91654999]]\n"
     ]
    }
   ],
   "source": [
    "import xgboost as xgb\n",
    "from sklearn.feature_selection import RFECV\n",
    "selector = RFECV(xgb.XGBClassifier(), step=1, min_features_to_select=1, cv=5)\n",
    "selector.fit(X, y)\n",
    "print(selector.ranking_)\n",
    "print(selector.grid_scores_)"
   ]
  },
  {
   "cell_type": "code",
   "execution_count": 160,
   "id": "4bcdffd6",
   "metadata": {},
   "outputs": [
    {
     "name": "stdout",
     "output_type": "stream",
     "text": [
      "Selected best:  6\n",
      "Index(['Age_Souscription_18-40', 'Age_Survenance_18-40',\n",
      "       'Age_Survenance_40-50', 'Age_Survenance_50-60',\n",
      "       'Ancienneté_Contrat_<10', 'Ancienneté_Contrat_>=20'],\n",
      "      dtype='object')\n"
     ]
    }
   ],
   "source": [
    "mask = selector.get_support()\n",
    "features = (X.columns) \n",
    "best_features = features[mask]\n",
    " \n",
    "\n",
    "print(\"Selected best: \", best_features.shape[0])\n",
    "print(features[mask]) "
   ]
  },
  {
   "cell_type": "code",
   "execution_count": 161,
   "id": "8fabb7c6",
   "metadata": {},
   "outputs": [],
   "source": [
    "var_select=['Age_Souscription_18-40', 'Age_Survenance_18-40',\n",
    "       'Age_Survenance_40-50', 'Age_Survenance_50-60']\n",
    "X_xgb=X[var_select]"
   ]
  },
  {
   "cell_type": "code",
   "execution_count": 162,
   "id": "855be143",
   "metadata": {},
   "outputs": [],
   "source": [
    "# Splitting Train and Test Data\n",
    "X_train_xgb,X_test_xgb,y_train_xgb,y_test_xgb  = train_test_split(X_xgb,\n",
    "                                              y,\n",
    "                                              test_size=0.3,\n",
    "                                              random_state = 42)"
   ]
  },
  {
   "cell_type": "code",
   "execution_count": 163,
   "id": "6a3d84b6",
   "metadata": {},
   "outputs": [
    {
     "name": "stdout",
     "output_type": "stream",
     "text": [
      "[[5090   29]\n",
      " [  85  154]]\n",
      "              precision    recall  f1-score   support\n",
      "\n",
      "           0       0.98      0.99      0.99      5119\n",
      "           1       0.84      0.64      0.73       239\n",
      "\n",
      "    accuracy                           0.98      5358\n",
      "   macro avg       0.91      0.82      0.86      5358\n",
      "weighted avg       0.98      0.98      0.98      5358\n",
      "\n"
     ]
    }
   ],
   "source": [
    "import xgboost as xgb\n",
    "model4 = xgb.XGBClassifier()\n",
    "model4.fit(X_train_xgb, y_train_xgb)\n",
    "pred4 = model4.predict(X_test_xgb)\n",
    "\n",
    "\n",
    "# Evaluate\n",
    "print(confusion_matrix(y_test_xgb, pred4))\n",
    "print(classification_report(y_test_xgb, pred4))\n"
   ]
  },
  {
   "cell_type": "code",
   "execution_count": 164,
   "id": "467296ab",
   "metadata": {},
   "outputs": [
    {
     "data": {
      "image/png": "[encoded data removed]",
      "text/plain": [
       "<Figure size 360x360 with 1 Axes>"
      ]
     },
     "metadata": {
      "needs_background": "light"
     },
     "output_type": "display_data"
    }
   ],
   "source": [
    "feat_importances = pd.DataFrame(model4.feature_importances_, index=X_xgb.columns, columns=[\"Feature Importance\"])\n",
    "feat_importances.sort_values(by='Feature Importance', ascending=False, inplace=True)\n",
    "feat_importances.plot(kind='bar', figsize=(5,5), fontsize=10)\n",
    "plt.title(\"Feature Importance (XGB)\")\n",
    "plt.savefig('FI_XGB.png', transparent=True,\n",
    "bbox_inches='tight',dpi=100)\n",
    "plt.show()\n"
   ]
  },
  {
   "cell_type": "code",
   "execution_count": 165,
   "id": "39b8e622",
   "metadata": {},
   "outputs": [
    {
     "name": "stdout",
     "output_type": "stream",
     "text": [
      "[0.03064406 0.20827568 0.6931801  0.06790017]\n"
     ]
    }
   ],
   "source": [
    "print(model4.feature_importances_)"
   ]
  },
  {
   "cell_type": "code",
   "execution_count": 80,
   "id": "83625bfb",
   "metadata": {},
   "outputs": [
    {
     "name": "stdout",
     "output_type": "stream",
     "text": [
      "Fitting 5 folds for each of 100 candidates, totalling 500 fits\n",
      "Mean Accuracy: 0.980\n",
      "Config: {'learning_rate': 0.01, 'max_depth': 4, 'n_estimators': 100, 'nthread': 4}\n"
     ]
    }
   ],
   "source": [
    "xgb_model = xgb.XGBClassifier()\n",
    "parameters = {'nthread':[4], #when use hyperthread, xgboost may become slower\n",
    "              'learning_rate': [0.01,0.02,0.03,0.04,0.05], #so called `eta` value\n",
    "              'max_depth': [4,5,7,6],\n",
    "              'n_estimators': [100,200,300,400,500], #number of tree\n",
    "             }\n",
    "clf1 = GridSearchCV(xgb_model, parameters, n_jobs=5, \n",
    "                   cv=5, \n",
    "                   scoring='accuracy',\n",
    "                   verbose=2, refit=True)\n",
    "mod=clf1.fit(X_train_xgb, y_train_xgb)\n",
    "# summarize\n",
    "print('Mean Accuracy: %.3f' % mod.best_score_)\n",
    "print('Config: %s' % mod.best_params_)"
   ]
  },
  {
   "cell_type": "code",
   "execution_count": 166,
   "id": "840e8ef9",
   "metadata": {},
   "outputs": [
    {
     "name": "stdout",
     "output_type": "stream",
     "text": [
      "[[5090   29]\n",
      " [  85  154]]\n",
      "              precision    recall  f1-score   support\n",
      "\n",
      "           0       0.98      0.99      0.99      5119\n",
      "           1       0.84      0.64      0.73       239\n",
      "\n",
      "    accuracy                           0.98      5358\n",
      "   macro avg       0.91      0.82      0.86      5358\n",
      "weighted avg       0.98      0.98      0.98      5358\n",
      "\n"
     ]
    }
   ],
   "source": [
    "import xgboost as xgb\n",
    "model4 = xgb.XGBClassifier( learning_rate= 0.01,max_depth=4, n_estimators= 100,nthread=4)\n",
    "model4.fit(X_train_xgb, y_train_xgb)\n",
    "model4.fit(X_train_xgb, y_train_xgb)\n",
    "pred4 = model4.predict(X_test_xgb)\n",
    "\n",
    "\n",
    "# Evaluate\n",
    "print(confusion_matrix(y_test_xgb, pred4))   \n",
    "print(classification_report(y_test_xgb, pred4))\n"
   ]
  },
  {
   "cell_type": "code",
   "execution_count": 167,
   "id": "c5e66162",
   "metadata": {},
   "outputs": [
    {
     "data": {
      "image/png": "[encoded data removed]",
      "text/plain": [
       "<Figure size 360x360 with 1 Axes>"
      ]
     },
     "metadata": {
      "needs_background": "light"
     },
     "output_type": "display_data"
    }
   ],
   "source": [
    "feat_importances = pd.DataFrame(model4.feature_importances_, index=X_xgb.columns, columns=[\"Feature Importance\"])\n",
    "feat_importances.sort_values(by='Feature Importance', ascending=False, inplace=True)\n",
    "feat_importances.plot(kind='bar', figsize=(5,5), fontsize=10)\n",
    "plt.title(\"Feature Importance (XGB)\")\n",
    "plt.savefig('FI_XGB.png', transparent=True,\n",
    "bbox_inches='tight',dpi=100)\n",
    "plt.show()\n"
   ]
  },
  {
   "cell_type": "code",
   "execution_count": 168,
   "id": "83758511",
   "metadata": {},
   "outputs": [
    {
     "name": "stdout",
     "output_type": "stream",
     "text": [
      "0.8193431477284152\n"
     ]
    }
   ],
   "source": [
    "auc_xgb = metrics.roc_auc_score(y_test_xgb,pred4)\n",
    "print(auc_xgb)"
   ]
  },
  {
   "cell_type": "code",
   "execution_count": 170,
   "id": "cb0e11db",
   "metadata": {},
   "outputs": [
    {
     "data": {
      "image/png": "[encoded data removed]",
      "text/plain": [
       "<Figure size 720x720 with 4 Axes>"
      ]
     },
     "metadata": {
      "needs_background": "light"
     },
     "output_type": "display_data"
    }
   ],
   "source": [
    "import matplotlib.pyplot as plt\n",
    "\n",
    "plt.figure (figsize= (10, 10)) \n",
    "# Arguments to subplot are (# rows, # cols, index in grid)\n",
    "plt.subplot(2, 2, 1)\n",
    "# Modify left plot here\n",
    "def plot_roc_curve(fper, tper):\n",
    "    plt.plot([0, 1], [0, 1], color='black', linestyle='--')\n",
    "    plt.plot(fper, tper, color='blue',label=\"ROC curve (area = %0.2f)\" % auc_lr)\n",
    "    plt.xlabel('False Positive Rate')\n",
    "    plt.ylabel('True Positive Rate')\n",
    "    plt.title('RL')\n",
    "    plt.legend()\n",
    "fper, tper, thresholds = roc_curve(y_test_lr, pred_lr_cv)\n",
    "plot_roc_curve(fper, tper)\n",
    "\n",
    "plt.subplot(2, 2, 2)\n",
    "\n",
    "def plot_roc_curve(fper, tper):\n",
    "    \n",
    "    plt.plot(fper, tper, color='blue', label=\"ROC curve (area = %0.2f)\" % auc_ad)\n",
    "    plt.plot([0, 1], [0, 1], color='black', linestyle='--')\n",
    "    plt.xlabel('False Positive Rate')\n",
    "    plt.ylabel('True Positive Rate')\n",
    "    plt.title('AD')\n",
    "    plt.legend()  \n",
    "fper, tper, thresholds = roc_curve(y_test_ad, pred2_cv)\n",
    "plot_roc_curve(fper, tper)\n",
    "\n",
    "plt.subplot(2, 2, 3)\n",
    "\n",
    "def plot_roc_curve(fper, tper):\n",
    "    \n",
    "    plt.plot(fper, tper, color='blue', label=\"ROC curve (area = %0.2f)\" % auc_fa)\n",
    "    plt.plot([0, 1], [0, 1], color='black', linestyle='--')\n",
    "    plt.xlabel('False Positive Rate')\n",
    "    plt.ylabel('True Positive Rate')\n",
    "    plt.title('FA')\n",
    "    plt.legend()  \n",
    "\n",
    "fper, tper, thresholds = roc_curve(y_test_fa, pred3_cv)\n",
    "plot_roc_curve(fper, tper)\n",
    "plt.subplot(2, 2, 4)\n",
    "def plot_roc_curve(fper, tper):\n",
    "    \n",
    "    plt.plot(fper, tper, color='blue', label=\"ROC curve (area = %0.2f)\" % auc_xgb)\n",
    "    plt.plot([0, 1], [0, 1], color='black', linestyle='--')\n",
    "    plt.xlabel('False Positive Rate')\n",
    "    plt.ylabel('True Positive Rate')\n",
    "    plt.title('XGB')\n",
    "    plt.legend()  \n",
    "\n",
    "fper, tper, thresholds = roc_curve(y_test_xgb, pred4)\n",
    "plot_roc_curve(fper, tper)\n",
    "\n",
    "plt.savefig('roc-all')\n",
    "plt.show()\n"
   ]
  },
  {
   "cell_type": "code",
   "execution_count": null,
   "id": "f49e178e",
   "metadata": {},
   "outputs": [],
   "source": []
  }
 ],
 "metadata": {
  "kernelspec": {
   "display_name": "Python 3 (ipykernel)",
   "language": "python",
   "name": "python3"
  },
  "language_info": {
   "codemirror_mode": {
    "name": "ipython",
    "version": 3
   },
   "file_extension": ".py",
   "mimetype": "text/x-python",
   "name": "python",
   "nbconvert_exporter": "python",
   "pygments_lexer": "ipython3",
   "version": "3.9.12"
  }
 },
 "nbformat": 4,
 "nbformat_minor": 5
}
