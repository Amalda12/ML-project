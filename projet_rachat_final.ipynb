{
 "cells": [
  {
   "cell_type": "code",
   "execution_count": 1,
   "id": "eddfd06a",
   "metadata": {},
   "outputs": [],
   "source": [
    "import numpy as np\n",
    "import pandas as pd\n",
    "import matplotlib.pyplot as plt\n",
    "import seaborn as sns"
   ]
  },
  {
   "cell_type": "code",
   "execution_count": 2,
   "id": "fcb8ed64",
   "metadata": {},
   "outputs": [
    {
     "name": "stdout",
     "output_type": "stream",
     "text": [
      "No Warning Shown\n"
     ]
    }
   ],
   "source": [
    "import warnings\n",
    "warnings.filterwarnings('ignore')\n",
    "warnings.warn('DelftStack')\n",
    "warnings.warn('Do not show this message')\n",
    "print(\"No Warning Shown\")"
   ]
  },
  {
   "cell_type": "code",
   "execution_count": 3,
   "id": "97bf0348",
   "metadata": {},
   "outputs": [],
   "source": [
    "pd.set_option('display.max_row', 1000) #affichier 100 lignes \n",
    "pd.set_option('display.max_column', 16) #affichier 15 colonnes "
   ]
  },
  {
   "cell_type": "code",
   "execution_count": 4,
   "id": "8ad1d9d3",
   "metadata": {},
   "outputs": [],
   "source": [
    "data = pd.read_excel(r\"C:\\Users\\amald\\OneDrive\\Documents\\MEMOIRE_IFID\\BD_finale.xlsx\") #importer dataset"
   ]
  },
  {
   "cell_type": "code",
   "execution_count": 5,
   "id": "c7a27b5e",
   "metadata": {},
   "outputs": [
    {
     "data": {
      "text/html": [
       "<div>\n",
       "<style scoped>\n",
       "    .dataframe tbody tr th:only-of-type {\n",
       "        vertical-align: middle;\n",
       "    }\n",
       "\n",
       "    .dataframe tbody tr th {\n",
       "        vertical-align: top;\n",
       "    }\n",
       "\n",
       "    .dataframe thead th {\n",
       "        text-align: right;\n",
       "    }\n",
       "</style>\n",
       "<table border=\"1\" class=\"dataframe\">\n",
       "  <thead>\n",
       "    <tr style=\"text-align: right;\">\n",
       "      <th></th>\n",
       "      <th>ID</th>\n",
       "      <th>Rachat</th>\n",
       "      <th>Prime</th>\n",
       "      <th>Fréquence</th>\n",
       "      <th>Date_Effet</th>\n",
       "      <th>Date_Echéance</th>\n",
       "      <th>Durée_Contrat</th>\n",
       "      <th>Réseau_Distribution</th>\n",
       "      <th>Date_de_naissance</th>\n",
       "      <th>Age_Souscription</th>\n",
       "      <th>Age_Survenance</th>\n",
       "      <th>Sexe</th>\n",
       "      <th>Status_Contrat</th>\n",
       "      <th>Date_Survenance</th>\n",
       "      <th>Ancienneté_Contrat_Survenance</th>\n",
       "      <th>Durée_Restante_Echéance</th>\n",
       "    </tr>\n",
       "  </thead>\n",
       "  <tbody>\n",
       "    <tr>\n",
       "      <th>0</th>\n",
       "      <td>702</td>\n",
       "      <td>0</td>\n",
       "      <td>1296.88</td>\n",
       "      <td>NaN</td>\n",
       "      <td>1992-05-05</td>\n",
       "      <td>2016-03-11</td>\n",
       "      <td>23.865753</td>\n",
       "      <td>Producteur</td>\n",
       "      <td>1958-04-19</td>\n",
       "      <td>34.0</td>\n",
       "      <td>57.934247</td>\n",
       "      <td>M</td>\n",
       "      <td>Echu</td>\n",
       "      <td>2016-03-11 00:00:00</td>\n",
       "      <td>23.865753</td>\n",
       "      <td>0.0</td>\n",
       "    </tr>\n",
       "    <tr>\n",
       "      <th>1</th>\n",
       "      <td>1715</td>\n",
       "      <td>0</td>\n",
       "      <td>5196.80</td>\n",
       "      <td>T</td>\n",
       "      <td>1992-09-03</td>\n",
       "      <td>2016-07-08</td>\n",
       "      <td>23.860274</td>\n",
       "      <td>Producteur</td>\n",
       "      <td>1958-03-15</td>\n",
       "      <td>34.0</td>\n",
       "      <td>58.356164</td>\n",
       "      <td>M</td>\n",
       "      <td>Echu</td>\n",
       "      <td>2016-07-08 00:00:00</td>\n",
       "      <td>23.860274</td>\n",
       "      <td>0.0</td>\n",
       "    </tr>\n",
       "    <tr>\n",
       "      <th>2</th>\n",
       "      <td>4036</td>\n",
       "      <td>0</td>\n",
       "      <td>1496.88</td>\n",
       "      <td>A</td>\n",
       "      <td>1986-04-25</td>\n",
       "      <td>2016-03-02</td>\n",
       "      <td>29.873973</td>\n",
       "      <td>Producteur</td>\n",
       "      <td>1953-11-11</td>\n",
       "      <td>32.0</td>\n",
       "      <td>62.347945</td>\n",
       "      <td>M</td>\n",
       "      <td>Echu</td>\n",
       "      <td>2016-03-02 00:00:00</td>\n",
       "      <td>29.873973</td>\n",
       "      <td>0.0</td>\n",
       "    </tr>\n",
       "    <tr>\n",
       "      <th>3</th>\n",
       "      <td>5212</td>\n",
       "      <td>0</td>\n",
       "      <td>145.50</td>\n",
       "      <td>A</td>\n",
       "      <td>1988-02-03</td>\n",
       "      <td>2015-11-11</td>\n",
       "      <td>27.789041</td>\n",
       "      <td>Producteur</td>\n",
       "      <td>1953-07-21</td>\n",
       "      <td>34.0</td>\n",
       "      <td>62.350685</td>\n",
       "      <td>F</td>\n",
       "      <td>Echu</td>\n",
       "      <td>2015-11-11 00:00:00</td>\n",
       "      <td>27.789041</td>\n",
       "      <td>0.0</td>\n",
       "    </tr>\n",
       "    <tr>\n",
       "      <th>4</th>\n",
       "      <td>6026</td>\n",
       "      <td>0</td>\n",
       "      <td>2174.76</td>\n",
       "      <td>A</td>\n",
       "      <td>1986-09-09</td>\n",
       "      <td>2016-07-15</td>\n",
       "      <td>29.868493</td>\n",
       "      <td>Producteur</td>\n",
       "      <td>1958-03-01</td>\n",
       "      <td>28.0</td>\n",
       "      <td>58.413699</td>\n",
       "      <td>M</td>\n",
       "      <td>Echu</td>\n",
       "      <td>2016-07-15 00:00:00</td>\n",
       "      <td>29.868493</td>\n",
       "      <td>0.0</td>\n",
       "    </tr>\n",
       "  </tbody>\n",
       "</table>\n",
       "</div>"
      ],
      "text/plain": [
       "    ID   Rachat    Prime Fréquence Date_Effet Date_Echéance  Durée_Contrat  \\\n",
       "0   702       0  1296.88       NaN 1992-05-05    2016-03-11      23.865753   \n",
       "1  1715       0  5196.80         T 1992-09-03    2016-07-08      23.860274   \n",
       "2  4036       0  1496.88         A 1986-04-25    2016-03-02      29.873973   \n",
       "3  5212       0   145.50         A 1988-02-03    2015-11-11      27.789041   \n",
       "4  6026       0  2174.76         A 1986-09-09    2016-07-15      29.868493   \n",
       "\n",
       "  Réseau_Distribution Date_de_naissance  Age_Souscription  Age_Survenance  \\\n",
       "0         Producteur         1958-04-19              34.0       57.934247   \n",
       "1         Producteur         1958-03-15              34.0       58.356164   \n",
       "2         Producteur         1953-11-11              32.0       62.347945   \n",
       "3         Producteur         1953-07-21              34.0       62.350685   \n",
       "4         Producteur         1958-03-01              28.0       58.413699   \n",
       "\n",
       "  Sexe Status_Contrat      Date_Survenance  Ancienneté_Contrat_Survenance  \\\n",
       "0    M           Echu  2016-03-11 00:00:00                      23.865753   \n",
       "1    M           Echu  2016-07-08 00:00:00                      23.860274   \n",
       "2    M           Echu  2016-03-02 00:00:00                      29.873973   \n",
       "3    F           Echu  2015-11-11 00:00:00                      27.789041   \n",
       "4    M           Echu  2016-07-15 00:00:00                      29.868493   \n",
       "\n",
       "   Durée_Restante_Echéance  \n",
       "0                      0.0  \n",
       "1                      0.0  \n",
       "2                      0.0  \n",
       "3                      0.0  \n",
       "4                      0.0  "
      ]
     },
     "execution_count": 5,
     "metadata": {},
     "output_type": "execute_result"
    }
   ],
   "source": [
    "data.head()"
   ]
  },
  {
   "cell_type": "markdown",
   "id": "ce92ffaf",
   "metadata": {},
   "source": [
    "# Analyse de la forme des données"
   ]
  },
  {
   "cell_type": "code",
   "execution_count": 6,
   "id": "e7a5da73",
   "metadata": {},
   "outputs": [],
   "source": [
    "df = data.copy()"
   ]
  },
  {
   "cell_type": "code",
   "execution_count": 7,
   "id": "f1ee637d",
   "metadata": {},
   "outputs": [
    {
     "data": {
      "text/plain": [
       "(18897, 16)"
      ]
     },
     "execution_count": 7,
     "metadata": {},
     "output_type": "execute_result"
    }
   ],
   "source": [
    "df.shape #nombres de colonnes et lignes "
   ]
  },
  {
   "cell_type": "code",
   "execution_count": 8,
   "id": "3618c905",
   "metadata": {},
   "outputs": [
    {
     "data": {
      "text/plain": [
       "ID                                        int64\n",
       "Rachat                                    int64\n",
       "Prime                                   float64\n",
       "Fréquence                                object\n",
       "Date_Effet                       datetime64[ns]\n",
       "Date_Echéance                    datetime64[ns]\n",
       "Durée_Contrat                           float64\n",
       "Réseau_Distribution                      object\n",
       "Date_de_naissance                datetime64[ns]\n",
       "Age_Souscription                        float64\n",
       "Age_Survenance                          float64\n",
       "Sexe                                     object\n",
       "Status_Contrat                           object\n",
       "Date_Survenance                          object\n",
       "Ancienneté_Contrat_Survenance           float64\n",
       "Durée_Restante_Echéance                 float64\n",
       "dtype: object"
      ]
     },
     "execution_count": 8,
     "metadata": {},
     "output_type": "execute_result"
    }
   ],
   "source": [
    "df.dtypes #types de variables "
   ]
  },
  {
   "cell_type": "code",
   "execution_count": 9,
   "id": "7ced6dcd",
   "metadata": {},
   "outputs": [
    {
     "data": {
      "text/plain": [
       "float64           6\n",
       "object            5\n",
       "datetime64[ns]    3\n",
       "int64             2\n",
       "dtype: int64"
      ]
     },
     "execution_count": 9,
     "metadata": {},
     "output_type": "execute_result"
    }
   ],
   "source": [
    "df.dtypes.value_counts() #compter le nombre de types de variables "
   ]
  },
  {
   "cell_type": "code",
   "execution_count": 10,
   "id": "5868fd84",
   "metadata": {},
   "outputs": [
    {
     "data": {
      "text/html": [
       "<div>\n",
       "<style scoped>\n",
       "    .dataframe tbody tr th:only-of-type {\n",
       "        vertical-align: middle;\n",
       "    }\n",
       "\n",
       "    .dataframe tbody tr th {\n",
       "        vertical-align: top;\n",
       "    }\n",
       "\n",
       "    .dataframe thead th {\n",
       "        text-align: right;\n",
       "    }\n",
       "</style>\n",
       "<table border=\"1\" class=\"dataframe\">\n",
       "  <thead>\n",
       "    <tr style=\"text-align: right;\">\n",
       "      <th></th>\n",
       "      <th>ID</th>\n",
       "      <th>Rachat</th>\n",
       "      <th>Prime</th>\n",
       "      <th>Fréquence</th>\n",
       "      <th>Date_Effet</th>\n",
       "      <th>Date_Echéance</th>\n",
       "      <th>Durée_Contrat</th>\n",
       "      <th>Réseau_Distribution</th>\n",
       "      <th>Date_de_naissance</th>\n",
       "      <th>Age_Souscription</th>\n",
       "      <th>Age_Survenance</th>\n",
       "      <th>Sexe</th>\n",
       "      <th>Status_Contrat</th>\n",
       "      <th>Date_Survenance</th>\n",
       "      <th>Ancienneté_Contrat_Survenance</th>\n",
       "      <th>Durée_Restante_Echéance</th>\n",
       "    </tr>\n",
       "  </thead>\n",
       "  <tbody>\n",
       "    <tr>\n",
       "      <th>0</th>\n",
       "      <td>False</td>\n",
       "      <td>False</td>\n",
       "      <td>False</td>\n",
       "      <td>True</td>\n",
       "      <td>False</td>\n",
       "      <td>False</td>\n",
       "      <td>False</td>\n",
       "      <td>False</td>\n",
       "      <td>False</td>\n",
       "      <td>False</td>\n",
       "      <td>False</td>\n",
       "      <td>False</td>\n",
       "      <td>False</td>\n",
       "      <td>False</td>\n",
       "      <td>False</td>\n",
       "      <td>False</td>\n",
       "    </tr>\n",
       "    <tr>\n",
       "      <th>1</th>\n",
       "      <td>False</td>\n",
       "      <td>False</td>\n",
       "      <td>False</td>\n",
       "      <td>False</td>\n",
       "      <td>False</td>\n",
       "      <td>False</td>\n",
       "      <td>False</td>\n",
       "      <td>False</td>\n",
       "      <td>False</td>\n",
       "      <td>False</td>\n",
       "      <td>False</td>\n",
       "      <td>False</td>\n",
       "      <td>False</td>\n",
       "      <td>False</td>\n",
       "      <td>False</td>\n",
       "      <td>False</td>\n",
       "    </tr>\n",
       "    <tr>\n",
       "      <th>2</th>\n",
       "      <td>False</td>\n",
       "      <td>False</td>\n",
       "      <td>False</td>\n",
       "      <td>False</td>\n",
       "      <td>False</td>\n",
       "      <td>False</td>\n",
       "      <td>False</td>\n",
       "      <td>False</td>\n",
       "      <td>False</td>\n",
       "      <td>False</td>\n",
       "      <td>False</td>\n",
       "      <td>False</td>\n",
       "      <td>False</td>\n",
       "      <td>False</td>\n",
       "      <td>False</td>\n",
       "      <td>False</td>\n",
       "    </tr>\n",
       "    <tr>\n",
       "      <th>3</th>\n",
       "      <td>False</td>\n",
       "      <td>False</td>\n",
       "      <td>False</td>\n",
       "      <td>False</td>\n",
       "      <td>False</td>\n",
       "      <td>False</td>\n",
       "      <td>False</td>\n",
       "      <td>False</td>\n",
       "      <td>False</td>\n",
       "      <td>False</td>\n",
       "      <td>False</td>\n",
       "      <td>False</td>\n",
       "      <td>False</td>\n",
       "      <td>False</td>\n",
       "      <td>False</td>\n",
       "      <td>False</td>\n",
       "    </tr>\n",
       "    <tr>\n",
       "      <th>4</th>\n",
       "      <td>False</td>\n",
       "      <td>False</td>\n",
       "      <td>False</td>\n",
       "      <td>False</td>\n",
       "      <td>False</td>\n",
       "      <td>False</td>\n",
       "      <td>False</td>\n",
       "      <td>False</td>\n",
       "      <td>False</td>\n",
       "      <td>False</td>\n",
       "      <td>False</td>\n",
       "      <td>False</td>\n",
       "      <td>False</td>\n",
       "      <td>False</td>\n",
       "      <td>False</td>\n",
       "      <td>False</td>\n",
       "    </tr>\n",
       "    <tr>\n",
       "      <th>...</th>\n",
       "      <td>...</td>\n",
       "      <td>...</td>\n",
       "      <td>...</td>\n",
       "      <td>...</td>\n",
       "      <td>...</td>\n",
       "      <td>...</td>\n",
       "      <td>...</td>\n",
       "      <td>...</td>\n",
       "      <td>...</td>\n",
       "      <td>...</td>\n",
       "      <td>...</td>\n",
       "      <td>...</td>\n",
       "      <td>...</td>\n",
       "      <td>...</td>\n",
       "      <td>...</td>\n",
       "      <td>...</td>\n",
       "    </tr>\n",
       "    <tr>\n",
       "      <th>18892</th>\n",
       "      <td>False</td>\n",
       "      <td>False</td>\n",
       "      <td>False</td>\n",
       "      <td>False</td>\n",
       "      <td>False</td>\n",
       "      <td>False</td>\n",
       "      <td>False</td>\n",
       "      <td>False</td>\n",
       "      <td>False</td>\n",
       "      <td>False</td>\n",
       "      <td>False</td>\n",
       "      <td>False</td>\n",
       "      <td>False</td>\n",
       "      <td>False</td>\n",
       "      <td>False</td>\n",
       "      <td>False</td>\n",
       "    </tr>\n",
       "    <tr>\n",
       "      <th>18893</th>\n",
       "      <td>False</td>\n",
       "      <td>False</td>\n",
       "      <td>False</td>\n",
       "      <td>False</td>\n",
       "      <td>False</td>\n",
       "      <td>False</td>\n",
       "      <td>False</td>\n",
       "      <td>False</td>\n",
       "      <td>False</td>\n",
       "      <td>False</td>\n",
       "      <td>False</td>\n",
       "      <td>False</td>\n",
       "      <td>False</td>\n",
       "      <td>False</td>\n",
       "      <td>False</td>\n",
       "      <td>False</td>\n",
       "    </tr>\n",
       "    <tr>\n",
       "      <th>18894</th>\n",
       "      <td>False</td>\n",
       "      <td>False</td>\n",
       "      <td>False</td>\n",
       "      <td>False</td>\n",
       "      <td>False</td>\n",
       "      <td>False</td>\n",
       "      <td>False</td>\n",
       "      <td>False</td>\n",
       "      <td>False</td>\n",
       "      <td>False</td>\n",
       "      <td>False</td>\n",
       "      <td>False</td>\n",
       "      <td>False</td>\n",
       "      <td>False</td>\n",
       "      <td>False</td>\n",
       "      <td>False</td>\n",
       "    </tr>\n",
       "    <tr>\n",
       "      <th>18895</th>\n",
       "      <td>False</td>\n",
       "      <td>False</td>\n",
       "      <td>False</td>\n",
       "      <td>False</td>\n",
       "      <td>False</td>\n",
       "      <td>False</td>\n",
       "      <td>False</td>\n",
       "      <td>False</td>\n",
       "      <td>False</td>\n",
       "      <td>False</td>\n",
       "      <td>False</td>\n",
       "      <td>False</td>\n",
       "      <td>False</td>\n",
       "      <td>False</td>\n",
       "      <td>False</td>\n",
       "      <td>False</td>\n",
       "    </tr>\n",
       "    <tr>\n",
       "      <th>18896</th>\n",
       "      <td>False</td>\n",
       "      <td>False</td>\n",
       "      <td>False</td>\n",
       "      <td>False</td>\n",
       "      <td>False</td>\n",
       "      <td>False</td>\n",
       "      <td>False</td>\n",
       "      <td>False</td>\n",
       "      <td>False</td>\n",
       "      <td>False</td>\n",
       "      <td>False</td>\n",
       "      <td>False</td>\n",
       "      <td>False</td>\n",
       "      <td>False</td>\n",
       "      <td>False</td>\n",
       "      <td>False</td>\n",
       "    </tr>\n",
       "  </tbody>\n",
       "</table>\n",
       "<p>18897 rows × 16 columns</p>\n",
       "</div>"
      ],
      "text/plain": [
       "         ID   Rachat  Prime  Fréquence  Date_Effet  Date_Echéance  \\\n",
       "0      False   False  False       True       False          False   \n",
       "1      False   False  False      False       False          False   \n",
       "2      False   False  False      False       False          False   \n",
       "3      False   False  False      False       False          False   \n",
       "4      False   False  False      False       False          False   \n",
       "...      ...     ...    ...        ...         ...            ...   \n",
       "18892  False   False  False      False       False          False   \n",
       "18893  False   False  False      False       False          False   \n",
       "18894  False   False  False      False       False          False   \n",
       "18895  False   False  False      False       False          False   \n",
       "18896  False   False  False      False       False          False   \n",
       "\n",
       "       Durée_Contrat  Réseau_Distribution  Date_de_naissance  \\\n",
       "0              False                False              False   \n",
       "1              False                False              False   \n",
       "2              False                False              False   \n",
       "3              False                False              False   \n",
       "4              False                False              False   \n",
       "...              ...                  ...                ...   \n",
       "18892          False                False              False   \n",
       "18893          False                False              False   \n",
       "18894          False                False              False   \n",
       "18895          False                False              False   \n",
       "18896          False                False              False   \n",
       "\n",
       "       Age_Souscription  Age_Survenance   Sexe  Status_Contrat  \\\n",
       "0                 False           False  False           False   \n",
       "1                 False           False  False           False   \n",
       "2                 False           False  False           False   \n",
       "3                 False           False  False           False   \n",
       "4                 False           False  False           False   \n",
       "...                 ...             ...    ...             ...   \n",
       "18892             False           False  False           False   \n",
       "18893             False           False  False           False   \n",
       "18894             False           False  False           False   \n",
       "18895             False           False  False           False   \n",
       "18896             False           False  False           False   \n",
       "\n",
       "       Date_Survenance  Ancienneté_Contrat_Survenance  Durée_Restante_Echéance  \n",
       "0                False                          False                    False  \n",
       "1                False                          False                    False  \n",
       "2                False                          False                    False  \n",
       "3                False                          False                    False  \n",
       "4                False                          False                    False  \n",
       "...                ...                            ...                      ...  \n",
       "18892            False                          False                    False  \n",
       "18893            False                          False                    False  \n",
       "18894            False                          False                    False  \n",
       "18895            False                          False                    False  \n",
       "18896            False                          False                    False  \n",
       "\n",
       "[18897 rows x 16 columns]"
      ]
     },
     "execution_count": 10,
     "metadata": {},
     "output_type": "execute_result"
    }
   ],
   "source": [
    "df.isna()"
   ]
  },
  {
   "cell_type": "code",
   "execution_count": 11,
   "id": "7f8a1957",
   "metadata": {},
   "outputs": [
    {
     "data": {
      "text/plain": [
       "<AxesSubplot:>"
      ]
     },
     "execution_count": 11,
     "metadata": {},
     "output_type": "execute_result"
    },
    {
     "data": {
      "image/png": "[encoded data removed]",
      "text/plain": [
       "<Figure size 1440x720 with 1 Axes>"
      ]
     },
     "metadata": {
      "needs_background": "light"
     },
     "output_type": "display_data"
    }
   ],
   "source": [
    "plt.figure(figsize=(20,10))\n",
    "sns.heatmap(df.isna(), cbar=False)"
   ]
  },
  {
   "cell_type": "code",
   "execution_count": 12,
   "id": "70ac3c1e",
   "metadata": {},
   "outputs": [
    {
     "data": {
      "text/plain": [
       "ID                               0.000000\n",
       "Rachat                           0.000000\n",
       "Prime                            0.000000\n",
       "Durée_Contrat                    0.000000\n",
       "Réseau_Distribution              0.000000\n",
       "Sexe                             0.000000\n",
       "Status_Contrat                   0.000000\n",
       "Date_Survenance                  0.000000\n",
       "Ancienneté_Contrat_Survenance    0.000000\n",
       "Durée_Restante_Echéance          0.000000\n",
       "Date_de_naissance                0.000106\n",
       "Age_Survenance                   0.000106\n",
       "Date_Effet                       0.000529\n",
       "Date_Echéance                    0.000529\n",
       "Age_Souscription                 0.000635\n",
       "Fréquence                        0.054718\n",
       "dtype: float64"
      ]
     },
     "execution_count": 12,
     "metadata": {},
     "output_type": "execute_result"
    }
   ],
   "source": [
    "(df.isna().sum()/df.shape[0]).sort_values(ascending=True) #pourcentages de valeurs manquantes par variable par ordre ascendent"
   ]
  },
  {
   "cell_type": "markdown",
   "id": "ac2cd31d",
   "metadata": {},
   "source": [
    "# Analyse du Fond\n",
    "\n",
    "## 1. Visulation initiale - Elimination des colonnes inutiles"
   ]
  },
  {
   "cell_type": "code",
   "execution_count": 13,
   "id": "fa8d4c97",
   "metadata": {},
   "outputs": [
    {
     "data": {
      "image/png": "[encoded data removed]",
      "text/plain": [
       "<Figure size 720x720 with 2 Axes>"
      ]
     },
     "metadata": {
      "needs_background": "light"
     },
     "output_type": "display_data"
    }
   ],
   "source": [
    "#Préparation des données\n",
    "#Matrice de correlation\n",
    "plt.figure(figsize=(10,10))\n",
    "sns.heatmap(df.corr(),cmap=\"Blues\",annot=True)\n",
    "plt.savefig('matrice_correlation.png')\n",
    "plt.show()"
   ]
  },
  {
   "cell_type": "code",
   "execution_count": 14,
   "id": "515e4a4e",
   "metadata": {},
   "outputs": [
    {
     "data": {
      "image/png": "[encoded data removed]",
      "text/plain": [
       "<Figure size 432x288 with 1 Axes>"
      ]
     },
     "metadata": {
      "needs_background": "light"
     },
     "output_type": "display_data"
    },
    {
     "data": {
      "text/plain": [
       "<Figure size 432x288 with 0 Axes>"
      ]
     },
     "metadata": {},
     "output_type": "display_data"
    }
   ],
   "source": [
    "matrix = df.corr().round(2)\n",
    "mask = np.triu(np.ones_like(matrix, dtype=bool))\n",
    "sns.heatmap(matrix, annot=True, vmax=1, vmin=-1, center=0, cmap='vlag', mask=mask, cbar= False)\n",
    "plt.show()\n",
    "plt.savefig('matrice_correlation2.png')"
   ]
  },
  {
   "cell_type": "markdown",
   "id": "4b78eed8",
   "metadata": {},
   "source": [
    "On remarque une **forte correlation de 0.9 entre Durée_contrat et Ancienneté_Contrat_Survenance** et **une corrélation de 0.7 entre Durée_restante_Echéance et Ancienneté_Contrat_Survenance** .On supprimera donc les variables **Durée_Contrat** et **Durée_Restante_Echéance**."
   ]
  },
  {
   "cell_type": "code",
   "execution_count": 15,
   "id": "211a729a",
   "metadata": {},
   "outputs": [],
   "source": [
    "df.drop(\"Durée_Contrat\", axis=1, inplace=True)"
   ]
  },
  {
   "cell_type": "code",
   "execution_count": 16,
   "id": "5cdb903d",
   "metadata": {},
   "outputs": [],
   "source": [
    "df.drop(\"Durée_Restante_Echéance\", axis=1, inplace=True)"
   ]
  },
  {
   "cell_type": "code",
   "execution_count": 17,
   "id": "43832cd6",
   "metadata": {},
   "outputs": [
    {
     "data": {
      "text/html": [
       "<div>\n",
       "<style scoped>\n",
       "    .dataframe tbody tr th:only-of-type {\n",
       "        vertical-align: middle;\n",
       "    }\n",
       "\n",
       "    .dataframe tbody tr th {\n",
       "        vertical-align: top;\n",
       "    }\n",
       "\n",
       "    .dataframe thead th {\n",
       "        text-align: right;\n",
       "    }\n",
       "</style>\n",
       "<table border=\"1\" class=\"dataframe\">\n",
       "  <thead>\n",
       "    <tr style=\"text-align: right;\">\n",
       "      <th></th>\n",
       "      <th>ID</th>\n",
       "      <th>Rachat</th>\n",
       "      <th>Prime</th>\n",
       "      <th>Fréquence</th>\n",
       "      <th>Date_Effet</th>\n",
       "      <th>Date_Echéance</th>\n",
       "      <th>Réseau_Distribution</th>\n",
       "      <th>Date_de_naissance</th>\n",
       "      <th>Age_Souscription</th>\n",
       "      <th>Age_Survenance</th>\n",
       "      <th>Sexe</th>\n",
       "      <th>Status_Contrat</th>\n",
       "      <th>Date_Survenance</th>\n",
       "      <th>Ancienneté_Contrat_Survenance</th>\n",
       "    </tr>\n",
       "  </thead>\n",
       "  <tbody>\n",
       "    <tr>\n",
       "      <th>0</th>\n",
       "      <td>702</td>\n",
       "      <td>0</td>\n",
       "      <td>1296.88</td>\n",
       "      <td>NaN</td>\n",
       "      <td>1992-05-05</td>\n",
       "      <td>2016-03-11</td>\n",
       "      <td>Producteur</td>\n",
       "      <td>1958-04-19</td>\n",
       "      <td>34.0</td>\n",
       "      <td>57.934247</td>\n",
       "      <td>M</td>\n",
       "      <td>Echu</td>\n",
       "      <td>2016-03-11 00:00:00</td>\n",
       "      <td>23.865753</td>\n",
       "    </tr>\n",
       "    <tr>\n",
       "      <th>1</th>\n",
       "      <td>1715</td>\n",
       "      <td>0</td>\n",
       "      <td>5196.80</td>\n",
       "      <td>T</td>\n",
       "      <td>1992-09-03</td>\n",
       "      <td>2016-07-08</td>\n",
       "      <td>Producteur</td>\n",
       "      <td>1958-03-15</td>\n",
       "      <td>34.0</td>\n",
       "      <td>58.356164</td>\n",
       "      <td>M</td>\n",
       "      <td>Echu</td>\n",
       "      <td>2016-07-08 00:00:00</td>\n",
       "      <td>23.860274</td>\n",
       "    </tr>\n",
       "    <tr>\n",
       "      <th>2</th>\n",
       "      <td>4036</td>\n",
       "      <td>0</td>\n",
       "      <td>1496.88</td>\n",
       "      <td>A</td>\n",
       "      <td>1986-04-25</td>\n",
       "      <td>2016-03-02</td>\n",
       "      <td>Producteur</td>\n",
       "      <td>1953-11-11</td>\n",
       "      <td>32.0</td>\n",
       "      <td>62.347945</td>\n",
       "      <td>M</td>\n",
       "      <td>Echu</td>\n",
       "      <td>2016-03-02 00:00:00</td>\n",
       "      <td>29.873973</td>\n",
       "    </tr>\n",
       "    <tr>\n",
       "      <th>3</th>\n",
       "      <td>5212</td>\n",
       "      <td>0</td>\n",
       "      <td>145.50</td>\n",
       "      <td>A</td>\n",
       "      <td>1988-02-03</td>\n",
       "      <td>2015-11-11</td>\n",
       "      <td>Producteur</td>\n",
       "      <td>1953-07-21</td>\n",
       "      <td>34.0</td>\n",
       "      <td>62.350685</td>\n",
       "      <td>F</td>\n",
       "      <td>Echu</td>\n",
       "      <td>2015-11-11 00:00:00</td>\n",
       "      <td>27.789041</td>\n",
       "    </tr>\n",
       "    <tr>\n",
       "      <th>4</th>\n",
       "      <td>6026</td>\n",
       "      <td>0</td>\n",
       "      <td>2174.76</td>\n",
       "      <td>A</td>\n",
       "      <td>1986-09-09</td>\n",
       "      <td>2016-07-15</td>\n",
       "      <td>Producteur</td>\n",
       "      <td>1958-03-01</td>\n",
       "      <td>28.0</td>\n",
       "      <td>58.413699</td>\n",
       "      <td>M</td>\n",
       "      <td>Echu</td>\n",
       "      <td>2016-07-15 00:00:00</td>\n",
       "      <td>29.868493</td>\n",
       "    </tr>\n",
       "    <tr>\n",
       "      <th>...</th>\n",
       "      <td>...</td>\n",
       "      <td>...</td>\n",
       "      <td>...</td>\n",
       "      <td>...</td>\n",
       "      <td>...</td>\n",
       "      <td>...</td>\n",
       "      <td>...</td>\n",
       "      <td>...</td>\n",
       "      <td>...</td>\n",
       "      <td>...</td>\n",
       "      <td>...</td>\n",
       "      <td>...</td>\n",
       "      <td>...</td>\n",
       "      <td>...</td>\n",
       "    </tr>\n",
       "    <tr>\n",
       "      <th>18892</th>\n",
       "      <td>280200</td>\n",
       "      <td>0</td>\n",
       "      <td>952.56</td>\n",
       "      <td>T</td>\n",
       "      <td>2016-08-05</td>\n",
       "      <td>2053-12-19</td>\n",
       "      <td>Producteur</td>\n",
       "      <td>1986-01-27</td>\n",
       "      <td>30.0</td>\n",
       "      <td>67.939726</td>\n",
       "      <td>M</td>\n",
       "      <td>Encours</td>\n",
       "      <td>2053-12-19 00:00:00</td>\n",
       "      <td>37.397260</td>\n",
       "    </tr>\n",
       "    <tr>\n",
       "      <th>18893</th>\n",
       "      <td>280213</td>\n",
       "      <td>0</td>\n",
       "      <td>934.56</td>\n",
       "      <td>S</td>\n",
       "      <td>2016-08-15</td>\n",
       "      <td>2033-12-03</td>\n",
       "      <td>Producteur</td>\n",
       "      <td>1974-10-05</td>\n",
       "      <td>41.0</td>\n",
       "      <td>59.202740</td>\n",
       "      <td>F</td>\n",
       "      <td>Encours</td>\n",
       "      <td>2033-12-03 00:00:00</td>\n",
       "      <td>17.312329</td>\n",
       "    </tr>\n",
       "    <tr>\n",
       "      <th>18894</th>\n",
       "      <td>280221</td>\n",
       "      <td>0</td>\n",
       "      <td>7560.00</td>\n",
       "      <td>A</td>\n",
       "      <td>2016-08-13</td>\n",
       "      <td>2041-11-29</td>\n",
       "      <td>Agent</td>\n",
       "      <td>1976-03-21</td>\n",
       "      <td>40.0</td>\n",
       "      <td>65.736986</td>\n",
       "      <td>M</td>\n",
       "      <td>Encours</td>\n",
       "      <td>2041-11-29 00:00:00</td>\n",
       "      <td>25.312329</td>\n",
       "    </tr>\n",
       "    <tr>\n",
       "      <th>18895</th>\n",
       "      <td>280239</td>\n",
       "      <td>0</td>\n",
       "      <td>1134.00</td>\n",
       "      <td>S</td>\n",
       "      <td>2016-08-15</td>\n",
       "      <td>2051-02-05</td>\n",
       "      <td>Producteur</td>\n",
       "      <td>1986-07-30</td>\n",
       "      <td>30.0</td>\n",
       "      <td>64.564384</td>\n",
       "      <td>M</td>\n",
       "      <td>Encours</td>\n",
       "      <td>2051-02-05 00:00:00</td>\n",
       "      <td>34.498630</td>\n",
       "    </tr>\n",
       "    <tr>\n",
       "      <th>18896</th>\n",
       "      <td>280247</td>\n",
       "      <td>0</td>\n",
       "      <td>2643.84</td>\n",
       "      <td>M</td>\n",
       "      <td>2016-06-15</td>\n",
       "      <td>2043-05-06</td>\n",
       "      <td>Agent</td>\n",
       "      <td>1975-04-06</td>\n",
       "      <td>41.0</td>\n",
       "      <td>68.128767</td>\n",
       "      <td>M</td>\n",
       "      <td>Encours</td>\n",
       "      <td>2043-05-06 00:00:00</td>\n",
       "      <td>26.906849</td>\n",
       "    </tr>\n",
       "  </tbody>\n",
       "</table>\n",
       "<p>18897 rows × 14 columns</p>\n",
       "</div>"
      ],
      "text/plain": [
       "          ID   Rachat    Prime Fréquence Date_Effet Date_Echéance  \\\n",
       "0         702       0  1296.88       NaN 1992-05-05    2016-03-11   \n",
       "1        1715       0  5196.80         T 1992-09-03    2016-07-08   \n",
       "2        4036       0  1496.88         A 1986-04-25    2016-03-02   \n",
       "3        5212       0   145.50         A 1988-02-03    2015-11-11   \n",
       "4        6026       0  2174.76         A 1986-09-09    2016-07-15   \n",
       "...       ...     ...      ...       ...        ...           ...   \n",
       "18892  280200       0   952.56         T 2016-08-05    2053-12-19   \n",
       "18893  280213       0   934.56         S 2016-08-15    2033-12-03   \n",
       "18894  280221       0  7560.00         A 2016-08-13    2041-11-29   \n",
       "18895  280239       0  1134.00         S 2016-08-15    2051-02-05   \n",
       "18896  280247       0  2643.84         M 2016-06-15    2043-05-06   \n",
       "\n",
       "      Réseau_Distribution Date_de_naissance  Age_Souscription  Age_Survenance  \\\n",
       "0             Producteur         1958-04-19              34.0       57.934247   \n",
       "1             Producteur         1958-03-15              34.0       58.356164   \n",
       "2             Producteur         1953-11-11              32.0       62.347945   \n",
       "3             Producteur         1953-07-21              34.0       62.350685   \n",
       "4             Producteur         1958-03-01              28.0       58.413699   \n",
       "...                   ...               ...               ...             ...   \n",
       "18892         Producteur         1986-01-27              30.0       67.939726   \n",
       "18893         Producteur         1974-10-05              41.0       59.202740   \n",
       "18894               Agent        1976-03-21              40.0       65.736986   \n",
       "18895         Producteur         1986-07-30              30.0       64.564384   \n",
       "18896               Agent        1975-04-06              41.0       68.128767   \n",
       "\n",
       "      Sexe Status_Contrat      Date_Survenance  Ancienneté_Contrat_Survenance  \n",
       "0        M           Echu  2016-03-11 00:00:00                      23.865753  \n",
       "1        M           Echu  2016-07-08 00:00:00                      23.860274  \n",
       "2        M           Echu  2016-03-02 00:00:00                      29.873973  \n",
       "3        F           Echu  2015-11-11 00:00:00                      27.789041  \n",
       "4        M           Echu  2016-07-15 00:00:00                      29.868493  \n",
       "...    ...            ...                  ...                            ...  \n",
       "18892    M        Encours  2053-12-19 00:00:00                      37.397260  \n",
       "18893    F        Encours  2033-12-03 00:00:00                      17.312329  \n",
       "18894    M        Encours  2041-11-29 00:00:00                      25.312329  \n",
       "18895    M        Encours  2051-02-05 00:00:00                      34.498630  \n",
       "18896    M        Encours  2043-05-06 00:00:00                      26.906849  \n",
       "\n",
       "[18897 rows x 14 columns]"
      ]
     },
     "execution_count": 17,
     "metadata": {},
     "output_type": "execute_result"
    }
   ],
   "source": [
    "df"
   ]
  },
  {
   "cell_type": "markdown",
   "id": "86950968",
   "metadata": {},
   "source": [
    "## 2. Analyse de la variable target"
   ]
  },
  {
   "cell_type": "code",
   "execution_count": 18,
   "id": "20d548b8",
   "metadata": {},
   "outputs": [
    {
     "data": {
      "text/plain": [
       "0        0\n",
       "1        0\n",
       "2        0\n",
       "3        0\n",
       "4        0\n",
       "        ..\n",
       "18892    0\n",
       "18893    0\n",
       "18894    0\n",
       "18895    0\n",
       "18896    0\n",
       "Name: Rachat, Length: 18897, dtype: int64"
      ]
     },
     "execution_count": 18,
     "metadata": {},
     "output_type": "execute_result"
    }
   ],
   "source": [
    "df['Rachat']"
   ]
  },
  {
   "cell_type": "code",
   "execution_count": 19,
   "id": "a0bd9148",
   "metadata": {},
   "outputs": [
    {
     "data": {
      "text/plain": [
       "0    0.953591\n",
       "1    0.046409\n",
       "Name: Rachat, dtype: float64"
      ]
     },
     "execution_count": 19,
     "metadata": {},
     "output_type": "execute_result"
    }
   ],
   "source": [
    "df['Rachat'].value_counts(normalize=True)"
   ]
  },
  {
   "cell_type": "markdown",
   "id": "5868a2ac",
   "metadata": {},
   "source": [
    "Seulement **4.64%** des contrats sont rachetés; contre **95.35%** qui sont soit encours soit echus. Donc on voit clairement que nos données sont **déséquilibrées**"
   ]
  },
  {
   "cell_type": "markdown",
   "id": "450f735b",
   "metadata": {},
   "source": [
    "## Histogrammes des variables continues "
   ]
  },
  {
   "cell_type": "code",
   "execution_count": 20,
   "id": "b7727a90",
   "metadata": {
    "scrolled": false
   },
   "outputs": [
    {
     "data": {
      "image/png": "[encoded data removed]",
      "text/plain": [
       "<Figure size 432x288 with 1 Axes>"
      ]
     },
     "metadata": {
      "needs_background": "light"
     },
     "output_type": "display_data"
    },
    {
     "data": {
      "image/png": "[encoded data removed]",
      "text/plain": [
       "<Figure size 432x288 with 1 Axes>"
      ]
     },
     "metadata": {
      "needs_background": "light"
     },
     "output_type": "display_data"
    },
    {
     "data": {
      "image/png": "[encoded data removed]",
      "text/plain": [
       "<Figure size 432x288 with 1 Axes>"
      ]
     },
     "metadata": {
      "needs_background": "light"
     },
     "output_type": "display_data"
    },
    {
     "data": {
      "image/png": "[encoded data removed]",
      "text/plain": [
       "<Figure size 432x288 with 1 Axes>"
      ]
     },
     "metadata": {
      "needs_background": "light"
     },
     "output_type": "display_data"
    }
   ],
   "source": [
    "for col in df.select_dtypes('float'):\n",
    "    plt.figure()\n",
    "    sns.distplot(df[col]) \n",
    "plt.savefig('histogramme.png')"
   ]
  },
  {
   "cell_type": "code",
   "execution_count": 21,
   "id": "a3863228",
   "metadata": {},
   "outputs": [
    {
     "data": {
      "image/png": "[encoded data removed]",
      "text/plain": [
       "<Figure size 432x288 with 1 Axes>"
      ]
     },
     "metadata": {
      "needs_background": "light"
     },
     "output_type": "display_data"
    }
   ],
   "source": [
    "plt.figure()\n",
    "sns.distplot(df['Prime']) \n",
    "plt.savefig('histprime.png')"
   ]
  },
  {
   "cell_type": "code",
   "execution_count": 22,
   "id": "6d1a478f",
   "metadata": {},
   "outputs": [
    {
     "data": {
      "image/png": "[encoded data removed]",
      "text/plain": [
       "<Figure size 432x288 with 1 Axes>"
      ]
     },
     "metadata": {
      "needs_background": "light"
     },
     "output_type": "display_data"
    }
   ],
   "source": [
    "plt.figure()\n",
    "sns.distplot(df['Age_Survenance']) \n",
    "plt.savefig('histagesurv.png')"
   ]
  },
  {
   "cell_type": "code",
   "execution_count": 23,
   "id": "f4c6f9e7",
   "metadata": {},
   "outputs": [
    {
     "data": {
      "image/png": "[encoded data removed]",
      "text/plain": [
       "<Figure size 432x288 with 1 Axes>"
      ]
     },
     "metadata": {
      "needs_background": "light"
     },
     "output_type": "display_data"
    }
   ],
   "source": [
    "plt.figure()\n",
    "sns.distplot(df['Age_Souscription']) \n",
    "plt.savefig('histagesous.png')"
   ]
  },
  {
   "cell_type": "code",
   "execution_count": 24,
   "id": "89aea525",
   "metadata": {},
   "outputs": [
    {
     "data": {
      "image/png": "[encoded data removed]",
      "text/plain": [
       "<Figure size 432x288 with 1 Axes>"
      ]
     },
     "metadata": {
      "needs_background": "light"
     },
     "output_type": "display_data"
    }
   ],
   "source": [
    "plt.figure()\n",
    "sns.distplot(df['Ancienneté_Contrat_Survenance']) \n",
    "plt.savefig('histanciennete.png')"
   ]
  },
  {
   "cell_type": "code",
   "execution_count": 25,
   "id": "a0856193",
   "metadata": {},
   "outputs": [
    {
     "data": {
      "text/plain": [
       "<AxesSubplot:xlabel='Sexe', ylabel='Rachat'>"
      ]
     },
     "execution_count": 25,
     "metadata": {},
     "output_type": "execute_result"
    },
    {
     "data": {
      "image/png": "[encoded data removed]",
      "text/plain": [
       "<Figure size 432x288 with 1 Axes>"
      ]
     },
     "metadata": {
      "needs_background": "light"
     },
     "output_type": "display_data"
    }
   ],
   "source": [
    "sns.barplot(y='Rachat',x='Sexe',data=df,palette = \"Blues\")"
   ]
  },
  {
   "cell_type": "code",
   "execution_count": 26,
   "id": "86b3a715",
   "metadata": {},
   "outputs": [
    {
     "data": {
      "text/plain": [
       "<AxesSubplot:xlabel='Fréquence', ylabel='Rachat'>"
      ]
     },
     "execution_count": 26,
     "metadata": {},
     "output_type": "execute_result"
    },
    {
     "data": {
      "image/png": "[encoded data removed]",
      "text/plain": [
       "<Figure size 432x288 with 1 Axes>"
      ]
     },
     "metadata": {
      "needs_background": "light"
     },
     "output_type": "display_data"
    }
   ],
   "source": [
    "sns.barplot(y='Rachat',x='Fréquence',data=df ,  palette = \"Blues\")"
   ]
  },
  {
   "cell_type": "code",
   "execution_count": 27,
   "id": "7c0994f2",
   "metadata": {},
   "outputs": [
    {
     "data": {
      "text/plain": [
       "<AxesSubplot:xlabel='Réseau_Distribution', ylabel='Rachat'>"
      ]
     },
     "execution_count": 27,
     "metadata": {},
     "output_type": "execute_result"
    },
    {
     "data": {
      "image/png": "[encoded data removed]",
      "text/plain": [
       "<Figure size 432x288 with 1 Axes>"
      ]
     },
     "metadata": {
      "needs_background": "light"
     },
     "output_type": "display_data"
    }
   ],
   "source": [
    "sns.barplot(y='Rachat',x='Réseau_Distribution',data=df  , palette = \"Blues\")"
   ]
  },
  {
   "cell_type": "markdown",
   "id": "35850152",
   "metadata": {},
   "source": [
    "### variables qualitatives "
   ]
  },
  {
   "cell_type": "code",
   "execution_count": 28,
   "id": "4b031795",
   "metadata": {},
   "outputs": [
    {
     "data": {
      "text/plain": [
       "array([nan, 'T', 'A', 'S', 'M'], dtype=object)"
      ]
     },
     "execution_count": 28,
     "metadata": {},
     "output_type": "execute_result"
    }
   ],
   "source": [
    "df['Fréquence'].unique()"
   ]
  },
  {
   "cell_type": "code",
   "execution_count": 29,
   "id": "53338f29",
   "metadata": {},
   "outputs": [
    {
     "name": "stdout",
     "output_type": "stream",
     "text": [
      "Fréquence [nan 'T' 'A' 'S' 'M']\n",
      "Réseau_Distribution ['Producteur ' 'Agent']\n",
      "Sexe ['M' 'F']\n",
      "Status_Contrat ['Echu' 'RACHAT PARTIEL' 'RACHAT TOTAL' 'Encours']\n",
      "Date_Survenance [datetime.datetime(2016, 3, 11, 0, 0) datetime.datetime(2016, 7, 8, 0, 0)\n",
      " datetime.datetime(2016, 3, 2, 0, 0) ...\n",
      " datetime.datetime(2051, 10, 10, 0, 0)\n",
      " datetime.datetime(2048, 7, 12, 0, 0) datetime.datetime(2051, 1, 23, 0, 0)]\n"
     ]
    }
   ],
   "source": [
    "for col in df.select_dtypes('object'):\n",
    "    print(col,df[col].unique() )"
   ]
  },
  {
   "cell_type": "code",
   "execution_count": 30,
   "id": "366c4afe",
   "metadata": {},
   "outputs": [
    {
     "name": "stdout",
     "output_type": "stream",
     "text": [
      "Fréquence----------------------------------------- [nan 'T' 'A' 'S' 'M']\n",
      "Réseau_Distribution------------------------------- ['Producteur ' 'Agent']\n",
      "Sexe---------------------------------------------- ['M' 'F']\n",
      "Status_Contrat------------------------------------ ['Echu' 'RACHAT PARTIEL' 'RACHAT TOTAL' 'Encours']\n",
      "Date_Survenance----------------------------------- [datetime.datetime(2016, 3, 11, 0, 0) datetime.datetime(2016, 7, 8, 0, 0)\n",
      " datetime.datetime(2016, 3, 2, 0, 0) ...\n",
      " datetime.datetime(2051, 10, 10, 0, 0)\n",
      " datetime.datetime(2048, 7, 12, 0, 0) datetime.datetime(2051, 1, 23, 0, 0)]\n"
     ]
    }
   ],
   "source": [
    "for col in df.select_dtypes('object'):\n",
    "    print(f'{col :-<50} {df[col].unique()}') #on change la forme d'affichage"
   ]
  },
  {
   "cell_type": "markdown",
   "id": "f9d5ea8b",
   "metadata": {},
   "source": [
    "# Pré-traitement de données "
   ]
  },
  {
   "cell_type": "code",
   "execution_count": 31,
   "id": "4bdc2b1b",
   "metadata": {},
   "outputs": [
    {
     "data": {
      "text/html": [
       "<div>\n",
       "<style scoped>\n",
       "    .dataframe tbody tr th:only-of-type {\n",
       "        vertical-align: middle;\n",
       "    }\n",
       "\n",
       "    .dataframe tbody tr th {\n",
       "        vertical-align: top;\n",
       "    }\n",
       "\n",
       "    .dataframe thead th {\n",
       "        text-align: right;\n",
       "    }\n",
       "</style>\n",
       "<table border=\"1\" class=\"dataframe\">\n",
       "  <thead>\n",
       "    <tr style=\"text-align: right;\">\n",
       "      <th></th>\n",
       "      <th>ID</th>\n",
       "      <th>Rachat</th>\n",
       "      <th>Prime</th>\n",
       "      <th>Fréquence</th>\n",
       "      <th>Date_Effet</th>\n",
       "      <th>Date_Echéance</th>\n",
       "      <th>Durée_Contrat</th>\n",
       "      <th>Réseau_Distribution</th>\n",
       "      <th>Date_de_naissance</th>\n",
       "      <th>Age_Souscription</th>\n",
       "      <th>Age_Survenance</th>\n",
       "      <th>Sexe</th>\n",
       "      <th>Status_Contrat</th>\n",
       "      <th>Date_Survenance</th>\n",
       "      <th>Ancienneté_Contrat_Survenance</th>\n",
       "      <th>Durée_Restante_Echéance</th>\n",
       "    </tr>\n",
       "  </thead>\n",
       "  <tbody>\n",
       "    <tr>\n",
       "      <th>0</th>\n",
       "      <td>702</td>\n",
       "      <td>0</td>\n",
       "      <td>1296.88</td>\n",
       "      <td>NaN</td>\n",
       "      <td>1992-05-05</td>\n",
       "      <td>2016-03-11</td>\n",
       "      <td>23.865753</td>\n",
       "      <td>Producteur</td>\n",
       "      <td>1958-04-19</td>\n",
       "      <td>34.0</td>\n",
       "      <td>57.934247</td>\n",
       "      <td>M</td>\n",
       "      <td>Echu</td>\n",
       "      <td>2016-03-11 00:00:00</td>\n",
       "      <td>23.865753</td>\n",
       "      <td>0.0</td>\n",
       "    </tr>\n",
       "    <tr>\n",
       "      <th>1</th>\n",
       "      <td>1715</td>\n",
       "      <td>0</td>\n",
       "      <td>5196.80</td>\n",
       "      <td>T</td>\n",
       "      <td>1992-09-03</td>\n",
       "      <td>2016-07-08</td>\n",
       "      <td>23.860274</td>\n",
       "      <td>Producteur</td>\n",
       "      <td>1958-03-15</td>\n",
       "      <td>34.0</td>\n",
       "      <td>58.356164</td>\n",
       "      <td>M</td>\n",
       "      <td>Echu</td>\n",
       "      <td>2016-07-08 00:00:00</td>\n",
       "      <td>23.860274</td>\n",
       "      <td>0.0</td>\n",
       "    </tr>\n",
       "    <tr>\n",
       "      <th>2</th>\n",
       "      <td>4036</td>\n",
       "      <td>0</td>\n",
       "      <td>1496.88</td>\n",
       "      <td>A</td>\n",
       "      <td>1986-04-25</td>\n",
       "      <td>2016-03-02</td>\n",
       "      <td>29.873973</td>\n",
       "      <td>Producteur</td>\n",
       "      <td>1953-11-11</td>\n",
       "      <td>32.0</td>\n",
       "      <td>62.347945</td>\n",
       "      <td>M</td>\n",
       "      <td>Echu</td>\n",
       "      <td>2016-03-02 00:00:00</td>\n",
       "      <td>29.873973</td>\n",
       "      <td>0.0</td>\n",
       "    </tr>\n",
       "    <tr>\n",
       "      <th>3</th>\n",
       "      <td>5212</td>\n",
       "      <td>0</td>\n",
       "      <td>145.50</td>\n",
       "      <td>A</td>\n",
       "      <td>1988-02-03</td>\n",
       "      <td>2015-11-11</td>\n",
       "      <td>27.789041</td>\n",
       "      <td>Producteur</td>\n",
       "      <td>1953-07-21</td>\n",
       "      <td>34.0</td>\n",
       "      <td>62.350685</td>\n",
       "      <td>F</td>\n",
       "      <td>Echu</td>\n",
       "      <td>2015-11-11 00:00:00</td>\n",
       "      <td>27.789041</td>\n",
       "      <td>0.0</td>\n",
       "    </tr>\n",
       "    <tr>\n",
       "      <th>4</th>\n",
       "      <td>6026</td>\n",
       "      <td>0</td>\n",
       "      <td>2174.76</td>\n",
       "      <td>A</td>\n",
       "      <td>1986-09-09</td>\n",
       "      <td>2016-07-15</td>\n",
       "      <td>29.868493</td>\n",
       "      <td>Producteur</td>\n",
       "      <td>1958-03-01</td>\n",
       "      <td>28.0</td>\n",
       "      <td>58.413699</td>\n",
       "      <td>M</td>\n",
       "      <td>Echu</td>\n",
       "      <td>2016-07-15 00:00:00</td>\n",
       "      <td>29.868493</td>\n",
       "      <td>0.0</td>\n",
       "    </tr>\n",
       "  </tbody>\n",
       "</table>\n",
       "</div>"
      ],
      "text/plain": [
       "    ID   Rachat    Prime Fréquence Date_Effet Date_Echéance  Durée_Contrat  \\\n",
       "0   702       0  1296.88       NaN 1992-05-05    2016-03-11      23.865753   \n",
       "1  1715       0  5196.80         T 1992-09-03    2016-07-08      23.860274   \n",
       "2  4036       0  1496.88         A 1986-04-25    2016-03-02      29.873973   \n",
       "3  5212       0   145.50         A 1988-02-03    2015-11-11      27.789041   \n",
       "4  6026       0  2174.76         A 1986-09-09    2016-07-15      29.868493   \n",
       "\n",
       "  Réseau_Distribution Date_de_naissance  Age_Souscription  Age_Survenance  \\\n",
       "0         Producteur         1958-04-19              34.0       57.934247   \n",
       "1         Producteur         1958-03-15              34.0       58.356164   \n",
       "2         Producteur         1953-11-11              32.0       62.347945   \n",
       "3         Producteur         1953-07-21              34.0       62.350685   \n",
       "4         Producteur         1958-03-01              28.0       58.413699   \n",
       "\n",
       "  Sexe Status_Contrat      Date_Survenance  Ancienneté_Contrat_Survenance  \\\n",
       "0    M           Echu  2016-03-11 00:00:00                      23.865753   \n",
       "1    M           Echu  2016-07-08 00:00:00                      23.860274   \n",
       "2    M           Echu  2016-03-02 00:00:00                      29.873973   \n",
       "3    F           Echu  2015-11-11 00:00:00                      27.789041   \n",
       "4    M           Echu  2016-07-15 00:00:00                      29.868493   \n",
       "\n",
       "   Durée_Restante_Echéance  \n",
       "0                      0.0  \n",
       "1                      0.0  \n",
       "2                      0.0  \n",
       "3                      0.0  \n",
       "4                      0.0  "
      ]
     },
     "execution_count": 31,
     "metadata": {},
     "output_type": "execute_result"
    }
   ],
   "source": [
    "df = data.copy()\n",
    "df.head()"
   ]
  },
  {
   "cell_type": "code",
   "execution_count": 32,
   "id": "71541db6",
   "metadata": {},
   "outputs": [
    {
     "data": {
      "text/plain": [
       "Index(['ID ', 'Rachat', 'Prime', 'Fréquence', 'Date_Effet', 'Date_Echéance',\n",
       "       'Durée_Contrat', 'Réseau_Distribution', 'Date_de_naissance',\n",
       "       'Age_Souscription', 'Age_Survenance', 'Sexe', 'Status_Contrat',\n",
       "       'Date_Survenance', 'Ancienneté_Contrat_Survenance',\n",
       "       'Durée_Restante_Echéance'],\n",
       "      dtype='object')"
      ]
     },
     "execution_count": 32,
     "metadata": {},
     "output_type": "execute_result"
    }
   ],
   "source": [
    "df.columns\n"
   ]
  },
  {
   "cell_type": "code",
   "execution_count": 33,
   "id": "4840c3cd",
   "metadata": {},
   "outputs": [],
   "source": [
    "data = df.drop(['ID ', 'Date_Effet','Date_Echéance', 'Date_de_naissance',\n",
    "       'Status_Contrat','Date_Survenance'], axis=1) \n",
    "#Eliminer les variables non utiles "
   ]
  },
  {
   "cell_type": "code",
   "execution_count": 34,
   "id": "3e673622",
   "metadata": {},
   "outputs": [
    {
     "data": {
      "text/html": [
       "<div>\n",
       "<style scoped>\n",
       "    .dataframe tbody tr th:only-of-type {\n",
       "        vertical-align: middle;\n",
       "    }\n",
       "\n",
       "    .dataframe tbody tr th {\n",
       "        vertical-align: top;\n",
       "    }\n",
       "\n",
       "    .dataframe thead th {\n",
       "        text-align: right;\n",
       "    }\n",
       "</style>\n",
       "<table border=\"1\" class=\"dataframe\">\n",
       "  <thead>\n",
       "    <tr style=\"text-align: right;\">\n",
       "      <th></th>\n",
       "      <th>Rachat</th>\n",
       "      <th>Prime</th>\n",
       "      <th>Fréquence</th>\n",
       "      <th>Durée_Contrat</th>\n",
       "      <th>Réseau_Distribution</th>\n",
       "      <th>Age_Souscription</th>\n",
       "      <th>Age_Survenance</th>\n",
       "      <th>Sexe</th>\n",
       "      <th>Ancienneté_Contrat_Survenance</th>\n",
       "      <th>Durée_Restante_Echéance</th>\n",
       "    </tr>\n",
       "  </thead>\n",
       "  <tbody>\n",
       "    <tr>\n",
       "      <th>0</th>\n",
       "      <td>0</td>\n",
       "      <td>1296.88</td>\n",
       "      <td>NaN</td>\n",
       "      <td>23.865753</td>\n",
       "      <td>Producteur</td>\n",
       "      <td>34.0</td>\n",
       "      <td>57.934247</td>\n",
       "      <td>M</td>\n",
       "      <td>23.865753</td>\n",
       "      <td>0.0</td>\n",
       "    </tr>\n",
       "    <tr>\n",
       "      <th>1</th>\n",
       "      <td>0</td>\n",
       "      <td>5196.80</td>\n",
       "      <td>T</td>\n",
       "      <td>23.860274</td>\n",
       "      <td>Producteur</td>\n",
       "      <td>34.0</td>\n",
       "      <td>58.356164</td>\n",
       "      <td>M</td>\n",
       "      <td>23.860274</td>\n",
       "      <td>0.0</td>\n",
       "    </tr>\n",
       "    <tr>\n",
       "      <th>2</th>\n",
       "      <td>0</td>\n",
       "      <td>1496.88</td>\n",
       "      <td>A</td>\n",
       "      <td>29.873973</td>\n",
       "      <td>Producteur</td>\n",
       "      <td>32.0</td>\n",
       "      <td>62.347945</td>\n",
       "      <td>M</td>\n",
       "      <td>29.873973</td>\n",
       "      <td>0.0</td>\n",
       "    </tr>\n",
       "    <tr>\n",
       "      <th>3</th>\n",
       "      <td>0</td>\n",
       "      <td>145.50</td>\n",
       "      <td>A</td>\n",
       "      <td>27.789041</td>\n",
       "      <td>Producteur</td>\n",
       "      <td>34.0</td>\n",
       "      <td>62.350685</td>\n",
       "      <td>F</td>\n",
       "      <td>27.789041</td>\n",
       "      <td>0.0</td>\n",
       "    </tr>\n",
       "    <tr>\n",
       "      <th>4</th>\n",
       "      <td>0</td>\n",
       "      <td>2174.76</td>\n",
       "      <td>A</td>\n",
       "      <td>29.868493</td>\n",
       "      <td>Producteur</td>\n",
       "      <td>28.0</td>\n",
       "      <td>58.413699</td>\n",
       "      <td>M</td>\n",
       "      <td>29.868493</td>\n",
       "      <td>0.0</td>\n",
       "    </tr>\n",
       "  </tbody>\n",
       "</table>\n",
       "</div>"
      ],
      "text/plain": [
       "   Rachat    Prime Fréquence  Durée_Contrat Réseau_Distribution  \\\n",
       "0       0  1296.88       NaN      23.865753         Producteur    \n",
       "1       0  5196.80         T      23.860274         Producteur    \n",
       "2       0  1496.88         A      29.873973         Producteur    \n",
       "3       0   145.50         A      27.789041         Producteur    \n",
       "4       0  2174.76         A      29.868493         Producteur    \n",
       "\n",
       "   Age_Souscription  Age_Survenance Sexe  Ancienneté_Contrat_Survenance  \\\n",
       "0              34.0       57.934247    M                      23.865753   \n",
       "1              34.0       58.356164    M                      23.860274   \n",
       "2              32.0       62.347945    M                      29.873973   \n",
       "3              34.0       62.350685    F                      27.789041   \n",
       "4              28.0       58.413699    M                      29.868493   \n",
       "\n",
       "   Durée_Restante_Echéance  \n",
       "0                      0.0  \n",
       "1                      0.0  \n",
       "2                      0.0  \n",
       "3                      0.0  \n",
       "4                      0.0  "
      ]
     },
     "execution_count": 34,
     "metadata": {},
     "output_type": "execute_result"
    }
   ],
   "source": [
    "data.head()\n"
   ]
  },
  {
   "cell_type": "code",
   "execution_count": 35,
   "id": "8c309429",
   "metadata": {},
   "outputs": [
    {
     "data": {
      "text/plain": [
       "(18897, 10)"
      ]
     },
     "execution_count": 35,
     "metadata": {},
     "output_type": "execute_result"
    }
   ],
   "source": [
    "data.shape"
   ]
  },
  {
   "cell_type": "code",
   "execution_count": 36,
   "id": "8f71a923",
   "metadata": {},
   "outputs": [
    {
     "data": {
      "text/plain": [
       "(17855, 10)"
      ]
     },
     "execution_count": 36,
     "metadata": {},
     "output_type": "execute_result"
    }
   ],
   "source": [
    "data = data.dropna(axis=0)\n",
    "data.shape"
   ]
  },
  {
   "cell_type": "code",
   "execution_count": 37,
   "id": "5067ce23",
   "metadata": {},
   "outputs": [
    {
     "data": {
      "text/html": [
       "<div>\n",
       "<style scoped>\n",
       "    .dataframe tbody tr th:only-of-type {\n",
       "        vertical-align: middle;\n",
       "    }\n",
       "\n",
       "    .dataframe tbody tr th {\n",
       "        vertical-align: top;\n",
       "    }\n",
       "\n",
       "    .dataframe thead th {\n",
       "        text-align: right;\n",
       "    }\n",
       "</style>\n",
       "<table border=\"1\" class=\"dataframe\">\n",
       "  <thead>\n",
       "    <tr style=\"text-align: right;\">\n",
       "      <th></th>\n",
       "      <th>Rachat</th>\n",
       "      <th>Prime</th>\n",
       "      <th>Durée_Contrat</th>\n",
       "      <th>Age_Souscription</th>\n",
       "      <th>Age_Survenance</th>\n",
       "      <th>Ancienneté_Contrat_Survenance</th>\n",
       "      <th>Durée_Restante_Echéance</th>\n",
       "    </tr>\n",
       "  </thead>\n",
       "  <tbody>\n",
       "    <tr>\n",
       "      <th>count</th>\n",
       "      <td>17855.000000</td>\n",
       "      <td>17855.000000</td>\n",
       "      <td>17855.000000</td>\n",
       "      <td>17855.000000</td>\n",
       "      <td>17855.000000</td>\n",
       "      <td>17855.000000</td>\n",
       "      <td>17855.000000</td>\n",
       "    </tr>\n",
       "    <tr>\n",
       "      <th>mean</th>\n",
       "      <td>0.045029</td>\n",
       "      <td>1783.837462</td>\n",
       "      <td>27.919342</td>\n",
       "      <td>36.385438</td>\n",
       "      <td>64.050809</td>\n",
       "      <td>27.141172</td>\n",
       "      <td>20.382020</td>\n",
       "    </tr>\n",
       "    <tr>\n",
       "      <th>std</th>\n",
       "      <td>0.207374</td>\n",
       "      <td>2049.331000</td>\n",
       "      <td>8.347539</td>\n",
       "      <td>8.408454</td>\n",
       "      <td>6.843959</td>\n",
       "      <td>8.997640</td>\n",
       "      <td>9.042965</td>\n",
       "    </tr>\n",
       "    <tr>\n",
       "      <th>min</th>\n",
       "      <td>0.000000</td>\n",
       "      <td>7.400000</td>\n",
       "      <td>0.531507</td>\n",
       "      <td>9.000000</td>\n",
       "      <td>22.668493</td>\n",
       "      <td>0.030137</td>\n",
       "      <td>0.000000</td>\n",
       "    </tr>\n",
       "    <tr>\n",
       "      <th>25%</th>\n",
       "      <td>0.000000</td>\n",
       "      <td>720.230000</td>\n",
       "      <td>22.095890</td>\n",
       "      <td>31.000000</td>\n",
       "      <td>60.024658</td>\n",
       "      <td>21.284932</td>\n",
       "      <td>13.838356</td>\n",
       "    </tr>\n",
       "    <tr>\n",
       "      <th>50%</th>\n",
       "      <td>0.000000</td>\n",
       "      <td>1164.700000</td>\n",
       "      <td>27.901370</td>\n",
       "      <td>37.000000</td>\n",
       "      <td>64.945205</td>\n",
       "      <td>27.476712</td>\n",
       "      <td>20.991781</td>\n",
       "    </tr>\n",
       "    <tr>\n",
       "      <th>75%</th>\n",
       "      <td>0.000000</td>\n",
       "      <td>1999.140000</td>\n",
       "      <td>34.210959</td>\n",
       "      <td>41.000000</td>\n",
       "      <td>68.512329</td>\n",
       "      <td>33.605479</td>\n",
       "      <td>26.604110</td>\n",
       "    </tr>\n",
       "    <tr>\n",
       "      <th>max</th>\n",
       "      <td>1.000000</td>\n",
       "      <td>44487.300000</td>\n",
       "      <td>53.791781</td>\n",
       "      <td>72.000000</td>\n",
       "      <td>85.939726</td>\n",
       "      <td>53.791781</td>\n",
       "      <td>47.498630</td>\n",
       "    </tr>\n",
       "  </tbody>\n",
       "</table>\n",
       "</div>"
      ],
      "text/plain": [
       "             Rachat         Prime  Durée_Contrat  Age_Souscription  \\\n",
       "count  17855.000000  17855.000000   17855.000000      17855.000000   \n",
       "mean       0.045029   1783.837462      27.919342         36.385438   \n",
       "std        0.207374   2049.331000       8.347539          8.408454   \n",
       "min        0.000000      7.400000       0.531507          9.000000   \n",
       "25%        0.000000    720.230000      22.095890         31.000000   \n",
       "50%        0.000000   1164.700000      27.901370         37.000000   \n",
       "75%        0.000000   1999.140000      34.210959         41.000000   \n",
       "max        1.000000  44487.300000      53.791781         72.000000   \n",
       "\n",
       "       Age_Survenance  Ancienneté_Contrat_Survenance  Durée_Restante_Echéance  \n",
       "count    17855.000000                   17855.000000             17855.000000  \n",
       "mean        64.050809                      27.141172                20.382020  \n",
       "std          6.843959                       8.997640                 9.042965  \n",
       "min         22.668493                       0.030137                 0.000000  \n",
       "25%         60.024658                      21.284932                13.838356  \n",
       "50%         64.945205                      27.476712                20.991781  \n",
       "75%         68.512329                      33.605479                26.604110  \n",
       "max         85.939726                      53.791781                47.498630  "
      ]
     },
     "execution_count": 37,
     "metadata": {},
     "output_type": "execute_result"
    }
   ],
   "source": [
    "data.describe()"
   ]
  },
  {
   "cell_type": "code",
   "execution_count": 38,
   "id": "1390ac90",
   "metadata": {},
   "outputs": [],
   "source": [
    "data.drop(\"Durée_Contrat\", axis=1, inplace=True)"
   ]
  },
  {
   "cell_type": "code",
   "execution_count": 39,
   "id": "010e8fb3",
   "metadata": {},
   "outputs": [],
   "source": [
    "data.drop(\"Durée_Restante_Echéance\", axis=1, inplace=True)"
   ]
  },
  {
   "cell_type": "code",
   "execution_count": 40,
   "id": "82ab0030",
   "metadata": {},
   "outputs": [
    {
     "data": {
      "text/html": [
       "<div>\n",
       "<style scoped>\n",
       "    .dataframe tbody tr th:only-of-type {\n",
       "        vertical-align: middle;\n",
       "    }\n",
       "\n",
       "    .dataframe tbody tr th {\n",
       "        vertical-align: top;\n",
       "    }\n",
       "\n",
       "    .dataframe thead th {\n",
       "        text-align: right;\n",
       "    }\n",
       "</style>\n",
       "<table border=\"1\" class=\"dataframe\">\n",
       "  <thead>\n",
       "    <tr style=\"text-align: right;\">\n",
       "      <th></th>\n",
       "      <th>Rachat</th>\n",
       "      <th>Prime</th>\n",
       "      <th>Fréquence</th>\n",
       "      <th>Réseau_Distribution</th>\n",
       "      <th>Age_Souscription</th>\n",
       "      <th>Age_Survenance</th>\n",
       "      <th>Sexe</th>\n",
       "      <th>Ancienneté_Contrat_Survenance</th>\n",
       "    </tr>\n",
       "  </thead>\n",
       "  <tbody>\n",
       "    <tr>\n",
       "      <th>1</th>\n",
       "      <td>0</td>\n",
       "      <td>5196.80</td>\n",
       "      <td>T</td>\n",
       "      <td>Producteur</td>\n",
       "      <td>34.0</td>\n",
       "      <td>58.356164</td>\n",
       "      <td>M</td>\n",
       "      <td>23.860274</td>\n",
       "    </tr>\n",
       "    <tr>\n",
       "      <th>2</th>\n",
       "      <td>0</td>\n",
       "      <td>1496.88</td>\n",
       "      <td>A</td>\n",
       "      <td>Producteur</td>\n",
       "      <td>32.0</td>\n",
       "      <td>62.347945</td>\n",
       "      <td>M</td>\n",
       "      <td>29.873973</td>\n",
       "    </tr>\n",
       "    <tr>\n",
       "      <th>3</th>\n",
       "      <td>0</td>\n",
       "      <td>145.50</td>\n",
       "      <td>A</td>\n",
       "      <td>Producteur</td>\n",
       "      <td>34.0</td>\n",
       "      <td>62.350685</td>\n",
       "      <td>F</td>\n",
       "      <td>27.789041</td>\n",
       "    </tr>\n",
       "    <tr>\n",
       "      <th>4</th>\n",
       "      <td>0</td>\n",
       "      <td>2174.76</td>\n",
       "      <td>A</td>\n",
       "      <td>Producteur</td>\n",
       "      <td>28.0</td>\n",
       "      <td>58.413699</td>\n",
       "      <td>M</td>\n",
       "      <td>29.868493</td>\n",
       "    </tr>\n",
       "    <tr>\n",
       "      <th>5</th>\n",
       "      <td>0</td>\n",
       "      <td>2536.38</td>\n",
       "      <td>T</td>\n",
       "      <td>Producteur</td>\n",
       "      <td>37.0</td>\n",
       "      <td>67.558904</td>\n",
       "      <td>M</td>\n",
       "      <td>29.868493</td>\n",
       "    </tr>\n",
       "    <tr>\n",
       "      <th>...</th>\n",
       "      <td>...</td>\n",
       "      <td>...</td>\n",
       "      <td>...</td>\n",
       "      <td>...</td>\n",
       "      <td>...</td>\n",
       "      <td>...</td>\n",
       "      <td>...</td>\n",
       "      <td>...</td>\n",
       "    </tr>\n",
       "    <tr>\n",
       "      <th>18892</th>\n",
       "      <td>0</td>\n",
       "      <td>952.56</td>\n",
       "      <td>T</td>\n",
       "      <td>Producteur</td>\n",
       "      <td>30.0</td>\n",
       "      <td>67.939726</td>\n",
       "      <td>M</td>\n",
       "      <td>37.397260</td>\n",
       "    </tr>\n",
       "    <tr>\n",
       "      <th>18893</th>\n",
       "      <td>0</td>\n",
       "      <td>934.56</td>\n",
       "      <td>S</td>\n",
       "      <td>Producteur</td>\n",
       "      <td>41.0</td>\n",
       "      <td>59.202740</td>\n",
       "      <td>F</td>\n",
       "      <td>17.312329</td>\n",
       "    </tr>\n",
       "    <tr>\n",
       "      <th>18894</th>\n",
       "      <td>0</td>\n",
       "      <td>7560.00</td>\n",
       "      <td>A</td>\n",
       "      <td>Agent</td>\n",
       "      <td>40.0</td>\n",
       "      <td>65.736986</td>\n",
       "      <td>M</td>\n",
       "      <td>25.312329</td>\n",
       "    </tr>\n",
       "    <tr>\n",
       "      <th>18895</th>\n",
       "      <td>0</td>\n",
       "      <td>1134.00</td>\n",
       "      <td>S</td>\n",
       "      <td>Producteur</td>\n",
       "      <td>30.0</td>\n",
       "      <td>64.564384</td>\n",
       "      <td>M</td>\n",
       "      <td>34.498630</td>\n",
       "    </tr>\n",
       "    <tr>\n",
       "      <th>18896</th>\n",
       "      <td>0</td>\n",
       "      <td>2643.84</td>\n",
       "      <td>M</td>\n",
       "      <td>Agent</td>\n",
       "      <td>41.0</td>\n",
       "      <td>68.128767</td>\n",
       "      <td>M</td>\n",
       "      <td>26.906849</td>\n",
       "    </tr>\n",
       "  </tbody>\n",
       "</table>\n",
       "<p>17855 rows × 8 columns</p>\n",
       "</div>"
      ],
      "text/plain": [
       "       Rachat    Prime Fréquence Réseau_Distribution  Age_Souscription  \\\n",
       "1           0  5196.80         T         Producteur               34.0   \n",
       "2           0  1496.88         A         Producteur               32.0   \n",
       "3           0   145.50         A         Producteur               34.0   \n",
       "4           0  2174.76         A         Producteur               28.0   \n",
       "5           0  2536.38         T         Producteur               37.0   \n",
       "...       ...      ...       ...                 ...               ...   \n",
       "18892       0   952.56         T         Producteur               30.0   \n",
       "18893       0   934.56         S         Producteur               41.0   \n",
       "18894       0  7560.00         A               Agent              40.0   \n",
       "18895       0  1134.00         S         Producteur               30.0   \n",
       "18896       0  2643.84         M               Agent              41.0   \n",
       "\n",
       "       Age_Survenance Sexe  Ancienneté_Contrat_Survenance  \n",
       "1           58.356164    M                      23.860274  \n",
       "2           62.347945    M                      29.873973  \n",
       "3           62.350685    F                      27.789041  \n",
       "4           58.413699    M                      29.868493  \n",
       "5           67.558904    M                      29.868493  \n",
       "...               ...  ...                            ...  \n",
       "18892       67.939726    M                      37.397260  \n",
       "18893       59.202740    F                      17.312329  \n",
       "18894       65.736986    M                      25.312329  \n",
       "18895       64.564384    M                      34.498630  \n",
       "18896       68.128767    M                      26.906849  \n",
       "\n",
       "[17855 rows x 8 columns]"
      ]
     },
     "execution_count": 40,
     "metadata": {},
     "output_type": "execute_result"
    }
   ],
   "source": [
    "data"
   ]
  },
  {
   "cell_type": "code",
   "execution_count": 41,
   "id": "bbb03bcb",
   "metadata": {},
   "outputs": [
    {
     "name": "stdout",
     "output_type": "stream",
     "text": [
      "Fréquence----------------------------------------- ['T' 'A' 'S' 'M']\n",
      "Réseau_Distribution------------------------------- ['Producteur ' 'Agent']\n",
      "Sexe---------------------------------------------- ['M' 'F']\n"
     ]
    }
   ],
   "source": [
    "for col in data.select_dtypes('object'):\n",
    "    print(f'{col :-<50} {data[col].unique()}') "
   ]
  },
  {
   "cell_type": "code",
   "execution_count": 42,
   "id": "3422ebb2",
   "metadata": {},
   "outputs": [],
   "source": [
    "data.dropna(axis=0 , inplace = True)"
   ]
  },
  {
   "cell_type": "code",
   "execution_count": 43,
   "id": "1cf66104",
   "metadata": {},
   "outputs": [
    {
     "data": {
      "text/plain": [
       "(17855, 8)"
      ]
     },
     "execution_count": 43,
     "metadata": {},
     "output_type": "execute_result"
    }
   ],
   "source": [
    "data.shape\n"
   ]
  },
  {
   "cell_type": "markdown",
   "id": "ab9a61c8",
   "metadata": {},
   "source": [
    "## Encodage Selection des variables"
   ]
  },
  {
   "cell_type": "code",
   "execution_count": 44,
   "id": "025496e7",
   "metadata": {},
   "outputs": [],
   "source": [
    "#creation d'une fontion encodage pour l'utiliser aprés sur le testset\n",
    "def encodage(data):\n",
    "    code = {'M':3,\n",
    "            'T':2,\n",
    "            'S':1,\n",
    "            'A':0,\n",
    "            'Producteur ':0,\n",
    "            'Agent':1,\n",
    "            'M':0,\n",
    "            'F':1,\n",
    "           }\n",
    "    \n",
    "    for col in data.select_dtypes('object').columns:\n",
    "        data.loc[:,col] = data[col].map(code)\n",
    "        \n",
    "    return data"
   ]
  },
  {
   "cell_type": "code",
   "execution_count": 45,
   "id": "4411c96d",
   "metadata": {},
   "outputs": [],
   "source": [
    "data = encodage(data)"
   ]
  },
  {
   "cell_type": "markdown",
   "id": "fee314ba",
   "metadata": {},
   "source": [
    "## Feature Selection"
   ]
  },
  {
   "cell_type": "code",
   "execution_count": 46,
   "id": "48d172f4",
   "metadata": {},
   "outputs": [
    {
     "data": {
      "text/plain": [
       "Index(['Rachat', 'Prime', 'Fréquence', 'Réseau_Distribution',\n",
       "       'Age_Souscription', 'Age_Survenance', 'Sexe',\n",
       "       'Ancienneté_Contrat_Survenance'],\n",
       "      dtype='object')"
      ]
     },
     "execution_count": 46,
     "metadata": {},
     "output_type": "execute_result"
    }
   ],
   "source": [
    "data.columns"
   ]
  },
  {
   "cell_type": "code",
   "execution_count": 47,
   "id": "e14a8b07",
   "metadata": {},
   "outputs": [
    {
     "data": {
      "text/plain": [
       "<AxesSubplot:>"
      ]
     },
     "execution_count": 47,
     "metadata": {},
     "output_type": "execute_result"
    },
    {
     "data": {
      "image/png": "[encoded data removed]",
      "text/plain": [
       "<Figure size 1440x720 with 1 Axes>"
      ]
     },
     "metadata": {
      "needs_background": "light"
     },
     "output_type": "display_data"
    }
   ],
   "source": [
    "plt.figure(figsize=(20,10))\n",
    "sns.heatmap(data.isna(), cbar=False)"
   ]
  },
  {
   "cell_type": "code",
   "execution_count": 48,
   "id": "b4d81a42",
   "metadata": {},
   "outputs": [],
   "source": [
    "data.dropna(axis=0 , inplace = True)"
   ]
  },
  {
   "cell_type": "code",
   "execution_count": 49,
   "id": "b13c7056",
   "metadata": {},
   "outputs": [
    {
     "data": {
      "text/plain": [
       "(17855, 8)"
      ]
     },
     "execution_count": 49,
     "metadata": {},
     "output_type": "execute_result"
    }
   ],
   "source": [
    "data.shape"
   ]
  },
  {
   "cell_type": "code",
   "execution_count": 50,
   "id": "91b6c4c1",
   "metadata": {},
   "outputs": [
    {
     "data": {
      "text/plain": [
       "Index(['Rachat', 'Prime', 'Fréquence', 'Réseau_Distribution',\n",
       "       'Age_Souscription', 'Age_Survenance', 'Sexe',\n",
       "       'Ancienneté_Contrat_Survenance'],\n",
       "      dtype='object')"
      ]
     },
     "execution_count": 50,
     "metadata": {},
     "output_type": "execute_result"
    }
   ],
   "source": [
    "data.columns"
   ]
  },
  {
   "cell_type": "code",
   "execution_count": 51,
   "id": "2437b00f",
   "metadata": {},
   "outputs": [
    {
     "data": {
      "text/plain": [
       "1        0\n",
       "2        0\n",
       "3        0\n",
       "4        0\n",
       "5        0\n",
       "        ..\n",
       "18892    0\n",
       "18893    0\n",
       "18894    0\n",
       "18895    0\n",
       "18896    0\n",
       "Name: Rachat, Length: 17855, dtype: int64"
      ]
     },
     "execution_count": 51,
     "metadata": {},
     "output_type": "execute_result"
    }
   ],
   "source": [
    "y=data['Rachat']\n",
    "y\n"
   ]
  },
  {
   "cell_type": "code",
   "execution_count": 52,
   "id": "4d213fdd",
   "metadata": {},
   "outputs": [
    {
     "data": {
      "text/html": [
       "<div>\n",
       "<style scoped>\n",
       "    .dataframe tbody tr th:only-of-type {\n",
       "        vertical-align: middle;\n",
       "    }\n",
       "\n",
       "    .dataframe tbody tr th {\n",
       "        vertical-align: top;\n",
       "    }\n",
       "\n",
       "    .dataframe thead th {\n",
       "        text-align: right;\n",
       "    }\n",
       "</style>\n",
       "<table border=\"1\" class=\"dataframe\">\n",
       "  <thead>\n",
       "    <tr style=\"text-align: right;\">\n",
       "      <th></th>\n",
       "      <th>Prime</th>\n",
       "      <th>Fréquence</th>\n",
       "      <th>Réseau_Distribution</th>\n",
       "      <th>Age_Souscription</th>\n",
       "      <th>Age_Survenance</th>\n",
       "      <th>Sexe</th>\n",
       "      <th>Ancienneté_Contrat_Survenance</th>\n",
       "    </tr>\n",
       "  </thead>\n",
       "  <tbody>\n",
       "    <tr>\n",
       "      <th>1</th>\n",
       "      <td>5196.80</td>\n",
       "      <td>2</td>\n",
       "      <td>0</td>\n",
       "      <td>34.0</td>\n",
       "      <td>58.356164</td>\n",
       "      <td>0</td>\n",
       "      <td>23.860274</td>\n",
       "    </tr>\n",
       "    <tr>\n",
       "      <th>2</th>\n",
       "      <td>1496.88</td>\n",
       "      <td>0</td>\n",
       "      <td>0</td>\n",
       "      <td>32.0</td>\n",
       "      <td>62.347945</td>\n",
       "      <td>0</td>\n",
       "      <td>29.873973</td>\n",
       "    </tr>\n",
       "    <tr>\n",
       "      <th>3</th>\n",
       "      <td>145.50</td>\n",
       "      <td>0</td>\n",
       "      <td>0</td>\n",
       "      <td>34.0</td>\n",
       "      <td>62.350685</td>\n",
       "      <td>1</td>\n",
       "      <td>27.789041</td>\n",
       "    </tr>\n",
       "    <tr>\n",
       "      <th>4</th>\n",
       "      <td>2174.76</td>\n",
       "      <td>0</td>\n",
       "      <td>0</td>\n",
       "      <td>28.0</td>\n",
       "      <td>58.413699</td>\n",
       "      <td>0</td>\n",
       "      <td>29.868493</td>\n",
       "    </tr>\n",
       "    <tr>\n",
       "      <th>5</th>\n",
       "      <td>2536.38</td>\n",
       "      <td>2</td>\n",
       "      <td>0</td>\n",
       "      <td>37.0</td>\n",
       "      <td>67.558904</td>\n",
       "      <td>0</td>\n",
       "      <td>29.868493</td>\n",
       "    </tr>\n",
       "    <tr>\n",
       "      <th>...</th>\n",
       "      <td>...</td>\n",
       "      <td>...</td>\n",
       "      <td>...</td>\n",
       "      <td>...</td>\n",
       "      <td>...</td>\n",
       "      <td>...</td>\n",
       "      <td>...</td>\n",
       "    </tr>\n",
       "    <tr>\n",
       "      <th>18892</th>\n",
       "      <td>952.56</td>\n",
       "      <td>2</td>\n",
       "      <td>0</td>\n",
       "      <td>30.0</td>\n",
       "      <td>67.939726</td>\n",
       "      <td>0</td>\n",
       "      <td>37.397260</td>\n",
       "    </tr>\n",
       "    <tr>\n",
       "      <th>18893</th>\n",
       "      <td>934.56</td>\n",
       "      <td>1</td>\n",
       "      <td>0</td>\n",
       "      <td>41.0</td>\n",
       "      <td>59.202740</td>\n",
       "      <td>1</td>\n",
       "      <td>17.312329</td>\n",
       "    </tr>\n",
       "    <tr>\n",
       "      <th>18894</th>\n",
       "      <td>7560.00</td>\n",
       "      <td>0</td>\n",
       "      <td>1</td>\n",
       "      <td>40.0</td>\n",
       "      <td>65.736986</td>\n",
       "      <td>0</td>\n",
       "      <td>25.312329</td>\n",
       "    </tr>\n",
       "    <tr>\n",
       "      <th>18895</th>\n",
       "      <td>1134.00</td>\n",
       "      <td>1</td>\n",
       "      <td>0</td>\n",
       "      <td>30.0</td>\n",
       "      <td>64.564384</td>\n",
       "      <td>0</td>\n",
       "      <td>34.498630</td>\n",
       "    </tr>\n",
       "    <tr>\n",
       "      <th>18896</th>\n",
       "      <td>2643.84</td>\n",
       "      <td>0</td>\n",
       "      <td>1</td>\n",
       "      <td>41.0</td>\n",
       "      <td>68.128767</td>\n",
       "      <td>0</td>\n",
       "      <td>26.906849</td>\n",
       "    </tr>\n",
       "  </tbody>\n",
       "</table>\n",
       "<p>17855 rows × 7 columns</p>\n",
       "</div>"
      ],
      "text/plain": [
       "         Prime  Fréquence  Réseau_Distribution  Age_Souscription  \\\n",
       "1      5196.80          2                    0              34.0   \n",
       "2      1496.88          0                    0              32.0   \n",
       "3       145.50          0                    0              34.0   \n",
       "4      2174.76          0                    0              28.0   \n",
       "5      2536.38          2                    0              37.0   \n",
       "...        ...        ...                  ...               ...   \n",
       "18892   952.56          2                    0              30.0   \n",
       "18893   934.56          1                    0              41.0   \n",
       "18894  7560.00          0                    1              40.0   \n",
       "18895  1134.00          1                    0              30.0   \n",
       "18896  2643.84          0                    1              41.0   \n",
       "\n",
       "       Age_Survenance  Sexe  Ancienneté_Contrat_Survenance  \n",
       "1           58.356164     0                      23.860274  \n",
       "2           62.347945     0                      29.873973  \n",
       "3           62.350685     1                      27.789041  \n",
       "4           58.413699     0                      29.868493  \n",
       "5           67.558904     0                      29.868493  \n",
       "...               ...   ...                            ...  \n",
       "18892       67.939726     0                      37.397260  \n",
       "18893       59.202740     1                      17.312329  \n",
       "18894       65.736986     0                      25.312329  \n",
       "18895       64.564384     0                      34.498630  \n",
       "18896       68.128767     0                      26.906849  \n",
       "\n",
       "[17855 rows x 7 columns]"
      ]
     },
     "execution_count": 52,
     "metadata": {},
     "output_type": "execute_result"
    }
   ],
   "source": [
    "var=['Prime', 'Fréquence', 'Réseau_Distribution',\n",
    "       'Age_Souscription', 'Age_Survenance', 'Sexe',\n",
    "       'Ancienneté_Contrat_Survenance']\n",
    "\n",
    "X= data[var]\n",
    "X "
   ]
  },
  {
   "cell_type": "code",
   "execution_count": 53,
   "id": "c0051546",
   "metadata": {},
   "outputs": [
    {
     "data": {
      "text/plain": [
       "array([ True,  True,  True,  True,  True,  True,  True])"
      ]
     },
     "execution_count": 53,
     "metadata": {},
     "output_type": "execute_result"
    }
   ],
   "source": [
    "from sklearn.feature_selection import VarianceThreshold\n",
    "variance = VarianceThreshold(threshold = (.9 * (1 - .9))) \n",
    "variance.fit(X) \n",
    "variance.get_support()"
   ]
  },
  {
   "cell_type": "markdown",
   "id": "62f0ef78",
   "metadata": {},
   "source": [
    " La fonction ci-dessous identifiera les variables qui sont les mêmes dans au moins 90% des observations. Dans notre cas, nous n’avons pas besoin de supprimer des variables"
   ]
  },
  {
   "cell_type": "markdown",
   "id": "c907c98f",
   "metadata": {},
   "source": [
    "# splitting the data"
   ]
  },
  {
   "cell_type": "code",
   "execution_count": 54,
   "id": "df0d2992",
   "metadata": {},
   "outputs": [],
   "source": [
    "import sklearn\n",
    "from sklearn import tree\n",
    "from sklearn.metrics import roc_curve\n",
    "from sklearn.metrics import classification_report\n",
    "from sklearn.linear_model import LogisticRegression\n",
    "from sklearn.model_selection import KFold, cross_validate\n",
    "from sklearn.metrics import recall_score, f1_score, roc_auc_score\n",
    "from sklearn.metrics import confusion_matrix, accuracy_score, precision_score\n",
    "from sklearn.model_selection import train_test_split\n",
    "from sklearn.tree import DecisionTreeClassifier\n",
    "from sklearn.metrics import f1_score, confusion_matrix, classification_report\n",
    "from sklearn.model_selection import learning_curve"
   ]
  },
  {
   "cell_type": "markdown",
   "id": "b33cb87b",
   "metadata": {},
   "source": [
    "## REGRESSION LOGISTIQUE"
   ]
  },
  {
   "cell_type": "markdown",
   "id": "3e7efe42",
   "metadata": {},
   "source": [
    "Pour la régression logistique, il faut qu'on procéde au scaling avant d'appliquer l'algorithme"
   ]
  },
  {
   "cell_type": "code",
   "execution_count": 55,
   "id": "0fadae99",
   "metadata": {},
   "outputs": [
    {
     "data": {
      "text/html": [
       "<div>\n",
       "<style scoped>\n",
       "    .dataframe tbody tr th:only-of-type {\n",
       "        vertical-align: middle;\n",
       "    }\n",
       "\n",
       "    .dataframe tbody tr th {\n",
       "        vertical-align: top;\n",
       "    }\n",
       "\n",
       "    .dataframe thead th {\n",
       "        text-align: right;\n",
       "    }\n",
       "</style>\n",
       "<table border=\"1\" class=\"dataframe\">\n",
       "  <thead>\n",
       "    <tr style=\"text-align: right;\">\n",
       "      <th></th>\n",
       "      <th>Rachat</th>\n",
       "      <th>Prime</th>\n",
       "      <th>Fréquence</th>\n",
       "      <th>Réseau_Distribution</th>\n",
       "      <th>Age_Souscription</th>\n",
       "      <th>Age_Survenance</th>\n",
       "      <th>Sexe</th>\n",
       "      <th>Ancienneté_Contrat_Survenance</th>\n",
       "    </tr>\n",
       "  </thead>\n",
       "  <tbody>\n",
       "    <tr>\n",
       "      <th>1</th>\n",
       "      <td>0</td>\n",
       "      <td>0.033487</td>\n",
       "      <td>0.0</td>\n",
       "      <td>0.0</td>\n",
       "      <td>0.365079</td>\n",
       "      <td>0.627133</td>\n",
       "      <td>0.0</td>\n",
       "      <td>0.555114</td>\n",
       "    </tr>\n",
       "    <tr>\n",
       "      <th>2</th>\n",
       "      <td>0</td>\n",
       "      <td>0.003105</td>\n",
       "      <td>0.0</td>\n",
       "      <td>0.0</td>\n",
       "      <td>0.396825</td>\n",
       "      <td>0.627176</td>\n",
       "      <td>1.0</td>\n",
       "      <td>0.516333</td>\n",
       "    </tr>\n",
       "    <tr>\n",
       "      <th>3</th>\n",
       "      <td>0</td>\n",
       "      <td>0.048727</td>\n",
       "      <td>0.0</td>\n",
       "      <td>0.0</td>\n",
       "      <td>0.301587</td>\n",
       "      <td>0.564952</td>\n",
       "      <td>0.0</td>\n",
       "      <td>0.555012</td>\n",
       "    </tr>\n",
       "    <tr>\n",
       "      <th>4</th>\n",
       "      <td>0</td>\n",
       "      <td>0.056857</td>\n",
       "      <td>1.0</td>\n",
       "      <td>0.0</td>\n",
       "      <td>0.444444</td>\n",
       "      <td>0.709492</td>\n",
       "      <td>0.0</td>\n",
       "      <td>0.555012</td>\n",
       "    </tr>\n",
       "    <tr>\n",
       "      <th>5</th>\n",
       "      <td>0</td>\n",
       "      <td>0.045724</td>\n",
       "      <td>1.0</td>\n",
       "      <td>0.0</td>\n",
       "      <td>0.460317</td>\n",
       "      <td>0.691262</td>\n",
       "      <td>0.0</td>\n",
       "      <td>0.523926</td>\n",
       "    </tr>\n",
       "  </tbody>\n",
       "</table>\n",
       "</div>"
      ],
      "text/plain": [
       "   Rachat     Prime  Fréquence  Réseau_Distribution  Age_Souscription  \\\n",
       "1       0  0.033487        0.0                  0.0          0.365079   \n",
       "2       0  0.003105        0.0                  0.0          0.396825   \n",
       "3       0  0.048727        0.0                  0.0          0.301587   \n",
       "4       0  0.056857        1.0                  0.0          0.444444   \n",
       "5       0  0.045724        1.0                  0.0          0.460317   \n",
       "\n",
       "   Age_Survenance  Sexe  Ancienneté_Contrat_Survenance  \n",
       "1        0.627133   0.0                       0.555114  \n",
       "2        0.627176   1.0                       0.516333  \n",
       "3        0.564952   0.0                       0.555012  \n",
       "4        0.709492   0.0                       0.555012  \n",
       "5        0.691262   0.0                       0.523926  "
      ]
     },
     "execution_count": 55,
     "metadata": {},
     "output_type": "execute_result"
    }
   ],
   "source": [
    "from sklearn.preprocessing import MinMaxScaler\n",
    "data_lr=data.copy()\n",
    "# Scale only columns that have values greater than 1\n",
    "to_scale = ['Prime', 'Fréquence', 'Réseau_Distribution',\n",
    "       'Age_Souscription', 'Age_Survenance', 'Sexe',\n",
    "       'Ancienneté_Contrat_Survenance']\n",
    "mms = MinMaxScaler()\n",
    "scaled = mms.fit_transform(data_lr[to_scale])\n",
    "scaled = pd.DataFrame(scaled, columns=to_scale)\n",
    "\n",
    "# Replace original columns with scaled ones\n",
    "for col in scaled:\n",
    "    data_lr[col] = scaled[col]\n",
    "    \n",
    "data_lr.head()"
   ]
  },
  {
   "cell_type": "code",
   "execution_count": 56,
   "id": "9135ca8c",
   "metadata": {},
   "outputs": [],
   "source": [
    "data_lr.dropna(axis=0 , inplace = True)"
   ]
  },
  {
   "cell_type": "code",
   "execution_count": 57,
   "id": "ca5e31e5",
   "metadata": {},
   "outputs": [],
   "source": [
    "X_lr= data_lr.drop('Rachat', axis=1)"
   ]
  },
  {
   "cell_type": "code",
   "execution_count": 58,
   "id": "8a62b928",
   "metadata": {},
   "outputs": [
    {
     "data": {
      "text/html": [
       "<div>\n",
       "<style scoped>\n",
       "    .dataframe tbody tr th:only-of-type {\n",
       "        vertical-align: middle;\n",
       "    }\n",
       "\n",
       "    .dataframe tbody tr th {\n",
       "        vertical-align: top;\n",
       "    }\n",
       "\n",
       "    .dataframe thead th {\n",
       "        text-align: right;\n",
       "    }\n",
       "</style>\n",
       "<table border=\"1\" class=\"dataframe\">\n",
       "  <thead>\n",
       "    <tr style=\"text-align: right;\">\n",
       "      <th></th>\n",
       "      <th>Prime</th>\n",
       "      <th>Fréquence</th>\n",
       "      <th>Réseau_Distribution</th>\n",
       "      <th>Age_Souscription</th>\n",
       "      <th>Age_Survenance</th>\n",
       "      <th>Sexe</th>\n",
       "      <th>Ancienneté_Contrat_Survenance</th>\n",
       "    </tr>\n",
       "  </thead>\n",
       "  <tbody>\n",
       "    <tr>\n",
       "      <th>1</th>\n",
       "      <td>0.033487</td>\n",
       "      <td>0.0</td>\n",
       "      <td>0.0</td>\n",
       "      <td>0.365079</td>\n",
       "      <td>0.627133</td>\n",
       "      <td>0.0</td>\n",
       "      <td>0.555114</td>\n",
       "    </tr>\n",
       "    <tr>\n",
       "      <th>2</th>\n",
       "      <td>0.003105</td>\n",
       "      <td>0.0</td>\n",
       "      <td>0.0</td>\n",
       "      <td>0.396825</td>\n",
       "      <td>0.627176</td>\n",
       "      <td>1.0</td>\n",
       "      <td>0.516333</td>\n",
       "    </tr>\n",
       "    <tr>\n",
       "      <th>3</th>\n",
       "      <td>0.048727</td>\n",
       "      <td>0.0</td>\n",
       "      <td>0.0</td>\n",
       "      <td>0.301587</td>\n",
       "      <td>0.564952</td>\n",
       "      <td>0.0</td>\n",
       "      <td>0.555012</td>\n",
       "    </tr>\n",
       "    <tr>\n",
       "      <th>4</th>\n",
       "      <td>0.056857</td>\n",
       "      <td>1.0</td>\n",
       "      <td>0.0</td>\n",
       "      <td>0.444444</td>\n",
       "      <td>0.709492</td>\n",
       "      <td>0.0</td>\n",
       "      <td>0.555012</td>\n",
       "    </tr>\n",
       "    <tr>\n",
       "      <th>5</th>\n",
       "      <td>0.045724</td>\n",
       "      <td>1.0</td>\n",
       "      <td>0.0</td>\n",
       "      <td>0.460317</td>\n",
       "      <td>0.691262</td>\n",
       "      <td>0.0</td>\n",
       "      <td>0.523926</td>\n",
       "    </tr>\n",
       "    <tr>\n",
       "      <th>...</th>\n",
       "      <td>...</td>\n",
       "      <td>...</td>\n",
       "      <td>...</td>\n",
       "      <td>...</td>\n",
       "      <td>...</td>\n",
       "      <td>...</td>\n",
       "      <td>...</td>\n",
       "    </tr>\n",
       "    <tr>\n",
       "      <th>17850</th>\n",
       "      <td>0.021249</td>\n",
       "      <td>1.0</td>\n",
       "      <td>0.0</td>\n",
       "      <td>0.333333</td>\n",
       "      <td>0.715511</td>\n",
       "      <td>0.0</td>\n",
       "      <td>0.695052</td>\n",
       "    </tr>\n",
       "    <tr>\n",
       "      <th>17851</th>\n",
       "      <td>0.020844</td>\n",
       "      <td>0.5</td>\n",
       "      <td>0.0</td>\n",
       "      <td>0.507937</td>\n",
       "      <td>0.577423</td>\n",
       "      <td>1.0</td>\n",
       "      <td>0.321460</td>\n",
       "    </tr>\n",
       "    <tr>\n",
       "      <th>17852</th>\n",
       "      <td>0.169798</td>\n",
       "      <td>0.0</td>\n",
       "      <td>1.0</td>\n",
       "      <td>0.492063</td>\n",
       "      <td>0.680696</td>\n",
       "      <td>0.0</td>\n",
       "      <td>0.470264</td>\n",
       "    </tr>\n",
       "    <tr>\n",
       "      <th>17853</th>\n",
       "      <td>0.025328</td>\n",
       "      <td>0.5</td>\n",
       "      <td>0.0</td>\n",
       "      <td>0.333333</td>\n",
       "      <td>0.662163</td>\n",
       "      <td>0.0</td>\n",
       "      <td>0.641135</td>\n",
       "    </tr>\n",
       "    <tr>\n",
       "      <th>17854</th>\n",
       "      <td>0.059273</td>\n",
       "      <td>0.0</td>\n",
       "      <td>1.0</td>\n",
       "      <td>0.507937</td>\n",
       "      <td>0.718498</td>\n",
       "      <td>0.0</td>\n",
       "      <td>0.499924</td>\n",
       "    </tr>\n",
       "  </tbody>\n",
       "</table>\n",
       "<p>16813 rows × 7 columns</p>\n",
       "</div>"
      ],
      "text/plain": [
       "          Prime  Fréquence  Réseau_Distribution  Age_Souscription  \\\n",
       "1      0.033487        0.0                  0.0          0.365079   \n",
       "2      0.003105        0.0                  0.0          0.396825   \n",
       "3      0.048727        0.0                  0.0          0.301587   \n",
       "4      0.056857        1.0                  0.0          0.444444   \n",
       "5      0.045724        1.0                  0.0          0.460317   \n",
       "...         ...        ...                  ...               ...   \n",
       "17850  0.021249        1.0                  0.0          0.333333   \n",
       "17851  0.020844        0.5                  0.0          0.507937   \n",
       "17852  0.169798        0.0                  1.0          0.492063   \n",
       "17853  0.025328        0.5                  0.0          0.333333   \n",
       "17854  0.059273        0.0                  1.0          0.507937   \n",
       "\n",
       "       Age_Survenance  Sexe  Ancienneté_Contrat_Survenance  \n",
       "1            0.627133   0.0                       0.555114  \n",
       "2            0.627176   1.0                       0.516333  \n",
       "3            0.564952   0.0                       0.555012  \n",
       "4            0.709492   0.0                       0.555012  \n",
       "5            0.691262   0.0                       0.523926  \n",
       "...               ...   ...                            ...  \n",
       "17850        0.715511   0.0                       0.695052  \n",
       "17851        0.577423   1.0                       0.321460  \n",
       "17852        0.680696   0.0                       0.470264  \n",
       "17853        0.662163   0.0                       0.641135  \n",
       "17854        0.718498   0.0                       0.499924  \n",
       "\n",
       "[16813 rows x 7 columns]"
      ]
     },
     "execution_count": 58,
     "metadata": {},
     "output_type": "execute_result"
    }
   ],
   "source": [
    "X_lr"
   ]
  },
  {
   "cell_type": "code",
   "execution_count": 59,
   "id": "284d4336",
   "metadata": {},
   "outputs": [
    {
     "data": {
      "text/plain": [
       "1        0\n",
       "2        0\n",
       "3        0\n",
       "4        0\n",
       "5        0\n",
       "        ..\n",
       "17850    0\n",
       "17851    0\n",
       "17852    0\n",
       "17853    0\n",
       "17854    0\n",
       "Name: Rachat, Length: 16813, dtype: int64"
      ]
     },
     "execution_count": 59,
     "metadata": {},
     "output_type": "execute_result"
    }
   ],
   "source": [
    "y_lr= data_lr['Rachat']\n",
    "y_lr"
   ]
  },
  {
   "cell_type": "markdown",
   "id": "0c2e680e",
   "metadata": {},
   "source": [
    "## feature selection"
   ]
  },
  {
   "cell_type": "code",
   "execution_count": 60,
   "id": "8d982d33",
   "metadata": {},
   "outputs": [
    {
     "name": "stdout",
     "output_type": "stream",
     "text": [
      "[1 2 4 1 1 3 1]\n",
      "[[0.95123402 0.95212608 0.95242343 0.95240928 0.95211184]\n",
      " [0.95123402 0.95212608 0.95272079 0.95240928 0.95240928]\n",
      " [0.94974725 0.95242343 0.95272079 0.95240928 0.95240928]\n",
      " [0.94974725 0.95242343 0.95272079 0.95240928 0.95240928]\n",
      " [0.9500446  0.95242343 0.95272079 0.95240928 0.95240928]]\n"
     ]
    }
   ],
   "source": [
    "from sklearn.feature_selection import RFECV\n",
    "selector = RFECV(LogisticRegression(random_state=0), step=1, min_features_to_select=3, cv=5)\n",
    "selector.fit(X_lr, y_lr)\n",
    "print(selector.ranking_)\n",
    "print(selector.grid_scores_)"
   ]
  },
  {
   "cell_type": "code",
   "execution_count": 61,
   "id": "33fd6aba",
   "metadata": {},
   "outputs": [
    {
     "data": {
      "text/plain": [
       "Index(['Prime', 'Age_Souscription', 'Age_Survenance',\n",
       "       'Ancienneté_Contrat_Survenance'],\n",
       "      dtype='object')"
      ]
     },
     "execution_count": 61,
     "metadata": {},
     "output_type": "execute_result"
    }
   ],
   "source": [
    "(X_lr.columns)[selector.get_support()]"
   ]
  },
  {
   "cell_type": "code",
   "execution_count": 62,
   "id": "4f7d0e66",
   "metadata": {},
   "outputs": [],
   "source": [
    "var_select=['Prime', 'Age_Souscription', 'Age_Survenance',\n",
    "       'Ancienneté_Contrat_Survenance']\n",
    "X_lr_final=X_lr[var_select]"
   ]
  },
  {
   "cell_type": "code",
   "execution_count": 63,
   "id": "895f1689",
   "metadata": {},
   "outputs": [],
   "source": [
    "X_train_lr,X_test_lr,y_train_lr,y_test_lr  = train_test_split(X_lr_final,\n",
    "                                              y_lr,\n",
    "                                              test_size=0.3,\n",
    "                                              random_state = 30)"
   ]
  },
  {
   "cell_type": "code",
   "execution_count": 64,
   "id": "0c892038",
   "metadata": {},
   "outputs": [],
   "source": [
    "model_lr=LogisticRegression()\n",
    "model_lr.fit(X_train_lr, y_train_lr)\n",
    "pred_lr= model_lr.predict(X_test_lr)"
   ]
  },
  {
   "cell_type": "code",
   "execution_count": 65,
   "id": "d40fb003",
   "metadata": {},
   "outputs": [
    {
     "name": "stdout",
     "output_type": "stream",
     "text": [
      "[[4791    0]\n",
      " [ 252    1]]\n",
      "              precision    recall  f1-score   support\n",
      "\n",
      "           0       0.95      1.00      0.97      4791\n",
      "           1       1.00      0.00      0.01       253\n",
      "\n",
      "    accuracy                           0.95      5044\n",
      "   macro avg       0.98      0.50      0.49      5044\n",
      "weighted avg       0.95      0.95      0.93      5044\n",
      "\n"
     ]
    }
   ],
   "source": [
    "# Evaluate\n",
    "print(confusion_matrix(y_test_lr, pred_lr))\n",
    "print(classification_report(y_test_lr, pred_lr))\n"
   ]
  },
  {
   "cell_type": "code",
   "execution_count": 66,
   "id": "54ad0d24",
   "metadata": {},
   "outputs": [
    {
     "data": {
      "image/png": "[encoded data removed]",
      "text/plain": [
       "<Figure size 432x288 with 1 Axes>"
      ]
     },
     "metadata": {
      "needs_background": "light"
     },
     "output_type": "display_data"
    }
   ],
   "source": [
    "from sklearn.metrics import roc_curve\n",
    "\n",
    "def plot_roc_curve(fper, tper):\n",
    "    plt.plot(fper, tper, color='red', label='ROC')\n",
    "    plt.plot([0, 1], [0, 1], color='black', linestyle='--')\n",
    "    plt.xlabel('False Positive Rate')\n",
    "    plt.ylabel('True Positive Rate')\n",
    "    plt.title('Receiver Operating Characteristic Curve')\n",
    "    plt.legend()\n",
    "    plt.show()\n",
    "#pred = model_lr.predict(X_test)  \n",
    "fper, tper, thresholds = roc_curve(y_test_lr, pred_lr)\n",
    "plot_roc_curve(fper, tper)"
   ]
  },
  {
   "cell_type": "markdown",
   "id": "f981a42b",
   "metadata": {},
   "source": [
    "**Le modèle de régression logistique est précis à 95 %**, alors où est le problème ? Oui, il peut classer correctement presque toutes les contrats non rachetés. Mais il a également **classé 100% des contrats rachetés comme non rachetés**. En un mot, le modèle est inutilisable. Le déséquilibre des classes a tué sa performance. **SMOTE** peut nous aider."
   ]
  },
  {
   "cell_type": "markdown",
   "id": "a9284ca1",
   "metadata": {},
   "source": [
    "**SMOTE**"
   ]
  },
  {
   "cell_type": "code",
   "execution_count": 67,
   "id": "77bef390",
   "metadata": {},
   "outputs": [
    {
     "name": "stdout",
     "output_type": "stream",
     "text": [
      "Requirement already satisfied: imblearn in c:\\users\\amald\\anaconda3\\lib\\site-packages (0.0)\n",
      "Requirement already satisfied: imbalanced-learn in c:\\users\\amald\\anaconda3\\lib\\site-packages (from imblearn) (0.9.1)\n",
      "Requirement already satisfied: scipy>=1.3.2 in c:\\users\\amald\\anaconda3\\lib\\site-packages (from imbalanced-learn->imblearn) (1.7.3)\n",
      "Requirement already satisfied: threadpoolctl>=2.0.0 in c:\\users\\amald\\anaconda3\\lib\\site-packages (from imbalanced-learn->imblearn) (2.2.0)\n",
      "Requirement already satisfied: scikit-learn>=1.1.0 in c:\\users\\amald\\anaconda3\\lib\\site-packages (from imbalanced-learn->imblearn) (1.1.2)\n",
      "Requirement already satisfied: numpy>=1.17.3 in c:\\users\\amald\\anaconda3\\lib\\site-packages (from imbalanced-learn->imblearn) (1.21.5)\n",
      "Requirement already satisfied: joblib>=1.0.0 in c:\\users\\amald\\anaconda3\\lib\\site-packages (from imbalanced-learn->imblearn) (1.1.0)\n",
      "Note: you may need to restart the kernel to use updated packages.\n"
     ]
    }
   ],
   "source": [
    "pip install imblearn"
   ]
  },
  {
   "cell_type": "code",
   "execution_count": 68,
   "id": "cd237116",
   "metadata": {},
   "outputs": [],
   "source": [
    "from imblearn.over_sampling import SMOTE \n",
    "sm = SMOTE()\n",
    "X_train_lr_sm, y_train_lr_sm =sm.fit_resample(X_train_lr, y_train_lr)\n"
   ]
  },
  {
   "cell_type": "code",
   "execution_count": 69,
   "id": "01c73d00",
   "metadata": {},
   "outputs": [
    {
     "name": "stdout",
     "output_type": "stream",
     "text": [
      "Best Score: 0.6155730115822923\n",
      "Best Hyperparameters: {'C': 0.001, 'fit_intercept': True, 'penalty': 'l2', 'solver': 'liblinear'}\n"
     ]
    }
   ],
   "source": [
    "# Define feature selection method\n",
    "from sklearn.model_selection import GridSearchCV\n",
    "from sklearn.model_selection import RepeatedStratifiedKFold\n",
    "\n",
    "model1 = LogisticRegression()\n",
    "\n",
    "params = {\n",
    "    'penalty'      : ['none', 'l1', 'l2', 'elasticnet'],\n",
    "    'C'            : [0.001, 0.005, 0.01, 0.25, 0.5, 0.75, 0.9, 1, 1.01, 1.05, 1.1, 1.15, 1.2],\n",
    "    'solver'       : ['newton-cg', 'lbfgs', 'liblinear'],\n",
    "    'fit_intercept': [True, False]\n",
    "}\n",
    "search = GridSearchCV(model1, params, scoring='accuracy', n_jobs=-1, cv=3)\n",
    "result = search.fit(X_train_lr_sm, y_train_lr_sm)\n",
    "\n",
    "# summarize result\n",
    "print('Best Score: %s' % result.best_score_)\n",
    "print('Best Hyperparameters: %s' % result.best_params_)"
   ]
  },
  {
   "cell_type": "code",
   "execution_count": 70,
   "id": "cc629267",
   "metadata": {},
   "outputs": [
    {
     "name": "stdout",
     "output_type": "stream",
     "text": [
      "[[3449 1342]\n",
      " [ 139  114]]\n",
      "              precision    recall  f1-score   support\n",
      "\n",
      "           0       0.96      0.72      0.82      4791\n",
      "           1       0.08      0.45      0.13       253\n",
      "\n",
      "    accuracy                           0.71      5044\n",
      "   macro avg       0.52      0.59      0.48      5044\n",
      "weighted avg       0.92      0.71      0.79      5044\n",
      "\n"
     ]
    }
   ],
   "source": [
    "model_lr_sm=LogisticRegression(C= 0.01, fit_intercept=True, penalty='l2', solver='liblinear')\n",
    "model_lr_sm.fit(X_train_lr_sm, y_train_lr_sm)\n",
    "pred_lr_sm= model_lr_sm.predict(X_test_lr)\n",
    "\n",
    "# Evaluate\n",
    "print(confusion_matrix(y_test_lr, pred_lr_sm))\n",
    "print(classification_report(y_test_lr, pred_lr_sm))\n"
   ]
  },
  {
   "cell_type": "markdown",
   "id": "10fa4505",
   "metadata": {},
   "source": [
    "### RL with statsmodels"
   ]
  },
  {
   "cell_type": "code",
   "execution_count": 71,
   "id": "53d3dca5",
   "metadata": {},
   "outputs": [
    {
     "data": {
      "text/html": [
       "<div>\n",
       "<style scoped>\n",
       "    .dataframe tbody tr th:only-of-type {\n",
       "        vertical-align: middle;\n",
       "    }\n",
       "\n",
       "    .dataframe tbody tr th {\n",
       "        vertical-align: top;\n",
       "    }\n",
       "\n",
       "    .dataframe thead th {\n",
       "        text-align: right;\n",
       "    }\n",
       "</style>\n",
       "<table border=\"1\" class=\"dataframe\">\n",
       "  <thead>\n",
       "    <tr style=\"text-align: right;\">\n",
       "      <th></th>\n",
       "      <th>Prime</th>\n",
       "      <th>Age_Souscription</th>\n",
       "      <th>Age_Survenance</th>\n",
       "      <th>Ancienneté_Contrat_Survenance</th>\n",
       "    </tr>\n",
       "  </thead>\n",
       "  <tbody>\n",
       "    <tr>\n",
       "      <th>0</th>\n",
       "      <td>0.080769</td>\n",
       "      <td>0.460317</td>\n",
       "      <td>0.505499</td>\n",
       "      <td>0.290985</td>\n",
       "    </tr>\n",
       "    <tr>\n",
       "      <th>1</th>\n",
       "      <td>0.008170</td>\n",
       "      <td>0.587302</td>\n",
       "      <td>0.662553</td>\n",
       "      <td>0.330021</td>\n",
       "    </tr>\n",
       "    <tr>\n",
       "      <th>2</th>\n",
       "      <td>0.018567</td>\n",
       "      <td>0.492063</td>\n",
       "      <td>0.599333</td>\n",
       "      <td>0.375121</td>\n",
       "    </tr>\n",
       "    <tr>\n",
       "      <th>3</th>\n",
       "      <td>0.012335</td>\n",
       "      <td>0.396825</td>\n",
       "      <td>0.717892</td>\n",
       "      <td>0.624166</td>\n",
       "    </tr>\n",
       "    <tr>\n",
       "      <th>4</th>\n",
       "      <td>0.009816</td>\n",
       "      <td>0.587302</td>\n",
       "      <td>0.762666</td>\n",
       "      <td>0.458645</td>\n",
       "    </tr>\n",
       "    <tr>\n",
       "      <th>...</th>\n",
       "      <td>...</td>\n",
       "      <td>...</td>\n",
       "      <td>...</td>\n",
       "      <td>...</td>\n",
       "    </tr>\n",
       "    <tr>\n",
       "      <th>22431</th>\n",
       "      <td>0.024262</td>\n",
       "      <td>0.460317</td>\n",
       "      <td>0.421316</td>\n",
       "      <td>0.201992</td>\n",
       "    </tr>\n",
       "    <tr>\n",
       "      <th>22432</th>\n",
       "      <td>0.010485</td>\n",
       "      <td>0.077793</td>\n",
       "      <td>0.571117</td>\n",
       "      <td>0.825512</td>\n",
       "    </tr>\n",
       "    <tr>\n",
       "      <th>22433</th>\n",
       "      <td>0.029933</td>\n",
       "      <td>0.277960</td>\n",
       "      <td>0.296599</td>\n",
       "      <td>0.267511</td>\n",
       "    </tr>\n",
       "    <tr>\n",
       "      <th>22434</th>\n",
       "      <td>0.051784</td>\n",
       "      <td>0.495064</td>\n",
       "      <td>0.395110</td>\n",
       "      <td>0.126240</td>\n",
       "    </tr>\n",
       "    <tr>\n",
       "      <th>22435</th>\n",
       "      <td>0.016612</td>\n",
       "      <td>0.307855</td>\n",
       "      <td>0.314677</td>\n",
       "      <td>0.252287</td>\n",
       "    </tr>\n",
       "  </tbody>\n",
       "</table>\n",
       "<p>22436 rows × 4 columns</p>\n",
       "</div>"
      ],
      "text/plain": [
       "          Prime  Age_Souscription  Age_Survenance  \\\n",
       "0      0.080769          0.460317        0.505499   \n",
       "1      0.008170          0.587302        0.662553   \n",
       "2      0.018567          0.492063        0.599333   \n",
       "3      0.012335          0.396825        0.717892   \n",
       "4      0.009816          0.587302        0.762666   \n",
       "...         ...               ...             ...   \n",
       "22431  0.024262          0.460317        0.421316   \n",
       "22432  0.010485          0.077793        0.571117   \n",
       "22433  0.029933          0.277960        0.296599   \n",
       "22434  0.051784          0.495064        0.395110   \n",
       "22435  0.016612          0.307855        0.314677   \n",
       "\n",
       "       Ancienneté_Contrat_Survenance  \n",
       "0                           0.290985  \n",
       "1                           0.330021  \n",
       "2                           0.375121  \n",
       "3                           0.624166  \n",
       "4                           0.458645  \n",
       "...                              ...  \n",
       "22431                       0.201992  \n",
       "22432                       0.825512  \n",
       "22433                       0.267511  \n",
       "22434                       0.126240  \n",
       "22435                       0.252287  \n",
       "\n",
       "[22436 rows x 4 columns]"
      ]
     },
     "execution_count": 71,
     "metadata": {},
     "output_type": "execute_result"
    }
   ],
   "source": [
    " X_train_lr_sm"
   ]
  },
  {
   "cell_type": "code",
   "execution_count": 72,
   "id": "f99a06c9",
   "metadata": {},
   "outputs": [
    {
     "name": "stdout",
     "output_type": "stream",
     "text": [
      "Optimization terminated successfully.\n",
      "         Current function value: 0.646352\n",
      "         Iterations 5\n"
     ]
    }
   ],
   "source": [
    "import numpy as np\n",
    "import statsmodels.api as stm\n",
    "\n",
    "model = stm.Logit(y_train_lr_sm,X_train_lr_sm)\n",
    "LR = model.fit()"
   ]
  },
  {
   "cell_type": "code",
   "execution_count": 73,
   "id": "7f2f4273",
   "metadata": {},
   "outputs": [
    {
     "data": {
      "text/plain": [
       "array([[7474., 3744.],\n",
       "       [5421., 5797.]])"
      ]
     },
     "execution_count": 73,
     "metadata": {},
     "output_type": "execute_result"
    }
   ],
   "source": [
    "LR.params\n",
    "LR.predict(X_test_lr)\n",
    "(LR.predict(X_test_lr) >= 0.5).astype(int)\n",
    "LR.pred_table()\n",
    "\n"
   ]
  },
  {
   "cell_type": "code",
   "execution_count": 74,
   "id": "1aaad013",
   "metadata": {},
   "outputs": [
    {
     "data": {
      "text/html": [
       "<table class=\"simpletable\">\n",
       "<caption>Logit Regression Results</caption>\n",
       "<tr>\n",
       "  <th>Dep. Variable:</th>        <td>Rachat</td>      <th>  No. Observations:  </th>  <td> 22436</td> \n",
       "</tr>\n",
       "<tr>\n",
       "  <th>Model:</th>                 <td>Logit</td>      <th>  Df Residuals:      </th>  <td> 22432</td> \n",
       "</tr>\n",
       "<tr>\n",
       "  <th>Method:</th>                 <td>MLE</td>       <th>  Df Model:          </th>  <td>     3</td> \n",
       "</tr>\n",
       "<tr>\n",
       "  <th>Date:</th>            <td>Wed, 26 Oct 2022</td> <th>  Pseudo R-squ.:     </th>  <td>0.06751</td>\n",
       "</tr>\n",
       "<tr>\n",
       "  <th>Time:</th>                <td>21:18:23</td>     <th>  Log-Likelihood:    </th> <td> -14502.</td>\n",
       "</tr>\n",
       "<tr>\n",
       "  <th>converged:</th>             <td>True</td>       <th>  LL-Null:           </th> <td> -15551.</td>\n",
       "</tr>\n",
       "<tr>\n",
       "  <th>Covariance Type:</th>     <td>nonrobust</td>    <th>  LLR p-value:       </th>  <td> 0.000</td> \n",
       "</tr>\n",
       "</table>\n",
       "<table class=\"simpletable\">\n",
       "<tr>\n",
       "                <td></td>                   <th>coef</th>     <th>std err</th>      <th>z</th>      <th>P>|z|</th>  <th>[0.025</th>    <th>0.975]</th>  \n",
       "</tr>\n",
       "<tr>\n",
       "  <th>Prime</th>                         <td>    0.2671</td> <td>    0.325</td> <td>    0.821</td> <td> 0.412</td> <td>   -0.370</td> <td>    0.905</td>\n",
       "</tr>\n",
       "<tr>\n",
       "  <th>Age_Souscription</th>              <td>   13.4739</td> <td>    0.336</td> <td>   40.045</td> <td> 0.000</td> <td>   12.814</td> <td>   14.133</td>\n",
       "</tr>\n",
       "<tr>\n",
       "  <th>Age_Survenance</th>                <td>  -18.3935</td> <td>    0.454</td> <td>  -40.525</td> <td> 0.000</td> <td>  -19.283</td> <td>  -17.504</td>\n",
       "</tr>\n",
       "<tr>\n",
       "  <th>Ancienneté_Contrat_Survenance</th> <td>   11.9178</td> <td>    0.307</td> <td>   38.876</td> <td> 0.000</td> <td>   11.317</td> <td>   12.519</td>\n",
       "</tr>\n",
       "</table>"
      ],
      "text/plain": [
       "<class 'statsmodels.iolib.summary.Summary'>\n",
       "\"\"\"\n",
       "                           Logit Regression Results                           \n",
       "==============================================================================\n",
       "Dep. Variable:                 Rachat   No. Observations:                22436\n",
       "Model:                          Logit   Df Residuals:                    22432\n",
       "Method:                           MLE   Df Model:                            3\n",
       "Date:                Wed, 26 Oct 2022   Pseudo R-squ.:                 0.06751\n",
       "Time:                        21:18:23   Log-Likelihood:                -14502.\n",
       "converged:                       True   LL-Null:                       -15551.\n",
       "Covariance Type:            nonrobust   LLR p-value:                     0.000\n",
       "=================================================================================================\n",
       "                                    coef    std err          z      P>|z|      [0.025      0.975]\n",
       "-------------------------------------------------------------------------------------------------\n",
       "Prime                             0.2671      0.325      0.821      0.412      -0.370       0.905\n",
       "Age_Souscription                 13.4739      0.336     40.045      0.000      12.814      14.133\n",
       "Age_Survenance                  -18.3935      0.454    -40.525      0.000     -19.283     -17.504\n",
       "Ancienneté_Contrat_Survenance    11.9178      0.307     38.876      0.000      11.317      12.519\n",
       "=================================================================================================\n",
       "\"\"\""
      ]
     },
     "execution_count": 74,
     "metadata": {},
     "output_type": "execute_result"
    }
   ],
   "source": [
    "LR.summary()"
   ]
  },
  {
   "cell_type": "code",
   "execution_count": 75,
   "id": "a713a48d",
   "metadata": {},
   "outputs": [
    {
     "data": {
      "text/html": [
       "<table class=\"simpletable\">\n",
       "<tr>\n",
       "        <td>Model:</td>              <td>Logit</td>      <td>Pseudo R-squared:</td>    <td>0.068</td>  \n",
       "</tr>\n",
       "<tr>\n",
       "  <td>Dependent Variable:</td>      <td>Rachat</td>            <td>AIC:</td>        <td>29011.0964</td>\n",
       "</tr>\n",
       "<tr>\n",
       "         <td>Date:</td>        <td>2022-10-26 21:18</td>       <td>BIC:</td>        <td>29043.1701</td>\n",
       "</tr>\n",
       "<tr>\n",
       "   <td>No. Observations:</td>        <td>22436</td>       <td>Log-Likelihood:</td>    <td>-14502.</td> \n",
       "</tr>\n",
       "<tr>\n",
       "       <td>Df Model:</td>              <td>3</td>            <td>LL-Null:</td>        <td>-15551.</td> \n",
       "</tr>\n",
       "<tr>\n",
       "     <td>Df Residuals:</td>          <td>22432</td>        <td>LLR p-value:</td>      <td>0.0000</td>  \n",
       "</tr>\n",
       "<tr>\n",
       "      <td>Converged:</td>           <td>1.0000</td>           <td>Scale:</td>         <td>1.0000</td>  \n",
       "</tr>\n",
       "<tr>\n",
       "    <td>No. Iterations:</td>        <td>5.0000</td>              <td></td>               <td></td>     \n",
       "</tr>\n",
       "</table>\n",
       "<table class=\"simpletable\">\n",
       "<tr>\n",
       "                <td></td>                  <th>Coef.</th>  <th>Std.Err.</th>     <th>z</th>     <th>P>|z|</th>  <th>[0.025</th>   <th>0.975]</th> \n",
       "</tr>\n",
       "<tr>\n",
       "  <th>Prime</th>                          <td>0.2671</td>   <td>0.3253</td>   <td>0.8212</td>  <td>0.4116</td>  <td>-0.3705</td>  <td>0.9047</td> \n",
       "</tr>\n",
       "<tr>\n",
       "  <th>Age_Souscription</th>               <td>13.4739</td>  <td>0.3365</td>   <td>40.0454</td> <td>0.0000</td>  <td>12.8145</td>  <td>14.1334</td>\n",
       "</tr>\n",
       "<tr>\n",
       "  <th>Age_Survenance</th>                <td>-18.3935</td>  <td>0.4539</td>  <td>-40.5248</td> <td>0.0000</td> <td>-19.2831</td> <td>-17.5039</td>\n",
       "</tr>\n",
       "<tr>\n",
       "  <th>Ancienneté_Contrat_Survenance</th>  <td>11.9178</td>  <td>0.3066</td>   <td>38.8762</td> <td>0.0000</td>  <td>11.3169</td>  <td>12.5186</td>\n",
       "</tr>\n",
       "</table>"
      ],
      "text/plain": [
       "<class 'statsmodels.iolib.summary2.Summary'>\n",
       "\"\"\"\n",
       "                                 Results: Logit\n",
       "=================================================================================\n",
       "Model:                    Logit                 Pseudo R-squared:      0.068     \n",
       "Dependent Variable:       Rachat                AIC:                   29011.0964\n",
       "Date:                     2022-10-26 21:18      BIC:                   29043.1701\n",
       "No. Observations:         22436                 Log-Likelihood:        -14502.   \n",
       "Df Model:                 3                     LL-Null:               -15551.   \n",
       "Df Residuals:             22432                 LLR p-value:           0.0000    \n",
       "Converged:                1.0000                Scale:                 1.0000    \n",
       "No. Iterations:           5.0000                                                 \n",
       "---------------------------------------------------------------------------------\n",
       "                               Coef.   Std.Err.    z     P>|z|   [0.025   0.975] \n",
       "---------------------------------------------------------------------------------\n",
       "Prime                           0.2671   0.3253   0.8212 0.4116  -0.3705   0.9047\n",
       "Age_Souscription               13.4739   0.3365  40.0454 0.0000  12.8145  14.1334\n",
       "Age_Survenance                -18.3935   0.4539 -40.5248 0.0000 -19.2831 -17.5039\n",
       "Ancienneté_Contrat_Survenance  11.9178   0.3066  38.8762 0.0000  11.3169  12.5186\n",
       "=================================================================================\n",
       "\n",
       "\"\"\""
      ]
     },
     "execution_count": 75,
     "metadata": {},
     "output_type": "execute_result"
    }
   ],
   "source": [
    "LR.summary2()"
   ]
  },
  {
   "cell_type": "code",
   "execution_count": 76,
   "id": "bc721cae",
   "metadata": {},
   "outputs": [
    {
     "name": "stdout",
     "output_type": "stream",
     "text": [
      "Prime                             0.267126\n",
      "Age_Souscription                 13.473920\n",
      "Age_Survenance                  -18.393478\n",
      "Ancienneté_Contrat_Survenance    11.917781\n",
      "dtype: float64\n"
     ]
    }
   ],
   "source": [
    "print(LR.params)"
   ]
  },
  {
   "cell_type": "markdown",
   "id": "05d0d992",
   "metadata": {},
   "source": [
    "**ODDS RATIOS**"
   ]
  },
  {
   "cell_type": "code",
   "execution_count": 77,
   "id": "51ffc0ae",
   "metadata": {},
   "outputs": [
    {
     "name": "stdout",
     "output_type": "stream",
     "text": [
      "                                         OR      Lower CI      Upper CI\n",
      "Prime                          1.306205e+00  6.904234e-01  2.471195e+00\n",
      "Age_Souscription               7.106388e+05  3.674923e+05  1.374199e+06\n",
      "Age_Survenance                 1.027577e-08  4.221520e-09  2.501264e-08\n",
      "Ancienneté_Contrat_Survenance  1.499086e+05  8.220237e+04  2.733811e+05\n"
     ]
    }
   ],
   "source": [
    "odds_ratios = pd.DataFrame(\n",
    "    {\n",
    "        \"OR\": LR.params,\n",
    "        \"Lower CI\": LR.conf_int()[0],\n",
    "        \"Upper CI\": LR.conf_int()[1],\n",
    "    }\n",
    ")\n",
    "odds_ratios = np.exp(odds_ratios)\n",
    "print(odds_ratios)"
   ]
  },
  {
   "cell_type": "code",
   "execution_count": null,
   "id": "6525547b",
   "metadata": {},
   "outputs": [],
   "source": []
  },
  {
   "cell_type": "code",
   "execution_count": null,
   "id": "faacf3c4",
   "metadata": {},
   "outputs": [],
   "source": []
  },
  {
   "cell_type": "markdown",
   "id": "edb2b32a",
   "metadata": {},
   "source": [
    "**SMOTEENN**"
   ]
  },
  {
   "cell_type": "code",
   "execution_count": 78,
   "id": "51844e03",
   "metadata": {},
   "outputs": [],
   "source": [
    "from imblearn.combine import SMOTEENN\n",
    "from imblearn.under_sampling import EditedNearestNeighbours"
   ]
  },
  {
   "cell_type": "code",
   "execution_count": 79,
   "id": "7b7d4010",
   "metadata": {},
   "outputs": [],
   "source": [
    "sm_enn=SMOTEENN()\n",
    "X_train_lr_enn, y_train_lr_enn =sm_enn.fit_resample(X_train_lr, y_train_lr)"
   ]
  },
  {
   "cell_type": "code",
   "execution_count": 80,
   "id": "7f541969",
   "metadata": {},
   "outputs": [
    {
     "name": "stdout",
     "output_type": "stream",
     "text": [
      "[[2947 1844]\n",
      " [ 119  134]]\n",
      "              precision    recall  f1-score   support\n",
      "\n",
      "           0       0.96      0.62      0.75      4791\n",
      "           1       0.07      0.53      0.12       253\n",
      "\n",
      "    accuracy                           0.61      5044\n",
      "   macro avg       0.51      0.57      0.44      5044\n",
      "weighted avg       0.92      0.61      0.72      5044\n",
      "\n"
     ]
    }
   ],
   "source": [
    "model_lr_enn=LogisticRegression(C= 0.01, fit_intercept=True, penalty='l1', solver='liblinear')\n",
    "model_lr_enn.fit(X_train_lr_enn, y_train_lr_enn)\n",
    "pred_lr_enn= model_lr_enn.predict(X_test_lr)\n",
    "\n",
    "# Evaluate\n",
    "print(confusion_matrix(y_test_lr, pred_lr_enn))\n",
    "print(classification_report(y_test_lr, pred_lr_enn))\n"
   ]
  },
  {
   "cell_type": "code",
   "execution_count": 81,
   "id": "e464facb",
   "metadata": {},
   "outputs": [
    {
     "data": {
      "image/png": "[encoded data removed]",
      "text/plain": [
       "<Figure size 432x288 with 1 Axes>"
      ]
     },
     "metadata": {
      "needs_background": "light"
     },
     "output_type": "display_data"
    }
   ],
   "source": [
    "def plot_roc_curve(fper, tper):\n",
    "    plt.plot(fper, tper, color='red', label='ROC')\n",
    "    plt.plot([0, 1], [0, 1], color='black', linestyle='--')\n",
    "    plt.xlabel('False Positive Rate')\n",
    "    plt.ylabel('True Positive Rate')\n",
    "    plt.title('Receiver Operating Characteristic Curve')\n",
    "    plt.legend()\n",
    "    plt.show()  \n",
    "fper, tper, thresholds = roc_curve(y_test_lr, pred_lr_sm)\n",
    "plot_roc_curve(fper, tper)"
   ]
  },
  {
   "cell_type": "code",
   "execution_count": 82,
   "id": "4bb114d1",
   "metadata": {},
   "outputs": [],
   "source": [
    "from sklearn import metrics\n",
    "auc1 = metrics.roc_auc_score(y_test_lr,pred_lr)\n",
    "auc2 = metrics.roc_auc_score(y_test_lr,pred_lr_sm)"
   ]
  },
  {
   "cell_type": "code",
   "execution_count": 83,
   "id": "d3ac2033",
   "metadata": {},
   "outputs": [
    {
     "data": {
      "image/png": "[encoded data removed]",
      "text/plain": [
       "<Figure size 720x360 with 2 Axes>"
      ]
     },
     "metadata": {
      "needs_background": "light"
     },
     "output_type": "display_data"
    }
   ],
   "source": [
    "import matplotlib.pyplot as plt\n",
    "plt.figure (figsize= (10, 5)) \n",
    "# Arguments to subplot are (# rows, # cols, index in grid)\n",
    "plt.subplot(1, 2, 1)\n",
    "# Modify left plot here\n",
    "def plot_roc_curve(fper, tper):\n",
    "    \n",
    "    plt.plot(fper, tper, color='red', label=\"ROC curve (area = %0.2f)\" % auc1)\n",
    "    plt.plot([0, 1], [0, 1], color='black', linestyle='--')\n",
    "    plt.xlabel('False Positive Rate')\n",
    "    plt.ylabel('True Positive Rate')\n",
    "    plt.title('LR')\n",
    "    plt.legend()\n",
    "    #plt.show()\n",
    "#pred2_sm = model2_sm.predict(X_test)  \n",
    "\n",
    "fper, tper, thresholds = roc_curve(y_test_lr, pred_lr)\n",
    "plot_roc_curve(fper, tper)\n",
    "\n",
    "plt.subplot(1, 2, 2)\n",
    "# Modify right plot here\n",
    "def plot_roc_curve(fper, tper):\n",
    "    plt.plot([0, 1], [0, 1], color='black', linestyle='--')\n",
    "    plt.plot(fper, tper, color='blue',label=\"ROC curve (area = %0.2f)\" % auc2)\n",
    "    plt.xlabel('False Positive Rate')\n",
    "    plt.ylabel('True Positive Rate')\n",
    "    plt.title('LR+SMOTE')\n",
    "    plt.legend()\n",
    "    #plt.show()\n",
    "\n",
    "\n",
    "fper, tper, thresholds = roc_curve(y_test_lr, pred_lr_sm)\n",
    "plot_roc_curve(fper, tper)\n",
    "\n",
    "\n",
    "\n",
    "\n",
    "plt.savefig(\"roclr.png\" ,dpi=100)\n",
    "plt.show()"
   ]
  },
  {
   "cell_type": "markdown",
   "id": "7cf17204",
   "metadata": {},
   "source": [
    "## ARBRE DE DECISION"
   ]
  },
  {
   "cell_type": "code",
   "execution_count": 84,
   "id": "4fc5bae0",
   "metadata": {},
   "outputs": [],
   "source": [
    "# Splitting Train and Test Data\n",
    "X_train,X_test,y_train,y_test  = train_test_split(X,\n",
    "                                              y,\n",
    "                                              test_size=0.3,\n",
    "                                              random_state = 42)\n"
   ]
  },
  {
   "cell_type": "markdown",
   "id": "f7c713b0",
   "metadata": {},
   "source": [
    "on a excuté l'algorithme avec les paramétres par défaut"
   ]
  },
  {
   "cell_type": "code",
   "execution_count": 143,
   "id": "3e4daa37",
   "metadata": {},
   "outputs": [
    {
     "name": "stdout",
     "output_type": "stream",
     "text": [
      "[[5049   50]\n",
      " [  84  174]]\n",
      "              precision    recall  f1-score   support\n",
      "\n",
      "           0       0.98      0.99      0.99      5099\n",
      "           1       0.78      0.67      0.72       258\n",
      "\n",
      "    accuracy                           0.97      5357\n",
      "   macro avg       0.88      0.83      0.85      5357\n",
      "weighted avg       0.97      0.97      0.97      5357\n",
      "\n"
     ]
    }
   ],
   "source": [
    "DT1 = DecisionTreeClassifier()\n",
    "DT1.fit(X_train, y_train)\n",
    "pred_dt1 = DT1.predict(X_test)\n",
    "\n",
    "# Evaluate\n",
    "print(confusion_matrix(y_test, pred_dt1))\n",
    "print(classification_report(y_test, pred_dt1))"
   ]
  },
  {
   "cell_type": "markdown",
   "id": "7b06bcc8",
   "metadata": {},
   "source": [
    "on a cherché les meilleurs paramétres avec GridSearchCV"
   ]
  },
  {
   "cell_type": "code",
   "execution_count": 133,
   "id": "4d6ab0a9",
   "metadata": {},
   "outputs": [
    {
     "name": "stdout",
     "output_type": "stream",
     "text": [
      "Best Score: 0.9833573371739478\n",
      "Best Hyperparameters: {'max_depth': 3, 'min_samples_leaf': 30, 'min_samples_split': 50}\n"
     ]
    }
   ],
   "source": [
    "# Define feature selection method\n",
    "from sklearn.model_selection import GridSearchCV\n",
    "model2 = DecisionTreeClassifier()\n",
    "\n",
    "params = {\n",
    "    'min_samples_split'      : [ 50,60,70,80,90,100],\n",
    "    'max_depth'            : [3,4,5,6,7,8],\n",
    "    'min_samples_leaf'       : [30,50,75,100],\n",
    "}\n",
    "search = GridSearchCV(model2, params, scoring='accuracy', n_jobs=-1, cv=3)\n",
    "CV_model2 = search.fit(X_train, y_train)\n",
    "\n",
    "# summarize result\n",
    "print('Best Score: %s' % CV_model2.best_score_)\n",
    "print('Best Hyperparameters: %s' % CV_model2.best_params_)"
   ]
  },
  {
   "cell_type": "markdown",
   "id": "eef2f9f4",
   "metadata": {},
   "source": [
    "on a réexcuté l'algorithme avec les nouveaux paramétres "
   ]
  },
  {
   "cell_type": "code",
   "execution_count": 134,
   "id": "ba9f5b73",
   "metadata": {},
   "outputs": [
    {
     "name": "stdout",
     "output_type": "stream",
     "text": [
      "[[5089   10]\n",
      " [  85  173]]\n",
      "              precision    recall  f1-score   support\n",
      "\n",
      "           0       0.98      1.00      0.99      5099\n",
      "           1       0.95      0.67      0.78       258\n",
      "\n",
      "    accuracy                           0.98      5357\n",
      "   macro avg       0.96      0.83      0.89      5357\n",
      "weighted avg       0.98      0.98      0.98      5357\n",
      "\n"
     ]
    }
   ],
   "source": [
    "DT = DecisionTreeClassifier(max_depth= 3,min_samples_leaf= 30, min_samples_split= 50)\n",
    "DT.fit(X_train, y_train)\n",
    "pred_dt = DT.predict(X_test)\n",
    "\n",
    "# Evaluate\n",
    "print(confusion_matrix(y_test, pred_dt))\n",
    "print(classification_report(y_test, pred_dt))"
   ]
  },
  {
   "cell_type": "markdown",
   "id": "3b4d0d2d",
   "metadata": {},
   "source": [
    "ce modéle poséde le score f1 le plus élevé"
   ]
  },
  {
   "cell_type": "code",
   "execution_count": 141,
   "id": "4bdf5d50",
   "metadata": {},
   "outputs": [
    {
     "data": {
      "image/png": "[encoded data removed]",
      "text/plain": [
       "<Figure size 1440x2160 with 1 Axes>"
      ]
     },
     "metadata": {
      "needs_background": "light"
     },
     "output_type": "display_data"
    }
   ],
   "source": [
    "from sklearn.tree import plot_tree\n",
    "plt.figure(figsize=(20,30))\n",
    "a = plot_tree(DT, \n",
    "              feature_names=data.drop('Rachat', axis=1).columns,    \n",
    "              class_names=data['Rachat'].unique().astype(str), \n",
    "              filled=True, \n",
    "              rounded=True, \n",
    "              fontsize=14)\n",
    "plt.savefig('DT.png')"
   ]
  },
  {
   "cell_type": "code",
   "execution_count": 162,
   "id": "f9204d0e",
   "metadata": {},
   "outputs": [
    {
     "data": {
      "image/png": "[encoded data removed]",
      "text/plain": [
       "<Figure size 432x288 with 1 Axes>"
      ]
     },
     "metadata": {
      "needs_background": "light"
     },
     "output_type": "display_data"
    }
   ],
   "source": [
    "feat_importances= pd.Series(DT.feature_importances_, index=X_train.columns)\n",
    "feat_importances.nlargest(10).plot(kind='barh')\n",
    "plt.title('Feature Importances (DT)')\n",
    "plt.savefig('DT_featimp.png')\n",
    "plt.show()"
   ]
  },
  {
   "cell_type": "code",
   "execution_count": 151,
   "id": "24674a1c",
   "metadata": {},
   "outputs": [
    {
     "name": "stdout",
     "output_type": "stream",
     "text": [
      "[0.         0.         0.         0.         0.88486668 0.\n",
      " 0.11513332]\n"
     ]
    }
   ],
   "source": [
    "print(DT.feature_importances_)"
   ]
  },
  {
   "cell_type": "markdown",
   "id": "d30d8402",
   "metadata": {},
   "source": [
    "### courbe ROC"
   ]
  },
  {
   "cell_type": "code",
   "execution_count": 150,
   "id": "9a638fac",
   "metadata": {},
   "outputs": [
    {
     "data": {
      "image/png": "[encoded data removed]",
      "text/plain": [
       "<Figure size 360x360 with 1 Axes>"
      ]
     },
     "metadata": {
      "needs_background": "light"
     },
     "output_type": "display_data"
    }
   ],
   "source": [
    "from sklearn import metrics\n",
    "auc_dt = metrics.roc_auc_score(y_test,pred_dt)\n",
    "import matplotlib.pyplot as plt\n",
    "plt.figure (figsize= (5, 5)) \n",
    "\n",
    "def plot_roc_curve(fper, tper):\n",
    "    \n",
    "    plt.plot(fper, tper, color='blue', label=\"ROC curve (area = %0.2f)\" % auc_dt)\n",
    "    plt.plot([0, 1], [0, 1], color='black', linestyle='--')\n",
    "    plt.xlabel('False Positive Rate')\n",
    "    plt.ylabel('True Positive Rate')\n",
    "    plt.title('DT')\n",
    "    plt.legend()  \n",
    "plt.savefig('roc-dt')\n",
    "fper, tper, thresholds = roc_curve(y_test, pred_dt)\n",
    "plot_roc_curve(fper, tper)\n",
    "plt.show()\n",
    "\n"
   ]
  },
  {
   "cell_type": "markdown",
   "id": "cd309217",
   "metadata": {},
   "source": [
    "essayons maintenant avec SMOTE et SMOTEENN"
   ]
  },
  {
   "cell_type": "markdown",
   "id": "e3210d6b",
   "metadata": {},
   "source": [
    "**SMOTE**"
   ]
  },
  {
   "cell_type": "code",
   "execution_count": 86,
   "id": "9da0c78e",
   "metadata": {},
   "outputs": [],
   "source": [
    "from imblearn.over_sampling import SMOTE \n",
    "smote = SMOTE()\n",
    "X_train_sm, y_train_sm =smote.fit_resample(X_train, y_train)\n"
   ]
  },
  {
   "cell_type": "code",
   "execution_count": 152,
   "id": "17ab7240",
   "metadata": {},
   "outputs": [
    {
     "name": "stdout",
     "output_type": "stream",
     "text": [
      "Best Score: 0.948985076339337\n",
      "Best Hyperparameters: {'max_depth': 8, 'min_samples_leaf': 30, 'min_samples_split': 70}\n"
     ]
    }
   ],
   "source": [
    "# Define feature selection method\n",
    "from sklearn.model_selection import GridSearchCV\n",
    "from sklearn.model_selection import RepeatedStratifiedKFold\n",
    "model2 = DecisionTreeClassifier()\n",
    "\n",
    "params = {\n",
    "    'min_samples_split'      : [ 50,60,70,80,90,100],\n",
    "    'max_depth'            : [3,4,5,6,7,8],\n",
    "    'min_samples_leaf'       : [30,50,75,100],\n",
    "}\n",
    "search = GridSearchCV(model2, params, scoring='f1', n_jobs=-1, cv=3)\n",
    "CV_model2 = search.fit(X_train_sm, y_train_sm)\n",
    "\n",
    "# summarize result\n",
    "print('Best Score: %s' % CV_model2.best_score_)\n",
    "print('Best Hyperparameters: %s' % CV_model2.best_params_)"
   ]
  },
  {
   "cell_type": "code",
   "execution_count": 153,
   "id": "72f7ae67",
   "metadata": {},
   "outputs": [
    {
     "name": "stdout",
     "output_type": "stream",
     "text": [
      "[[4874  225]\n",
      " [  47  211]]\n",
      "              precision    recall  f1-score   support\n",
      "\n",
      "           0       0.99      0.96      0.97      5099\n",
      "           1       0.48      0.82      0.61       258\n",
      "\n",
      "    accuracy                           0.95      5357\n",
      "   macro avg       0.74      0.89      0.79      5357\n",
      "weighted avg       0.97      0.95      0.96      5357\n",
      "\n"
     ]
    }
   ],
   "source": [
    "DT_sm = DecisionTreeClassifier(max_depth= 8,min_samples_leaf= 30, min_samples_split= 70)\n",
    "DT_sm.fit(X_train_sm, y_train_sm)\n",
    "pred_dt_sm = DT_sm.predict(X_test)\n",
    "# Evaluate\n",
    "print(confusion_matrix(y_test, pred_dt_sm))\n",
    "print(classification_report(y_test, pred_dt_sm))"
   ]
  },
  {
   "cell_type": "markdown",
   "id": "4f2e9400",
   "metadata": {},
   "source": [
    "**SMOTEENN**"
   ]
  },
  {
   "cell_type": "code",
   "execution_count": 89,
   "id": "cdde67a1",
   "metadata": {},
   "outputs": [],
   "source": [
    "from imblearn.combine import SMOTEENN\n",
    "from imblearn.under_sampling import EditedNearestNeighbours"
   ]
  },
  {
   "cell_type": "code",
   "execution_count": 90,
   "id": "dc51676a",
   "metadata": {},
   "outputs": [],
   "source": [
    "sm_enn=SMOTEENN()\n",
    "X_train_enn, y_train_enn =sm_enn.fit_resample(X_train, y_train)"
   ]
  },
  {
   "cell_type": "code",
   "execution_count": 91,
   "id": "31ac65d4",
   "metadata": {},
   "outputs": [
    {
     "name": "stdout",
     "output_type": "stream",
     "text": [
      "Best Score: 0.9641773055001894\n",
      "Best Hyperparameters: {'max_depth': 7, 'min_samples_leaf': 30, 'min_samples_split': 30}\n"
     ]
    }
   ],
   "source": [
    "# Define feature selection method\n",
    "from sklearn.model_selection import GridSearchCV\n",
    "from sklearn.model_selection import RepeatedStratifiedKFold\n",
    "model2 = DecisionTreeClassifier()\n",
    "\n",
    "params = {\n",
    "    'min_samples_split'      : [20,30,40,50,60,70,80,90,100],\n",
    "    'max_depth'            : [3,4,5,6,7,8],\n",
    "    'min_samples_leaf'       : [30,50,75,100],\n",
    "}\n",
    "search = GridSearchCV(model2, params, scoring='accuracy', n_jobs=-1, cv=3)\n",
    "CV_enn = search.fit(X_train_enn, y_train_enn)\n",
    "\n",
    "# summarize result\n",
    "print('Best Score: %s' % CV_enn.best_score_)\n",
    "print('Best Hyperparameters: %s' % CV_enn.best_params_)"
   ]
  },
  {
   "cell_type": "code",
   "execution_count": 138,
   "id": "0f7cf917",
   "metadata": {},
   "outputs": [
    {
     "name": "stdout",
     "output_type": "stream",
     "text": [
      "[[4810  289]\n",
      " [  34  224]]\n",
      "              precision    recall  f1-score   support\n",
      "\n",
      "           0       0.99      0.94      0.97      5099\n",
      "           1       0.44      0.87      0.58       258\n",
      "\n",
      "    accuracy                           0.94      5357\n",
      "   macro avg       0.71      0.91      0.77      5357\n",
      "weighted avg       0.97      0.94      0.95      5357\n",
      "\n"
     ]
    }
   ],
   "source": [
    "DT_enn = DecisionTreeClassifier(max_depth=7 ,min_samples_leaf= 30, min_samples_split= 30)\n",
    "DT_enn.fit(X_train_enn, y_train_enn)\n",
    "pred_dt_enn= DT_enn.predict(X_test)\n",
    "\n",
    "# Evaluate\n",
    "print(confusion_matrix(y_test, pred_dt_enn))\n",
    "print(classification_report(y_test, pred_dt_enn))\n"
   ]
  },
  {
   "cell_type": "markdown",
   "id": "3d2ea2e6",
   "metadata": {},
   "source": [
    "## RONDOM FOREST"
   ]
  },
  {
   "cell_type": "markdown",
   "id": "b83145fc",
   "metadata": {},
   "source": [
    "**SANS SMOTE**"
   ]
  },
  {
   "cell_type": "code",
   "execution_count": 154,
   "id": "6f6b5a33",
   "metadata": {},
   "outputs": [],
   "source": [
    "from sklearn.ensemble import RandomForestClassifier\n",
    "from sklearn.metrics import accuracy_score, recall_score, confusion_matrix\n",
    "\n",
    "rf=RandomForestClassifier()\n",
    "rf.fit(X_train, y_train)\n",
    "pred_rf= rf.predict(X_test)\n"
   ]
  },
  {
   "cell_type": "code",
   "execution_count": 155,
   "id": "67da7dad",
   "metadata": {},
   "outputs": [
    {
     "name": "stdout",
     "output_type": "stream",
     "text": [
      "[[5085   14]\n",
      " [  83  175]]\n",
      "              precision    recall  f1-score   support\n",
      "\n",
      "           0       0.98      1.00      0.99      5099\n",
      "           1       0.93      0.68      0.78       258\n",
      "\n",
      "    accuracy                           0.98      5357\n",
      "   macro avg       0.95      0.84      0.89      5357\n",
      "weighted avg       0.98      0.98      0.98      5357\n",
      "\n"
     ]
    }
   ],
   "source": [
    "# Evaluate\n",
    "print(confusion_matrix(y_test, pred_rf))\n",
    "print(classification_report(y_test, pred_rf))"
   ]
  },
  {
   "cell_type": "code",
   "execution_count": 157,
   "id": "65fc71d1",
   "metadata": {
    "scrolled": true
   },
   "outputs": [
    {
     "data": {
      "image/png": "[encoded data removed]",
      "text/plain": [
       "<Figure size 360x360 with 1 Axes>"
      ]
     },
     "metadata": {
      "needs_background": "light"
     },
     "output_type": "display_data"
    }
   ],
   "source": [
    "from sklearn import metrics\n",
    "auc_rf = metrics.roc_auc_score(y_test,pred_rf)\n",
    "import matplotlib.pyplot as plt\n",
    "plt.figure (figsize= (5, 5)) \n",
    "\n",
    "def plot_roc_curve(fper, tper):\n",
    "    \n",
    "    plt.plot(fper, tper, color='blue', label=\"ROC curve (area = %0.2f)\" % auc_rf)\n",
    "    plt.plot([0, 1], [0, 1], color='black', linestyle='--')\n",
    "    plt.xlabel('False Positive Rate')\n",
    "    plt.ylabel('True Positive Rate')\n",
    "    plt.title('RF')\n",
    "    plt.legend()  \n",
    "\n",
    "fper, tper, thresholds = roc_curve(y_test, pred_rf)\n",
    "plot_roc_curve(fper, tper)\n",
    "plt.savefig('roc-RF')\n",
    "plt.show()\n",
    "\n"
   ]
  },
  {
   "cell_type": "code",
   "execution_count": 101,
   "id": "5916e980",
   "metadata": {},
   "outputs": [
    {
     "data": {
      "text/html": [
       "<style>#sk-container-id-1 {color: black;background-color: white;}#sk-container-id-1 pre{padding: 0;}#sk-container-id-1 div.sk-toggleable {background-color: white;}#sk-container-id-1 label.sk-toggleable__label {cursor: pointer;display: block;width: 100%;margin-bottom: 0;padding: 0.3em;box-sizing: border-box;text-align: center;}#sk-container-id-1 label.sk-toggleable__label-arrow:before {content: \"▸\";float: left;margin-right: 0.25em;color: #696969;}#sk-container-id-1 label.sk-toggleable__label-arrow:hover:before {color: black;}#sk-container-id-1 div.sk-estimator:hover label.sk-toggleable__label-arrow:before {color: black;}#sk-container-id-1 div.sk-toggleable__content {max-height: 0;max-width: 0;overflow: hidden;text-align: left;background-color: #f0f8ff;}#sk-container-id-1 div.sk-toggleable__content pre {margin: 0.2em;color: black;border-radius: 0.25em;background-color: #f0f8ff;}#sk-container-id-1 input.sk-toggleable__control:checked~div.sk-toggleable__content {max-height: 200px;max-width: 100%;overflow: auto;}#sk-container-id-1 input.sk-toggleable__control:checked~label.sk-toggleable__label-arrow:before {content: \"▾\";}#sk-container-id-1 div.sk-estimator input.sk-toggleable__control:checked~label.sk-toggleable__label {background-color: #d4ebff;}#sk-container-id-1 div.sk-label input.sk-toggleable__control:checked~label.sk-toggleable__label {background-color: #d4ebff;}#sk-container-id-1 input.sk-hidden--visually {border: 0;clip: rect(1px 1px 1px 1px);clip: rect(1px, 1px, 1px, 1px);height: 1px;margin: -1px;overflow: hidden;padding: 0;position: absolute;width: 1px;}#sk-container-id-1 div.sk-estimator {font-family: monospace;background-color: #f0f8ff;border: 1px dotted black;border-radius: 0.25em;box-sizing: border-box;margin-bottom: 0.5em;}#sk-container-id-1 div.sk-estimator:hover {background-color: #d4ebff;}#sk-container-id-1 div.sk-parallel-item::after {content: \"\";width: 100%;border-bottom: 1px solid gray;flex-grow: 1;}#sk-container-id-1 div.sk-label:hover label.sk-toggleable__label {background-color: #d4ebff;}#sk-container-id-1 div.sk-serial::before {content: \"\";position: absolute;border-left: 1px solid gray;box-sizing: border-box;top: 0;bottom: 0;left: 50%;z-index: 0;}#sk-container-id-1 div.sk-serial {display: flex;flex-direction: column;align-items: center;background-color: white;padding-right: 0.2em;padding-left: 0.2em;position: relative;}#sk-container-id-1 div.sk-item {position: relative;z-index: 1;}#sk-container-id-1 div.sk-parallel {display: flex;align-items: stretch;justify-content: center;background-color: white;position: relative;}#sk-container-id-1 div.sk-item::before, #sk-container-id-1 div.sk-parallel-item::before {content: \"\";position: absolute;border-left: 1px solid gray;box-sizing: border-box;top: 0;bottom: 0;left: 50%;z-index: -1;}#sk-container-id-1 div.sk-parallel-item {display: flex;flex-direction: column;z-index: 1;position: relative;background-color: white;}#sk-container-id-1 div.sk-parallel-item:first-child::after {align-self: flex-end;width: 50%;}#sk-container-id-1 div.sk-parallel-item:last-child::after {align-self: flex-start;width: 50%;}#sk-container-id-1 div.sk-parallel-item:only-child::after {width: 0;}#sk-container-id-1 div.sk-dashed-wrapped {border: 1px dashed gray;margin: 0 0.4em 0.5em 0.4em;box-sizing: border-box;padding-bottom: 0.4em;background-color: white;}#sk-container-id-1 div.sk-label label {font-family: monospace;font-weight: bold;display: inline-block;line-height: 1.2em;}#sk-container-id-1 div.sk-label-container {text-align: center;}#sk-container-id-1 div.sk-container {/* jupyter's `normalize.less` sets `[hidden] { display: none; }` but bootstrap.min.css set `[hidden] { display: none !important; }` so we also need the `!important` here to be able to override the default hidden behavior on the sphinx rendered scikit-learn.org. See: https://github.com/scikit-learn/scikit-learn/issues/21755 */display: inline-block !important;position: relative;}#sk-container-id-1 div.sk-text-repr-fallback {display: none;}</style><div id=\"sk-container-id-1\" class=\"sk-top-container\"><div class=\"sk-text-repr-fallback\"><pre>RandomForestClassifier(max_depth=8, max_features=2, n_estimators=200,\n",
       "                       random_state=30)</pre><b>In a Jupyter environment, please rerun this cell to show the HTML representation or trust the notebook. <br />On GitHub, the HTML representation is unable to render, please try loading this page with nbviewer.org.</b></div><div class=\"sk-container\" hidden><div class=\"sk-item\"><div class=\"sk-estimator sk-toggleable\"><input class=\"sk-toggleable__control sk-hidden--visually\" id=\"sk-estimator-id-1\" type=\"checkbox\" checked><label for=\"sk-estimator-id-1\" class=\"sk-toggleable__label sk-toggleable__label-arrow\">RandomForestClassifier</label><div class=\"sk-toggleable__content\"><pre>RandomForestClassifier(max_depth=8, max_features=2, n_estimators=200,\n",
       "                       random_state=30)</pre></div></div></div></div></div>"
      ],
      "text/plain": [
       "RandomForestClassifier(max_depth=8, max_features=2, n_estimators=200,\n",
       "                       random_state=30)"
      ]
     },
     "execution_count": 101,
     "metadata": {},
     "output_type": "execute_result"
    }
   ],
   "source": [
    "from sklearn.ensemble import RandomForestClassifier\n",
    "from sklearn.metrics import accuracy_score, recall_score, confusion_matrix\n",
    "\n",
    "rfc=RandomForestClassifier(random_state=30)\n",
    "param_grid = { \n",
    "    'n_estimators': [100,200,300,400,500],\n",
    "    'max_features': [2,3,4,5],\n",
    "    'max_depth' : [4,5,6,7,8],\n",
    "   \n",
    "}\n",
    "CV_rfc = GridSearchCV(estimator=rfc, param_grid=param_grid, cv= 5)\n",
    "CV_rfc.fit(X_train, y_train)\n",
    "CV_rfc.best_params_\n",
    "CV_rfc.best_estimator_"
   ]
  },
  {
   "cell_type": "code",
   "execution_count": 158,
   "id": "bab8d5ab",
   "metadata": {},
   "outputs": [
    {
     "name": "stdout",
     "output_type": "stream",
     "text": [
      "[[5088   11]\n",
      " [  86  172]]\n",
      "              precision    recall  f1-score   support\n",
      "\n",
      "           0       0.98      1.00      0.99      5099\n",
      "           1       0.94      0.67      0.78       258\n",
      "\n",
      "    accuracy                           0.98      5357\n",
      "   macro avg       0.96      0.83      0.89      5357\n",
      "weighted avg       0.98      0.98      0.98      5357\n",
      "\n"
     ]
    }
   ],
   "source": [
    "rf_cv=RandomForestClassifier(max_depth=8, max_features=2, n_estimators=200,\n",
    "                       random_state=30)\n",
    "rf_cv.fit(X_train, y_train)\n",
    "pred_rfcv= rf_cv.predict(X_test)\n",
    "# Evaluate\n",
    "print(confusion_matrix(y_test, pred_rfcv))\n",
    "print(classification_report(y_test, pred_rfcv))"
   ]
  },
  {
   "cell_type": "code",
   "execution_count": 163,
   "id": "3ab1adb1",
   "metadata": {},
   "outputs": [
    {
     "data": {
      "image/png": "[encoded data removed]",
      "text/plain": [
       "<Figure size 432x288 with 1 Axes>"
      ]
     },
     "metadata": {
      "needs_background": "light"
     },
     "output_type": "display_data"
    }
   ],
   "source": [
    "feat_importances= pd.Series(rf_cv.feature_importances_, index=X_train.columns)\n",
    "feat_importances.nlargest(10).plot(kind='barh')\n",
    "plt.title('Feature Importances (RF)')\n",
    "plt.savefig('rffeatureimpo.png')\n",
    "plt.show()"
   ]
  },
  {
   "cell_type": "code",
   "execution_count": 165,
   "id": "4c6ad57c",
   "metadata": {},
   "outputs": [
    {
     "data": {
      "text/plain": [
       "Age_Survenance                   0.577764\n",
       "Ancienneté_Contrat_Survenance    0.296304\n",
       "Age_Souscription                 0.074180\n",
       "Prime                            0.038421\n",
       "Fréquence                        0.006104\n",
       "Sexe                             0.004454\n",
       "Réseau_Distribution              0.002773\n",
       "dtype: float64"
      ]
     },
     "execution_count": 165,
     "metadata": {},
     "output_type": "execute_result"
    }
   ],
   "source": [
    "feat_importances.nlargest(10)"
   ]
  },
  {
   "cell_type": "markdown",
   "id": "bab2fd91",
   "metadata": {},
   "source": [
    "**AVEC SMOTE**"
   ]
  },
  {
   "cell_type": "code",
   "execution_count": 166,
   "id": "5df9dcf2",
   "metadata": {},
   "outputs": [
    {
     "name": "stdout",
     "output_type": "stream",
     "text": [
      "[[4926  173]\n",
      " [  44  214]]\n",
      "              precision    recall  f1-score   support\n",
      "\n",
      "           0       0.99      0.97      0.98      5099\n",
      "           1       0.55      0.83      0.66       258\n",
      "\n",
      "    accuracy                           0.96      5357\n",
      "   macro avg       0.77      0.90      0.82      5357\n",
      "weighted avg       0.97      0.96      0.96      5357\n",
      "\n"
     ]
    }
   ],
   "source": [
    "rf_sm = RandomForestClassifier( max_depth=8, max_features=2,\n",
    "                       n_estimators=100, random_state=30)\n",
    "rf_sm.fit(X_train_sm, y_train_sm)\n",
    "pred_rf_sm = rf_sm.predict(X_test)\n",
    "\n",
    "# Evaluate\n",
    "print(confusion_matrix(y_test, pred_rf_sm))\n",
    "print(classification_report(y_test, pred_rf_sm))"
   ]
  },
  {
   "cell_type": "markdown",
   "id": "5d1056bc",
   "metadata": {},
   "source": [
    "# XGBOOST"
   ]
  },
  {
   "cell_type": "code",
   "execution_count": 167,
   "id": "53fd4951",
   "metadata": {},
   "outputs": [
    {
     "name": "stdout",
     "output_type": "stream",
     "text": [
      "[[5083   16]\n",
      " [  76  182]]\n",
      "              precision    recall  f1-score   support\n",
      "\n",
      "           0       0.99      1.00      0.99      5099\n",
      "           1       0.92      0.71      0.80       258\n",
      "\n",
      "    accuracy                           0.98      5357\n",
      "   macro avg       0.95      0.85      0.89      5357\n",
      "weighted avg       0.98      0.98      0.98      5357\n",
      "\n"
     ]
    }
   ],
   "source": [
    "import xgboost as xgb\n",
    "xgb = xgb.XGBClassifier()\n",
    "xgb.fit(X_train, y_train)\n",
    "pred_xgb = xgb.predict(X_test)\n",
    "\n",
    "\n",
    "# Evaluate\n",
    "print(confusion_matrix(y_test, pred_xgb))\n",
    "print(classification_report(y_test, pred_xgb))\n"
   ]
  },
  {
   "cell_type": "code",
   "execution_count": 168,
   "id": "1baa8d15",
   "metadata": {},
   "outputs": [
    {
     "name": "stdout",
     "output_type": "stream",
     "text": [
      "[[5084   15]\n",
      " [  76  182]]\n",
      "              precision    recall  f1-score   support\n",
      "\n",
      "           0       0.99      1.00      0.99      5099\n",
      "           1       0.92      0.71      0.80       258\n",
      "\n",
      "    accuracy                           0.98      5357\n",
      "   macro avg       0.95      0.85      0.90      5357\n",
      "weighted avg       0.98      0.98      0.98      5357\n",
      "\n"
     ]
    }
   ],
   "source": [
    "import xgboost as xgb\n",
    "xgb = xgb.XGBClassifier(learning_rate= 0.1,n_estimators= 1000,max_depth= 6)\n",
    "xgb.fit(X_train, y_train)\n",
    "pred_xgb = xgb.predict(X_test)\n",
    "\n",
    "\n",
    "# Evaluate\n",
    "print(confusion_matrix(y_test, pred_xgb))\n",
    "print(classification_report(y_test, pred_xgb))\n"
   ]
  },
  {
   "cell_type": "code",
   "execution_count": 169,
   "id": "3839a46e",
   "metadata": {},
   "outputs": [
    {
     "data": {
      "image/png": "[encoded data removed]",
      "text/plain": [
       "<Figure size 432x288 with 1 Axes>"
      ]
     },
     "metadata": {
      "needs_background": "light"
     },
     "output_type": "display_data"
    }
   ],
   "source": [
    "feat_importances_xgb= pd.Series(xgb.feature_importances_, index=X_train.columns)\n",
    "feat_importances_xgb.nlargest(10).plot(kind='barh')\n",
    "plt.show()"
   ]
  },
  {
   "cell_type": "code",
   "execution_count": 170,
   "id": "39b8e622",
   "metadata": {},
   "outputs": [
    {
     "data": {
      "text/plain": [
       "Age_Survenance                   0.389039\n",
       "Ancienneté_Contrat_Survenance    0.165415\n",
       "Réseau_Distribution              0.118672\n",
       "Fréquence                        0.106227\n",
       "Sexe                             0.097617\n",
       "Age_Souscription                 0.064734\n",
       "Prime                            0.058295\n",
       "dtype: float32"
      ]
     },
     "execution_count": 170,
     "metadata": {},
     "output_type": "execute_result"
    }
   ],
   "source": [
    "feat_importances_xgb.nlargest(10)"
   ]
  },
  {
   "cell_type": "markdown",
   "id": "ab42330a",
   "metadata": {},
   "source": [
    "Avec SMOTE"
   ]
  },
  {
   "cell_type": "code",
   "execution_count": 171,
   "id": "1001b21c",
   "metadata": {
    "scrolled": true
   },
   "outputs": [
    {
     "name": "stdout",
     "output_type": "stream",
     "text": [
      "[[5066   33]\n",
      " [  59  199]]\n",
      "              precision    recall  f1-score   support\n",
      "\n",
      "           0       0.99      0.99      0.99      5099\n",
      "           1       0.86      0.77      0.81       258\n",
      "\n",
      "    accuracy                           0.98      5357\n",
      "   macro avg       0.92      0.88      0.90      5357\n",
      "weighted avg       0.98      0.98      0.98      5357\n",
      "\n"
     ]
    }
   ],
   "source": [
    "\n",
    "xgb.fit(X_train_sm, y_train_sm)\n",
    "predxgb_sm = xgb.predict(X_test)\n",
    "# Evaluate\n",
    "print(confusion_matrix(y_test, predxgb_sm))\n",
    "print(classification_report(y_test, predxgb_sm))\n"
   ]
  },
  {
   "cell_type": "markdown",
   "id": "95a8b661",
   "metadata": {},
   "source": [
    "Pas d'amélioration avec smote "
   ]
  },
  {
   "cell_type": "code",
   "execution_count": 172,
   "id": "d182b654",
   "metadata": {},
   "outputs": [
    {
     "name": "stdout",
     "output_type": "stream",
     "text": [
      "[[5005   94]\n",
      " [  48  210]]\n",
      "              precision    recall  f1-score   support\n",
      "\n",
      "           0       0.99      0.98      0.99      5099\n",
      "           1       0.69      0.81      0.75       258\n",
      "\n",
      "    accuracy                           0.97      5357\n",
      "   macro avg       0.84      0.90      0.87      5357\n",
      "weighted avg       0.98      0.97      0.97      5357\n",
      "\n"
     ]
    }
   ],
   "source": [
    "\n",
    "xgb.fit(X_train_enn, y_train_enn)\n",
    "predxgb_enn= xgb.predict(X_test)\n",
    "\n",
    "# Evaluate\n",
    "print(confusion_matrix(y_test, predxgb_enn))\n",
    "print(classification_report(y_test, predxgb_enn))\n"
   ]
  },
  {
   "cell_type": "code",
   "execution_count": 173,
   "id": "8fe69e38",
   "metadata": {},
   "outputs": [
    {
     "data": {
      "image/png": "[encoded data removed]",
      "text/plain": [
       "<Figure size 360x360 with 1 Axes>"
      ]
     },
     "metadata": {
      "needs_background": "light"
     },
     "output_type": "display_data"
    }
   ],
   "source": [
    "from sklearn import metrics\n",
    "auc_xgb = metrics.roc_auc_score(y_test,pred_xgb)\n",
    "import matplotlib.pyplot as plt\n",
    "plt.figure (figsize= (5, 5)) \n",
    "\n",
    "def plot_roc_curve(fper, tper):\n",
    "    \n",
    "    plt.plot(fper, tper, color='blue', label=\"ROC curve (area = %0.2f)\" % auc_xgb)\n",
    "    plt.plot([0, 1], [0, 1], color='black', linestyle='--')\n",
    "    plt.xlabel('False Positive Rate')\n",
    "    plt.ylabel('True Positive Rate')\n",
    "    plt.title('XGB')\n",
    "    plt.legend()  \n",
    "\n",
    "fper, tper, thresholds = roc_curve(y_test, pred_xgb)\n",
    "plot_roc_curve(fper, tper)\n",
    "plt.savefig('roc-xgb')\n",
    "plt.show()\n"
   ]
  },
  {
   "cell_type": "code",
   "execution_count": 178,
   "id": "32507f6b",
   "metadata": {},
   "outputs": [
    {
     "data": {
      "image/png": "[encoded data removed]",
      "text/plain": [
       "<Figure size 720x720 with 4 Axes>"
      ]
     },
     "metadata": {
      "needs_background": "light"
     },
     "output_type": "display_data"
    }
   ],
   "source": [
    "import matplotlib.pyplot as plt\n",
    "auc_rf = metrics.roc_auc_score(y_test,pred_rf)\n",
    "auc_rfsm= metrics.roc_auc_score(y_test,pred_rf_sm)\n",
    "plt.figure (figsize= (10, 10)) \n",
    "# Arguments to subplot are (# rows, # cols, index in grid)\n",
    "plt.subplot(2, 2, 1)\n",
    "# Modify left plot here\n",
    "def plot_roc_curve(fper, tper):\n",
    "    plt.plot([0, 1], [0, 1], color='black', linestyle='--')\n",
    "    plt.plot(fper, tper, color='blue',label=\"ROC curve (area = %0.2f)\" % auc2)\n",
    "    plt.xlabel('False Positive Rate')\n",
    "    plt.ylabel('True Positive Rate')\n",
    "    plt.title('LR+SMOTE')\n",
    "    plt.legend()\n",
    "fper, tper, thresholds = roc_curve(y_test, pred_rf)\n",
    "plot_roc_curve(fper, tper)\n",
    "\n",
    "plt.subplot(2, 2, 2)\n",
    "\n",
    "def plot_roc_curve(fper, tper):\n",
    "    \n",
    "    plt.plot(fper, tper, color='blue', label=\"ROC curve (area = %0.2f)\" % auc_dt)\n",
    "    plt.plot([0, 1], [0, 1], color='black', linestyle='--')\n",
    "    plt.xlabel('False Positive Rate')\n",
    "    plt.ylabel('True Positive Rate')\n",
    "    plt.title('DT')\n",
    "    plt.legend()  \n",
    "fper, tper, thresholds = roc_curve(y_test, pred_dt)\n",
    "plot_roc_curve(fper, tper)\n",
    "\n",
    "plt.subplot(2, 2, 3)\n",
    "\n",
    "def plot_roc_curve(fper, tper):\n",
    "    \n",
    "    plt.plot(fper, tper, color='blue', label=\"ROC curve (area = %0.2f)\" % auc_rf)\n",
    "    plt.plot([0, 1], [0, 1], color='black', linestyle='--')\n",
    "    plt.xlabel('False Positive Rate')\n",
    "    plt.ylabel('True Positive Rate')\n",
    "    plt.title('RF')\n",
    "    plt.legend()  \n",
    "\n",
    "fper, tper, thresholds = roc_curve(y_test, pred_rf)\n",
    "plot_roc_curve(fper, tper)\n",
    "plt.subplot(2, 2, 4)\n",
    "def plot_roc_curve(fper, tper):\n",
    "    \n",
    "    plt.plot(fper, tper, color='blue', label=\"ROC curve (area = %0.2f)\" % auc_xgb)\n",
    "    plt.plot([0, 1], [0, 1], color='black', linestyle='--')\n",
    "    plt.xlabel('False Positive Rate')\n",
    "    plt.ylabel('True Positive Rate')\n",
    "    plt.title('XGB')\n",
    "    plt.legend()  \n",
    "\n",
    "fper, tper, thresholds = roc_curve(y_test, pred_xgb)\n",
    "plot_roc_curve(fper, tper)\n",
    "\n",
    "plt.savefig('roc-all')\n",
    "plt.show()\n"
   ]
  },
  {
   "cell_type": "code",
   "execution_count": null,
   "id": "fb677165",
   "metadata": {},
   "outputs": [],
   "source": []
  }
 ],
 "metadata": {
  "kernelspec": {
   "display_name": "Python 3 (ipykernel)",
   "language": "python",
   "name": "python3"
  },
  "language_info": {
   "codemirror_mode": {
    "name": "ipython",
    "version": 3
   },
   "file_extension": ".py",
   "mimetype": "text/x-python",
   "name": "python",
   "nbconvert_exporter": "python",
   "pygments_lexer": "ipython3",
   "version": "3.9.12"
  }
 },
 "nbformat": 4,
 "nbformat_minor": 5
}
